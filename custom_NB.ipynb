{
 "cells": [
  {
   "cell_type": "markdown",
   "metadata": {},
   "source": [
    "Import all data\n"
   ]
  },
  {
   "cell_type": "code",
   "execution_count": 12,
   "metadata": {},
   "outputs": [],
   "source": [
    "import pandas as pd\n",
    "\n",
    "df_all_reviews = pd.read_csv('reviews.csv')\n",
    "\n",
    "df_negative_reviews = df_all_reviews[:2000]\n",
    "\n",
    "df_positive_reviews = df_all_reviews[2000:]\n"
   ]
  },
  {
   "cell_type": "code",
   "execution_count": 20,
   "metadata": {},
   "outputs": [
    {
     "name": "stdout",
     "output_type": "stream",
     "text": [
      "You know, Robin Williams, God bless him, is constantly shooting himself in the foot lately with all these dumb comedies he has done this decade (with perhaps the exception of \"Death To Smoochy\", which bombed when it came out but is now a cult classic). The dramas he has made lately have been fantastic, especially \"Insomnia\" and \"One Hour Photo\". \"The Night Listener\", despite mediocre reviews and a quick DVD release, is among his best work, period.. . This is a very chilling story, even though it doesn't include a serial killer or anyone that physically dangerous for that matter. The concept of the film is based on an actual case of fraud that still has yet to be officially confirmed. In high school, I read an autobiography by a child named Anthony Godby Johnson, who suffered horrific abuse and eventually contracted AIDS as a result. I was moved by the story until I read reports online that Johnson may not actually exist. When I saw this movie, the confused feelings that Robin Williams so brilliantly portrayed resurfaced in my mind.. . Toni Collette probably gives her best dramatic performance too as the ultimately sociopathic \"caretaker\". Her role was a far cry from those she had in movies like \"Little Miss Sunshine\". There were even times she looked into the camera where I thought she was staring right at me. It takes a good actress to play that sort of role, and it's this understated (yet well reviewed) role that makes Toni Collette probably one of the best actresses of this generation not to have even been nominated for an Academy Award (as of 2008). It's incredible that there is at least one woman in this world who is like this, and it's scary too.. . This is a good, dark film that I highly recommend. Be prepared to be unsettled, though, because this movie leaves you with a strange feeling at the end.\n"
     ]
    }
   ],
   "source": [
    "print(df_positive_reviews.loc[2001][\"Text\"])"
   ]
  },
  {
   "cell_type": "code",
   "execution_count": 4,
   "metadata": {},
   "outputs": [],
   "source": [
    "\n",
    "import string\n",
    "import nltk\n",
    "from nltk.corpus import stopwords\n",
    "from nltk.tokenize import word_tokenize\n",
    "from nltk.stem import WordNetLemmatizer\n",
    "from nltk.util import ngrams\n",
    "from nltk.corpus import wordnet\n",
    "from nltk import pos_tag\n",
    "from nltk.corpus import words as nigger\n",
    "from nltk.corpus import opinion_lexicon\n",
    "# nltk.download('stopwords')\n",
    "# nltk.download('punkt')\n",
    "# nltk.download('wordnet')\n",
    "# nltk.download('averaged_perceptron_tagger')\n",
    "# nltk.download('words')\n",
    "# nltk.download('opinion_lexicon')"
   ]
  },
  {
   "cell_type": "code",
   "execution_count": 10,
   "metadata": {},
   "outputs": [],
   "source": [
    "# from TFIDF import TFIDF\n",
    "from Lemmatizer import lemmatize_text,get_ngrams,concat_feature_list_into_list\n"
   ]
  },
  {
   "cell_type": "code",
   "execution_count": 13,
   "metadata": {},
   "outputs": [
    {
     "name": "stdout",
     "output_type": "stream",
     "text": [
      "--------- raw text-----------\n",
      "This is a very dramatic and suspenseful movie. There are many plots and turns. The story or the director opens question marks on the death row or presumed crimes committed by black people. This film is very well directed by Arne Glimcher and the fine sound of James Newton Howard is excellent. Strong performance of Sean Connery and Ed Harris. If you liked this one don´t miss \"TRUE CRIMES\" or \"THE HURRICANE\". My wife and me gave 8/10.\n",
      "--------- lemmatized text-----------\n",
      "['dramatic', 'suspenseful', 'movie', 'many', 'plot', 'turn', 'story', 'director', 'open', 'question', 'mark', 'death', 'row', 'presume', 'crime', 'commit', 'black', 'people', 'film', 'well', 'direct', 'fine', 'sound', 'excellent', 'Strong', 'performance', 'like', 'one', 'don´t', 'miss', 'wife', 'give', '810']\n",
      "--------- ngrams text-----------\n",
      "[('dramatic',), ('suspenseful',), ('movie',), ('many',), ('plot',), ('turn',), ('story',), ('director',), ('open',), ('question',), ('mark',), ('death',), ('row',), ('presume',), ('crime',), ('commit',), ('black',), ('people',), ('film',), ('well',), ('direct',), ('fine',), ('sound',), ('excellent',), ('Strong',), ('performance',), ('like',), ('one',), ('don´t',), ('miss',), ('wife',), ('give',), ('810',), ('dramatic', 'suspenseful'), ('suspenseful', 'movie'), ('movie', 'many'), ('many', 'plot'), ('plot', 'turn'), ('turn', 'story'), ('story', 'director'), ('director', 'open'), ('open', 'question'), ('question', 'mark'), ('mark', 'death'), ('death', 'row'), ('row', 'presume'), ('presume', 'crime'), ('crime', 'commit'), ('commit', 'black'), ('black', 'people'), ('people', 'film'), ('film', 'well'), ('well', 'direct'), ('direct', 'fine'), ('fine', 'sound'), ('sound', 'excellent'), ('excellent', 'Strong'), ('Strong', 'performance'), ('performance', 'like'), ('like', 'one'), ('one', 'don´t'), ('don´t', 'miss'), ('miss', 'wife'), ('wife', 'give'), ('give', '810')]\n",
      "['dramatic', 'suspenseful', 'movie', 'many', 'plot', 'turn', 'story', 'director', 'open', 'question', 'mark', 'death', 'row', 'presume', 'crime', 'commit', 'black', 'people', 'film', 'well', 'direct', 'fine', 'sound', 'excellent', 'Strong', 'performance', 'like', 'one', 'don´t', 'miss', 'wife', 'give', '810', 'dramaticsuspenseful', 'suspensefulmovie', 'moviemany', 'manyplot', 'plotturn', 'turnstory', 'storydirector', 'directoropen', 'openquestion', 'questionmark', 'markdeath', 'deathrow', 'rowpresume', 'presumecrime', 'crimecommit', 'commitblack', 'blackpeople', 'peoplefilm', 'filmwell', 'welldirect', 'directfine', 'finesound', 'soundexcellent', 'excellentStrong', 'Strongperformance', 'performancelike', 'likeone', 'onedon´t', 'don´tmiss', 'misswife', 'wifegive', 'give810']\n"
     ]
    }
   ],
   "source": [
    "first_two_hundred_pos = []\n",
    "first_two_hundred_neg = []\n",
    "subset = []\n",
    "for x in range(500):\n",
    "  positive_text = df_positive_reviews.loc[2000+x][\"Text\"]\n",
    "  if x == 450:\n",
    "    print(\"--------- raw text-----------\")\n",
    "    print(positive_text)\n",
    "  negative_text = df_negative_reviews.loc[x][\"Text\"]\n",
    "\n",
    "  positive_text = lemmatize_text(positive_text)\n",
    "  # positive_text = lemmatize_bad_words(positive_text)\n",
    "  # positive_text = sliding_window_sentences(positive_text,words,2)\n",
    "  if x == 450:\n",
    "    print(\"--------- lemmatized text-----------\")\n",
    "    print(positive_text)\n",
    "  # negative_text = sliding_window_sentences(negative_text,words,2)\n",
    "  # negative_text = lemmatize_bad_words(negative_text)\n",
    "  negative_text = lemmatize_text(negative_text)\n",
    "\n",
    "  positive_text = get_ngrams(positive_text,2)\n",
    "  if x == 450:\n",
    "    print(\"--------- ngrams text-----------\")\n",
    "    print(positive_text)\n",
    "  negative_text = get_ngrams(negative_text,2)\n",
    "  # print(positive_text)\n",
    "  # print(negative_text)\n",
    "\n",
    "\n",
    "  positive_text = concat_feature_list_into_list(positive_text)\n",
    "  if x == 450:\n",
    "    print(positive_text)\n",
    "  negative_text = concat_feature_list_into_list(negative_text)\n",
    "  # print(positive_text)\n",
    "  # print(negative_text)\n",
    "\n",
    "  first_two_hundred_pos.append([positive_text,1])\n",
    "  first_two_hundred_neg.append([negative_text,0])\n",
    "  subset.append(first_two_hundred_pos[-1])\n",
    "  subset.append(first_two_hundred_neg[-1])\n",
    "\n",
    "\n",
    "subset_features = [subset_data[0] for subset_data in subset]\n",
    "processed_data = [' '.join(tokens) for tokens in subset_features]\n",
    "subset_labels = [subset_data[1] for subset_data in subset]"
   ]
  },
  {
   "cell_type": "code",
   "execution_count": 22,
   "metadata": {},
   "outputs": [
    {
     "name": "stdout",
     "output_type": "stream",
     "text": [
      "1 : second film director Till movie make audience documentary prove point fulfil requirement commercial without dilute essence one successful year release contest big banner bollywood 1983 SmithaPatel act like conscience hero whenever drift away lose composure remind usual heroine stuff run around tree shrub timeshe even give love ruthlessness touch roof top another character play contemporary inspectorturnedalcoholic role convey message end result honest cop rub wrong side system also viewer chance forecast debut captivate cameo ultimately best support actor filmfare complete straight forward personality able adjust extent anger leave half handedly continue Even two decade remember entire crew part par excellence secondfilm filmdirector directorTill Tillmovie moviemake makeaudience audiencedocumentary documentaryprove provepoint pointfulfil fulfilrequirement requirementcommercial commercialwithout withoutdilute diluteessence essenceone onesuccessful successfulyear yearrelease releasecontest contestbig bigbanner bannerbollywood bollywood1983 1983SmithaPatel SmithaPatelact actlike likeconscience consciencehero herowhenever wheneverdrift driftaway awaylose losecomposure composureremind remindusual usualheroine heroinestuff stuffrun runaround aroundtree treeshrub shrubtimeshe timesheeven evengive givelove loveruthlessness ruthlessnesstouch touchroof rooftop topanother anothercharacter characterplay playcontemporary contemporaryinspectorturnedalcoholic inspectorturnedalcoholicrole roleconvey conveymessage messageend endresult resulthonest honestcop coprub rubwrong wrongside sidesystem systemalso alsoviewer viewerchance chanceforecast forecastdebut debutcaptivate captivatecameo cameoultimately ultimatelybest bestsupport supportactor actorfilmfare filmfarecomplete completestraight straightforward forwardpersonality personalityable ableadjust adjustextent extentanger angerleave leavehalf halfhandedly handedlycontinue continueEven Eventwo twodecade decaderemember rememberentire entirecrew crewpart partpar parexcellence\n",
      "0 : make personal mission go responsible film even get rental company give money back argue perpetrate false advertising enough movie p cover art sell Ive do well makeup effect child actually depict versus say raccoon eye Im waste time full detail come main character cop bear raise accent beyond insulting makepersonal personalmission missiongo goresponsible responsiblefilm filmeven evenget getrental rentalcompany companygive givemoney moneyback backargue argueperpetrate perpetratefalse falseadvertising advertisingenough enoughmovie moviep pcover coverart artsell sellIve Ivedo dowell wellmakeup makeupeffect effectchild childactually actuallydepict depictversus versussay sayraccoon raccooneye eyeIm Imwaste wastetime timefull fulldetail detailcome comemain maincharacter charactercop copbear bearraise raiseaccent accentbeyond beyondinsulting\n",
      "1 : absolute classic direction flawless acting superb Words fall short great work definitive movie stand test time Om give stellar performance le actor do best race thrill every moment shake whole badly force rethink many issue confront society story cop start career honest man ultimately degenerate killer first attempt get behind scene expose depressing truth Kudos slew release criminalpoliticianpolice nexus Thus truly trend setter dominate decade moderate box office hit mustsee discern fan absoluteclassic classicdirection directionflawless flawlessacting actingsuperb superbWords Wordsfall fallshort shortgreat greatwork workdefinitive definitivemovie moviestand standtest testtime timeOm Omgive givestellar stellarperformance performancele leactor actordo dobest bestrace racethrill thrillevery everymoment momentshake shakewhole wholebadly badlyforce forcerethink rethinkmany manyissue issueconfront confrontsociety societystory storycop copstart startcareer careerhonest honestman manultimately ultimatelydegenerate degeneratekiller killerfirst firstattempt attemptget getbehind behindscene sceneexpose exposedepressing depressingtruth truthKudos Kudosslew slewrelease releasecriminalpoliticianpolice criminalpoliticianpolicenexus nexusThus Thustruly trulytrend trendsetter setterdominate dominatedecade decademoderate moderatebox boxoffice officehit hitmustsee mustseediscern discernfan\n",
      "0 : Wow go video store tonight mood bad movie find look cover think like bring home put mind want get didnt know crap existed amongst man seem 5 year old write direct nice aspiring director make mad someone actually pay guy need work garbage dump shovel belong rent buy tell thing would ready commit suicide DONT really nothing say Wowgo govideo videostore storetonight tonightmood moodbad badmovie moviefind findlook lookcover coverthink thinklike likebring bringhome homeput putmind mindwant wantget getdidnt didntknow knowcrap crapexisted existedamongst amongstman manseem seem5 5year yearold oldwrite writedirect directnice niceaspiring aspiringdirector directormake makemad madsomeone someoneactually actuallypay payguy guyneed needwork workgarbage garbagedump dumpshovel shovelbelong belongrent rentbuy buytell tellthing thingwould wouldready readycommit commitsuicide suicideDONT DONTreally reallynothing nothingsay\n",
      "1 : Wood isnt particularly good documentary Aesthetically lackluster cheap look people go tangent make unfocused incohesive add charm say oddball picture surround fellow there really way document life career man crew misfit glimpse insight genius ineptness portrayal quality credit genuineness Overall worth watch fan cinema general dont expect brilliance Expect heart Woodisnt isntparticularly particularlygood gooddocumentary documentaryAesthetically Aestheticallylackluster lacklustercheap cheaplook lookpeople peoplego gotangent tangentmake makeunfocused unfocusedincohesive incohesiveadd addcharm charmsay sayoddball oddballpicture picturesurround surroundfellow fellowthere therereally reallyway waydocument documentlife lifecareer careerman mancrew crewmisfit misfitglimpse glimpseinsight insightgenius geniusineptness ineptnessportrayal portrayalquality qualitycredit creditgenuineness genuinenessOverall Overallworth worthwatch watchfan fancinema cinemageneral generaldont dontexpect expectbrilliance brillianceExpect Expectheart\n",
      "0 : hero time go along call movie show watch come ask money back double thats bad acting hole thing cant believe career hit low reduce make 4th rate film 5th secondary actor move expect see beet crap people way usually use single judo chop shoulder blades take opponent guy fall like ton brick something wrong plot unbelievable even excuse visuals read story novel youd leave wonder pick book Steven motion seem obligation effort enthusiasm scene doesnt hate repeat comment stock footage cut aircraft flight pathetic condition shaky scenes deteriorate zappruder assassinate steady clean honest opinion tell waste standard work glimmer man exit wound one review say 12 million dollar budget pay 5 still must concur direct conscientious theater owner would play herotime timego goalong alongcall callmovie movieshow showwatch watchcome comeask askmoney moneyback backdouble doublethats thatsbad badacting actinghole holething thingcant cantbelieve believecareer careerhit hitlow lowreduce reducemake make4th 4thrate ratefilm film5th 5thsecondary secondaryactor actormove moveexpect expectsee seebeet beetcrap crappeople peopleway wayusually usuallyuse usesingle singlejudo judochop chopshoulder shoulderblades bladestake takeopponent opponentguy guyfall falllike liketon tonbrick bricksomething somethingwrong wrongplot plotunbelievable unbelievableeven evenexcuse excusevisuals visualsread readstory storynovel novelyoud youdleave leavewonder wonderpick pickbook bookSteven Stevenmotion motionseem seemobligation obligationeffort effortenthusiasm enthusiasmscene scenedoesnt doesnthate haterepeat repeatcomment commentstock stockfootage footagecut cutaircraft aircraftflight flightpathetic patheticcondition conditionshaky shakyscenes scenesdeteriorate deterioratezappruder zappruderassassinate assassinatesteady steadyclean cleanhonest honestopinion opiniontell tellwaste wastestandard standardwork workglimmer glimmerman manexit exitwound woundone onereview reviewsay say12 12million milliondollar dollarbudget budgetpay pay5 5still stillmust mustconcur concurdirect directconscientious conscientioustheater theaterowner ownerwould wouldplay\n",
      "1 : excellent accurate film McGovern take great pain research document writing pay afraid tell truth even though might draw unfavourable review comment like story clean sweet glossy brings high profile role play find movie well act present applaud poignant unapologetic Well do hat writer actor production crew excellentaccurate accuratefilm filmMcGovern McGoverntake takegreat greatpain painresearch researchdocument documentwriting writingpay payafraid afraidtell telltruth trutheven eventhough thoughmight mightdraw drawunfavourable unfavourablereview reviewcomment commentlike likestory storyclean cleansweet sweetglossy glossybrings bringshigh highprofile profilerole roleplay playfind findmovie moviewell wellact actpresent presentapplaud applaudpoignant poignantunapologetic unapologeticWell Welldo dohat hatwriter writeractor actorproduction productioncrew\n",
      "0 : Unless mentally ill die hard segal fan tire horrendous excuse film 5 minute plot stupid mean bad barely coherent wooden Literally see well act porno Ironically try cash audience lesbian love scene utterly cringeworthy Special wouldnt look place 60 sword sorcery flick suffer insomnia exhaust cure dont make mistake buy ask hour half life back Unlessmentally mentallyill illdie diehard hardsegal segalfan fantire tirehorrendous horrendousexcuse excusefilm film5 5minute minuteplot plotstupid stupidmean meanbad badbarely barelycoherent coherentwooden woodenLiterally Literallysee seewell wellact actporno pornoIronically Ironicallytry trycash cashaudience audiencelesbian lesbianlove lovescene sceneutterly utterlycringeworthy cringeworthySpecial Specialwouldnt wouldntlook lookplace place60 60sword swordsorcery sorceryflick flicksuffer sufferinsomnia insomniaexhaust exhaustcure curedont dontmake makemistake mistakebuy buyask askhour hourhalf halflife lifeback\n",
      "1 : joke like cliché top guy black oily skin kinda spooky hilarious start catch thing team anymore way else would sarcasm love plot season 8 little less admit character great actor pick facial expression theoretically possible exciting oops go also trait drive parent conclude think good another three especially keep pack episode humor drama action forth jokelike likecliché clichétop topguy guyblack blackoily oilyskin skinkinda kindaspooky spookyhilarious hilariousstart startcatch catchthing thingteam teamanymore anymoreway wayelse elsewould wouldsarcasm sarcasmlove loveplot plotseason season8 8little littleless lessadmit admitcharacter charactergreat greatactor actorpick pickfacial facialexpression expressiontheoretically theoreticallypossible possibleexciting excitingoops oopsgo goalso alsotrait traitdrive driveparent parentconclude concludethink thinkgood goodanother anotherthree threeespecially especiallykeep keeppack packepisode episodehumor humordrama dramaaction actionforth\n",
      "0 : watch movie Let go thing think could improve act writing direct special effect camera crew sound lighting also seem though writer idea anything Apparently back 2007 dollar strong buy super advance stealth bomber completely invisible 75 million Nowadays cost 3 billion cant fly middle east hour random lesbian scene didnt mind like lame attempt get guy see would randomly zoom actor skip Oh yeah since predictable hell rank right watchmovie movieLet Letgo gothing thingthink thinkcould couldimprove improveact actwriting writingdirect directspecial specialeffect effectcamera cameracrew crewsound soundlighting lightingalso alsoseem seemthough thoughwriter writeridea ideaanything anythingApparently Apparentlyback back2007 2007dollar dollarstrong strongbuy buysuper superadvance advancestealth stealthbomber bombercompletely completelyinvisible invisible75 75million millionNowadays Nowadayscost cost3 3billion billioncant cantfly flymiddle middleeast easthour hourrandom randomlesbian lesbianscene scenedidnt didntmind mindlike likelame lameattempt attemptget getguy guysee seewould wouldrandomly randomlyzoom zoomactor actorskip skipOh Ohyeah yeahsince sincepredictable predictablehell hellrank rankright\n"
     ]
    }
   ],
   "source": [
    "for label,processed_text in zip(subset_labels[40:50],processed_data[40:50]):\n",
    "    print(f\"{label} : {processed_text}\")"
   ]
  },
  {
   "cell_type": "code",
   "execution_count": 23,
   "metadata": {},
   "outputs": [
    {
     "name": "stdout",
     "output_type": "stream",
     "text": [
      "1 : people claim another bad language ultra violence movie right film call create awareness become awful truth hurt bore already accept paradigm live third world possible goal One important thing van cuatro open invitation profound reflexion current identity want abroad realize spoiled society come light still understand viewer witness mass broadcast murder nearly puke saw image tiny village near rampage carry indulgence medium government recreation similar situation shock deeply story good portray corruption dishonesty betrayal consider de best one deep cabrón pendejo scream meaningless compare action exception perfect example human rubbish like real life honesty rule country Moreover reward miraculously peopleclaim claimanother anotherbad badlanguage languageultra ultraviolence violencemovie movieright rightfilm filmcall callcreate createawareness awarenessbecome becomeawful awfultruth truthhurt hurtbore borealready alreadyaccept acceptparadigm paradigmlive livethird thirdworld worldpossible possiblegoal goalOne Oneimportant importantthing thingvan vancuatro cuatroopen openinvitation invitationprofound profoundreflexion reflexioncurrent currentidentity identitywant wantabroad abroadrealize realizespoiled spoiledsociety societycome comelight lightstill stillunderstand understandviewer viewerwitness witnessmass massbroadcast broadcastmurder murdernearly nearlypuke pukesaw sawimage imagetiny tinyvillage villagenear nearrampage rampagecarry carryindulgence indulgencemedium mediumgovernment governmentrecreation recreationsimilar similarsituation situationshock shockdeeply deeplystory storygood goodportray portraycorruption corruptiondishonesty dishonestybetrayal betrayalconsider considerde debest bestone onedeep deepcabrón cabrónpendejo pendejoscream screammeaningless meaninglesscompare compareaction actionexception exceptionperfect perfectexample examplehuman humanrubbish rubbishlike likereal reallife lifehonesty honestyrule rulecountry countryMoreover Moreoverreward rewardmiraculously \n",
      "1 : Simply well write direct act Woodys best 2000s since 80 perfect pick roll Scarlett banter prove round actress become refresh romance screen lead lady play bumbling magician review malign movie Dont let stop see wonderfully do film People crowd saw laugh loud line miss next like 70 youll regret one suggest go watch open mind might walk smile Simplywell wellwrite writedirect directact actWoodys Woodysbest best2000s 2000ssince since80 80perfect perfectpick pickroll rollScarlett Scarlettbanter banterprove proveround roundactress actressbecome becomerefresh refreshromance romancescreen screenlead leadlady ladyplay playbumbling bumblingmagician magicianreview reviewmalign malignmovie movieDont Dontlet letstop stopsee seewonderfully wonderfullydo dofilm filmPeople Peoplecrowd crowdsaw sawlaugh laughloud loudline linemiss missnext nextlike like70 70youll youllregret regretone onesuggest suggestgo gowatch watchopen openmind mindmight mightwalk walksmile \n",
      "1 : type computer keyboard theyd probably give eponymous film rating 10 elephant show kill movie even imply hurt contrary master complain shoot pachydermsno matter menacingwithout permit government tone suggest within realm probability Furthermore element conspirein form unusual drought human cholera epidemicto leave plantation house vulnerable total destruction native dub close story happen see current release youll detect fare less well today typecomputer computerkeyboard keyboardtheyd theydprobably probablygive giveeponymous eponymousfilm filmrating rating10 10elephant elephantshow showkill killmovie movieeven evenimply implyhurt hurtcontrary contrarymaster mastercomplain complainshoot shootpachydermsno pachydermsnomatter mattermenacingwithout menacingwithoutpermit permitgovernment governmenttone tonesuggest suggestwithin withinrealm realmprobability probabilityFurthermore Furthermoreelement elementconspirein conspireinform formunusual unusualdrought droughthuman humancholera choleraepidemicto epidemictoleave leaveplantation plantationhouse housevulnerable vulnerabletotal totaldestruction destructionnative nativedub dubclose closestory storyhappen happensee seecurrent currentrelease releaseyoull youlldetect detectfare fareless lesswell welltoday \n",
      "1 : One unheralded great work animation Though make sophisticated use cutout method la real talent behind vocal characterization centerpiece accidental nightmare sequence doubtless one best piece ever film Oneunheralded unheraldedgreat greatwork workanimation animationThough Thoughmake makesophisticated sophisticateduse usecutout cutoutmethod methodla lareal realtalent talentbehind behindvocal vocalcharacterization characterizationcenterpiece centerpieceaccidental accidentalnightmare nightmaresequence sequencedoubtless doubtlessone onebest bestpiece pieceever everfilm \n",
      "1 : love kungfu film havent see movie cheat one cheapies could recommend fan type Normally take diehard genre anything story well told complete fight scene great tend end youre completely bore unlike Throw little mystery torture youve get heck See cost Heck wife even enjoy Wu 9 10 lovekungfu kungfufilm filmhavent haventsee seemovie moviecheat cheatone onecheapies cheapiescould couldrecommend recommendfan fantype typeNormally Normallytake takediehard diehardgenre genreanything anythingstory storywell welltold toldcomplete completefight fightscene scenegreat greattend tendend endyoure yourecompletely completelybore boreunlike unlikeThrow Throwlittle littlemystery mysterytorture tortureyouve youveget getheck heckSee Seecost costHeck Heckwife wifeeven evenenjoy enjoyWu Wu9 910 \n",
      "1 : William direct adaptation hit play music recruiting postervivant military commitment intervene go unlikely helmsman woman director sure touch many documentarylike sequence training invest unhackneyed humanity genre generally allow particularly wartime Sure geewhiz entirely white save one unbilled recruit bunch newbie nice wholesome real life speechify home wife kid get pretty thick efficient propaganda undeniably stir Notable allmilitary male cast several didnt reemerge year drag Cobb Also early glimpse doesnt show till hour half picture good little worriedsick spouse bad right tangle print anyone know 16mm evidently release considerable success revert there 35mm probably lie somewhere bowel disingenuous corny spot also capture rigor terror war vividly deserve widely see Williamdirect directadaptation adaptationhit hitplay playmusic musicrecruiting recruitingpostervivant postervivantmilitary militarycommitment commitmentintervene intervenego gounlikely unlikelyhelmsman helmsmanwoman womandirector directorsure suretouch touchmany manydocumentarylike documentarylikesequence sequencetraining traininginvest investunhackneyed unhackneyedhumanity humanitygenre genregenerally generallyallow allowparticularly particularlywartime wartimeSure Suregeewhiz geewhizentirely entirelywhite whitesave saveone oneunbilled unbilledrecruit recruitbunch bunchnewbie newbienice nicewholesome wholesomereal reallife lifespeechify speechifyhome homewife wifekid kidget getpretty prettythick thickefficient efficientpropaganda propagandaundeniably undeniablystir stirNotable Notableallmilitary allmilitarymale malecast castseveral severaldidnt didntreemerge reemergeyear yeardrag dragCobb CobbAlso Alsoearly earlyglimpse glimpsedoesnt doesntshow showtill tillhour hourhalf halfpicture picturegood goodlittle littleworriedsick worriedsickspouse spousebad badright righttangle tangleprint printanyone anyoneknow know16mm 16mmevidently evidentlyrelease releaseconsiderable considerablesuccess successrevert revertthere there35mm 35mmprobably probablylie liesomewhere somewherebowel boweldisingenuous disingenuouscorny cornyspot spotalso alsocapture capturerigor rigorterror terrorwar warvividly vividlydeserve deservewidely widelysee \n",
      "1 : Cillian star actionthriller write direct master suspense whole movie start trouble hotel problem fix manager go airport thats begin meet doesnt like call name know mean board plane crazy enough sit next halfhour terrorize tormented terrify wont give anything away move chase house see father okay crazily already nearly twelve minute violence strong intensity throughout entire scene total 25 intense action come end great plot Like say shocking thrill somewhat disturbingfrightening acting every single character even one line pitch perfect incredible Everything awesome act music effect makeup edit everything wonderful definitely Red mustsee worth spend money could watch would never ever get boring good 10 Original rating Cillianstar staractionthriller actionthrillerwrite writedirect directmaster mastersuspense suspensewhole wholemovie moviestart starttrouble troublehotel hotelproblem problemfix fixmanager managergo goairport airportthats thatsbegin beginmeet meetdoesnt doesntlike likecall callname nameknow knowmean meanboard boardplane planecrazy crazyenough enoughsit sitnext nexthalfhour halfhourterrorize terrorizetormented tormentedterrify terrifywont wontgive giveanything anythingaway awaymove movechase chasehouse housesee seefather fatherokay okaycrazily crazilyalready alreadynearly nearlytwelve twelveminute minuteviolence violencestrong strongintensity intensitythroughout throughoutentire entirescene scenetotal total25 25intense intenseaction actioncome comeend endgreat greatplot plotLike Likesay sayshocking shockingthrill thrillsomewhat somewhatdisturbingfrightening disturbingfrighteningacting actingevery everysingle singlecharacter charactereven evenone oneline linepitch pitchperfect perfectincredible incredibleEverything Everythingawesome awesomeact actmusic musiceffect effectmakeup makeupedit editeverything everythingwonderful wonderfuldefinitely definitelyRed Redmustsee mustseeworth worthspend spendmoney moneycould couldwatch watchwould wouldnever neverever everget getboring boringgood good10 10Original Originalrating \n",
      "0 : unusual movie Absolutely concession make special effect entertainment background music enhance sound Facial expression usually cover thick beard language strange monotonic lilt whether midst battle talk around campfire sort view part 1 2 educational experience really something go get entertain quite long place dull suspect give lack plot development dont think either also difficult perceive story dialogue would good idea read little history understand context happen since reason director didnt see fit inform audience band move way result seem group skulk woodland particular shot love star somehow generate empathy develop depth character still stranger end realism show hardship guerrilla warfare unusualmovie movieAbsolutely Absolutelyconcession concessionmake makespecial specialeffect effectentertainment entertainmentbackground backgroundmusic musicenhance enhancesound soundFacial Facialexpression expressionusually usuallycover coverthick thickbeard beardlanguage languagestrange strangemonotonic monotoniclilt liltwhether whethermidst midstbattle battletalk talkaround aroundcampfire campfiresort sortview viewpart part1 12 2educational educationalexperience experiencereally reallysomething somethinggo goget getentertain entertainquite quitelong longplace placedull dullsuspect suspectgive givelack lackplot plotdevelopment developmentdont dontthink thinkeither eitheralso alsodifficult difficultperceive perceivestory storydialogue dialoguewould wouldgood goodidea idearead readlittle littlehistory historyunderstand understandcontext contexthappen happensince sincereason reasondirector directordidnt didntsee seefit fitinform informaudience audienceband bandmove moveway wayresult resultseem seemgroup groupskulk skulkwoodland woodlandparticular particularshot shotlove lovestar starsomehow somehowgenerate generateempathy empathydevelop developdepth depthcharacter characterstill stillstranger strangerend endrealism realismshow showhardship hardshipguerrilla guerrillawarfare \n",
      "0 : buy tower record see infomercial fifteen hundred time comedy central actually really look forward watch god go wrong give review let say person pretty much find good movie hell 1500 dvd underground rank bad film try chance funny point offend whatsoever around stupid God right mind think piece crap bottom bin buytower towerrecord recordsee seeinfomercial infomercialfifteen fifteenhundred hundredtime timecomedy comedycentral centralactually actuallyreally reallylook lookforward forwardwatch watchgod godgo gowrong wronggive givereview reviewlet letsay sayperson personpretty prettymuch muchfind findgood goodmovie moviehell hell1500 1500dvd dvdunderground undergroundrank rankbad badfilm filmtry trychance chancefunny funnypoint pointoffend offendwhatsoever whatsoeveraround aroundstupid stupidGod Godright rightmind mindthink thinkpiece piececrap crapbottom bottombin \n",
      "1 : dont know previous reviewer watch guess thats review personal taste Missed movie depth deep film many layer emotion affect Undercurrents withheld love submission societal beliefs taboo time class race relation good state equality guilt yearn hate confusion dark emotionally think skin submit aire flow slow release show character reveal flaw nasty inside excellent actually cruel dontknow knowprevious previousreviewer reviewerwatch watchguess guessthats thatsreview reviewpersonal personaltaste tasteMissed Missedmovie moviedepth depthdeep deepfilm filmmany manylayer layeremotion emotionaffect affectUndercurrents Undercurrentswithheld withheldlove lovesubmission submissionsocietal societalbeliefs beliefstaboo tabootime timeclass classrace racerelation relationgood goodstate stateequality equalityguilt guiltyearn yearnhate hateconfusion confusiondark darkemotionally emotionallythink thinkskin skinsubmit submitaire aireflow flowslow slowrelease releaseshow showcharacter characterreveal revealflaw flawnasty nastyinside insideexcellent excellentactually actuallycruel \n",
      "0 : honest time first heard show though may bad idea make use racial joke opposite realize help people understand word like real life doesnt mean terrorist thing also give name play stereotype watch regular try live 1 day hard get plane say well blow away competition take wrong way know stuff dont usually happen many think right see poorly treat act glad come air terroristsmany find funny opioion prety much everything fun unfair do often really honesttime timefirst firstheard heardshow showthough thoughmay maybad badidea ideamake makeuse useracial racialjoke jokeopposite oppositerealize realizehelp helppeople peopleunderstand understandword wordlike likereal reallife lifedoesnt doesntmean meanterrorist terroristthing thingalso alsogive givename nameplay playstereotype stereotypewatch watchregular regulartry trylive live1 1day dayhard hardget getplane planesay saywell wellblow blowaway awaycompetition competitiontake takewrong wrongway wayknow knowstuff stuffdont dontusually usuallyhappen happenmany manythink thinkright rightsee seepoorly poorlytreat treatact actglad gladcome comeair airterroristsmany terroristsmanyfind findfunny funnyopioion opioionprety pretymuch mucheverything everythingfun fununfair unfairdo dooften oftenreally \n",
      "0 : Ive never huge fan film always felt humor exclusive community make u seem like bunch obsessive wacko hop would breath fresh air movie could finally discuss friend Boy wrong figure since talent one favorite least little funny besides church basketball ripe potential plenty hilarious gag must say throughout entire though know Every joke fell flat every opportunity genuinely go ignored dialogue bland bad character development ever see single less onedimensional hard believe nine rewrite still mindnumbingly stale train wreck witness cant put word rage sit extra final game scene premiere Kurt director avoid contact show wait door seemingly ready feedback couldnt bring tell rip away good hour half life leave nasty painful scar forget specific problem minor love story subplot janitor chubby piano player two come nowhere impossible care constantly wonder suppose lame uninteresting many subplots pop promise audience chance laugh puff smoke end even start pretty much whole major letdown feel everyone who expect first True arent loud ringing sensation ear Please Keep mind fantasy Spare disappointment Ivenever neverhuge hugefan fanfilm filmalways alwaysfelt felthumor humorexclusive exclusivecommunity communitymake makeu useem seemlike likebunch bunchobsessive obsessivewacko wackohop hopwould wouldbreath breathfresh freshair airmovie moviecould couldfinally finallydiscuss discussfriend friendBoy Boywrong wrongfigure figuresince sincetalent talentone onefavorite favoriteleast leastlittle littlefunny funnybesides besideschurch churchbasketball basketballripe ripepotential potentialplenty plentyhilarious hilariousgag gagmust mustsay saythroughout throughoutentire entirethough thoughknow knowEvery Everyjoke jokefell fellflat flatevery everyopportunity opportunitygenuinely genuinelygo goignored ignoreddialogue dialoguebland blandbad badcharacter characterdevelopment developmentever eversee seesingle singleless lessonedimensional onedimensionalhard hardbelieve believenine ninerewrite rewritestill stillmindnumbingly mindnumbinglystale staletrain trainwreck wreckwitness witnesscant cantput putword wordrage ragesit sitextra extrafinal finalgame gamescene scenepremiere premiereKurt Kurtdirector directoravoid avoidcontact contactshow showwait waitdoor doorseemingly seeminglyready readyfeedback feedbackcouldnt couldntbring bringtell tellrip ripaway awaygood goodhour hourhalf halflife lifeleave leavenasty nastypainful painfulscar scarforget forgetspecific specificproblem problemminor minorlove lovestory storysubplot subplotjanitor janitorchubby chubbypiano pianoplayer playertwo twocome comenowhere nowhereimpossible impossiblecare careconstantly constantlywonder wondersuppose supposelame lameuninteresting uninterestingmany manysubplots subplotspop poppromise promiseaudience audiencechance chancelaugh laughpuff puffsmoke smokeend endeven evenstart startpretty prettymuch muchwhole wholemajor majorletdown letdownfeel feeleveryone everyonewho whoexpect expectfirst firstTrue Truearent arentloud loudringing ringingsensation sensationear earPlease PleaseKeep Keepmind mindfantasy fantasySpare Sparedisappointment \n",
      "0 : film culmination everything bad modern unnecessary slow motion flippingjumpingsomersaults character dialogue basically unnecessity word well invent happen practicality e car garage skin spray tool show combination futuristic realistic function card swipe coffee shop respect woman smith nothing degrade doctor good part yet still want tell look admiration common ground detective detect sit around feel sorry complain people say something spark thought lame way get story point bcdetc several time row speaking snoring listen joke small movie somewhat meaningful promote rescue scene kid total know care whether come harm let forget child everywhere attack robot selfishly save person withing view acquaintance ramp bike air somehow able reach distance matter second foot dont wrong spectacle also shred realism meaning never laugh quite hard long thanks pray swing social pendulum back simpler technique else mainly simple Big die filmculmination culminationeverything everythingbad badmodern modernunnecessary unnecessaryslow slowmotion motionflippingjumpingsomersaults flippingjumpingsomersaultscharacter characterdialogue dialoguebasically basicallyunnecessity unnecessityword wordwell wellinvent inventhappen happenpracticality practicalitye ecar cargarage garageskin skinspray spraytool toolshow showcombination combinationfuturistic futuristicrealistic realisticfunction functioncard cardswipe swipecoffee coffeeshop shoprespect respectwoman womansmith smithnothing nothingdegrade degradedoctor doctorgood goodpart partyet yetstill stillwant wanttell telllook lookadmiration admirationcommon commonground grounddetective detectivedetect detectsit sitaround aroundfeel feelsorry sorrycomplain complainpeople peoplesay saysomething somethingspark sparkthought thoughtlame lameway wayget getstory storypoint pointbcdetc bcdetcseveral severaltime timerow rowspeaking speakingsnoring snoringlisten listenjoke jokesmall smallmovie moviesomewhat somewhatmeaningful meaningfulpromote promoterescue rescuescene scenekid kidtotal totalknow knowcare carewhether whethercome comeharm harmlet letforget forgetchild childeverywhere everywhereattack attackrobot robotselfishly selfishlysave saveperson personwithing withingview viewacquaintance acquaintanceramp rampbike bikeair airsomehow somehowable ablereach reachdistance distancematter mattersecond secondfoot footdont dontwrong wrongspectacle spectaclealso alsoshred shredrealism realismmeaning meaningnever neverlaugh laughquite quitehard hardlong longthanks thankspray prayswing swingsocial socialpendulum pendulumback backsimpler simplertechnique techniqueelse elsemainly mainlysimple simpleBig Bigdie \n",
      "0 : film make many big star beyond terrible cliché ridden bad act actor ever do really surprise list would agree unfunny Whats even fact almost 100 million state go show however pull buck felt sorry everyone involve snorefest Billy try best give rest seem walk motion Whatever dont fall excellent cast one could save filmmake makemany manybig bigstar starbeyond beyondterrible terriblecliché clichéridden riddenbad badact actactor actorever everdo doreally reallysurprise surpriselist listwould wouldagree agreeunfunny unfunnyWhats Whatseven evenfact factalmost almost100 100million millionstate statego goshow showhowever howeverpull pullbuck buckfelt feltsorry sorryeveryone everyoneinvolve involvesnorefest snorefestBilly Billytry trybest bestgive giverest restseem seemwalk walkmotion motionWhatever Whateverdont dontfall fallexcellent excellentcast castone onecould couldsave \n",
      "0 : love episode become great toss little person window look face priceless start address wife behalf find writing casting along act make must see attempt certain photo Id like use avatar message board think hilarious anyone know download point right direction loveepisode episodebecome becomegreat greattoss tosslittle littleperson personwindow windowlook lookface facepriceless pricelessstart startaddress addresswife wifebehalf behalffind findwriting writingcasting castingalong alongact actmake makemust mustsee seeattempt attemptcertain certainphoto photoId Idlike likeuse useavatar avatarmessage messageboard boardthink thinkhilarious hilariousanyone anyoneknow knowdownload downloadpoint pointright rightdirection \n"
     ]
    }
   ],
   "source": [
    "from sklearn.model_selection import train_test_split\n",
    "\n",
    "X_train, X_test, y_train, y_test = train_test_split(processed_data, subset_labels,\n",
    "                                                    test_size=0.2,\n",
    "                                                    random_state=0,\n",
    "                                                    stratify=subset_labels)\n",
    "\n",
    "\n",
    "for test_label,test_sentence in zip(y_train[0:15],X_train[0:15]):\n",
    "    print(f\"{test_label} : {test_sentence} \")"
   ]
  },
  {
   "cell_type": "code",
   "execution_count": 24,
   "metadata": {},
   "outputs": [],
   "source": [
    "from sklearn.naive_bayes import GaussianNB\n",
    "from sklearn.feature_extraction.text import TfidfVectorizer\n",
    "from sklearn.feature_extraction.text import TfidfTransformer\n",
    "from sklearn.metrics import classification_report\n",
    "from sklearn.feature_extraction.text import CountVectorizer"
   ]
  },
  {
   "cell_type": "code",
   "execution_count": 37,
   "metadata": {},
   "outputs": [
    {
     "name": "stdout",
     "output_type": "stream",
     "text": [
      "{}\n"
     ]
    }
   ],
   "source": [
    "import importlib\n",
    "import NB\n",
    "importlib.reload(NB)  # Reload the module\n",
    "my_classifier = NB.Classifier()\n",
    "\n"
   ]
  },
  {
   "cell_type": "code",
   "execution_count": 39,
   "metadata": {},
   "outputs": [
    {
     "name": "stdout",
     "output_type": "stream",
     "text": [
      "<class 'numpy.ndarray'>\n",
      "92557\n",
      "--------training is done-------\n"
     ]
    }
   ],
   "source": [
    "\n",
    "tfidf = TfidfVectorizer().fit(processed_data)\n",
    "tfidf_train = tfidf.transform(X_train).toarray()\n",
    "print(type(tfidf_train))\n",
    "\n",
    "feature_names = tfidf.get_feature_names_out()\n",
    "print(len(feature_names))\n",
    "tfidf_test = tfidf.transform(X_test).toarray()\n",
    "\n",
    "my_classifier.train(tfidf_train,y_train)\n",
    "print(\"--------training is done-------\")\n",
    "classfications = my_classifier.predict(tfidf_test)\n",
    "# NB = GaussianNB()\n",
    "# NB.fit(tfidf_train, y_train)\n",
    "# predicted_NB = NB.predict(tfidf_test)\n",
    "# print(classification_report(y_test, predicted_NB))"
   ]
  },
  {
   "cell_type": "code",
   "execution_count": 40,
   "metadata": {},
   "outputs": [
    {
     "name": "stdout",
     "output_type": "stream",
     "text": [
      "145\n",
      "0.725\n"
     ]
    }
   ],
   "source": [
    "# count = 0\n",
    "# correct_count = 0\n",
    "# for prediction, actual_label in zip(classfications,y_test):\n",
    "#     count += 1\n",
    "#     if(prediction == actual_label):\n",
    "#         correct_count += 1\n",
    "\n",
    "# print(correct_count)\n",
    "# print(correct_count/count)\n",
    "\n",
    "print(classification_report(y_test, classfications))\n"
   ]
  }
 ],
 "metadata": {
  "kernelspec": {
   "display_name": "Python 3",
   "language": "python",
   "name": "python3"
  },
  "language_info": {
   "codemirror_mode": {
    "name": "ipython",
    "version": 3
   },
   "file_extension": ".py",
   "mimetype": "text/x-python",
   "name": "python",
   "nbconvert_exporter": "python",
   "pygments_lexer": "ipython3",
   "version": "3.10.5"
  }
 },
 "nbformat": 4,
 "nbformat_minor": 2
}
