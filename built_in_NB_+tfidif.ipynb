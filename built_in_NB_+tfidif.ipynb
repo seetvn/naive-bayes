{
  "cells": [
    {
      "cell_type": "code",
      "execution_count": 2,
      "metadata": {
        "colab": {
          "base_uri": "https://localhost:8080/"
        },
        "id": "eeVjmpr0xrCz",
        "outputId": "bfd95d5d-aac0-4600-ef4d-1008623baab6"
      },
      "outputs": [
        {
          "name": "stdout",
          "output_type": "stream",
          "text": [
            "c:\\Users\\steven htut\\OneDrive - University of Bath\\Desktop\\uni\\yr_3\\NLP\\assignment\\data\\data\n",
            "neg\n",
            "pos\n"
          ]
        }
      ],
      "source": [
        "\n",
        "import os\n",
        "# ----- path variable ----------\n",
        "current_path = os.getcwd()\n",
        "path = \"/data\"\n",
        "path = current_path + \"\\data\\data\"\n",
        "print(path)\n",
        "# ----- path variable ------\n",
        "for folder_path in os.listdir(path):\n",
        "    print(folder_path)"
      ]
    },
    {
      "cell_type": "code",
      "execution_count": 3,
      "metadata": {
        "colab": {
          "base_uri": "https://localhost:8080/"
        },
        "id": "06-6xnnJx6rM",
        "outputId": "f10c4f8a-844b-4bcb-ebc9-41be69330fc7"
      },
      "outputs": [
        {
          "name": "stdout",
          "output_type": "stream",
          "text": [
            "current folder_path is c:\\Users\\steven htut\\OneDrive - University of Bath\\Desktop\\uni\\yr_3\\NLP\\assignment\\data\\data\\neg\n",
            "current folder_path is c:\\Users\\steven htut\\OneDrive - University of Bath\\Desktop\\uni\\yr_3\\NLP\\assignment\\data\\data\\pos\n"
          ]
        }
      ],
      "source": [
        "\n",
        "import csv\n",
        "import codecs\n",
        "\n",
        "data_label = 0\n",
        "\n",
        "\n",
        "with open('reviews.csv', 'w', newline='', encoding='utf-8') as csvfile:\n",
        "    fieldnames = ['Data Label', 'Text']\n",
        "    writer = csv.DictWriter(csvfile, fieldnames=fieldnames)\n",
        "    writer.writeheader()\n",
        "\n",
        "    for folder_path in os.listdir(path):\n",
        "        current_folder_path = os.path.join(path, folder_path)\n",
        "        print(f\"current folder_path is {current_folder_path}\")\n",
        "\n",
        "        for text_file in os.listdir(current_folder_path):\n",
        "            with codecs.open(os.path.join(current_folder_path, text_file), \"r\", encoding=\"utf-8\", errors=\"ignore\") as f:\n",
        "                s = f.read().replace(\"<br />\", \". \")\n",
        "                writer.writerow({'Data Label': data_label, 'Text': s})\n",
        "\n",
        "        data_label = 1\n",
        "\n",
        "\n"
      ]
    },
    {
      "cell_type": "code",
      "execution_count": 3,
      "metadata": {
        "colab": {
          "base_uri": "https://localhost:8080/"
        },
        "id": "i6A1yc9mz8tV",
        "outputId": "a7f046ad-bb97-4e70-d24c-228a8ad16133"
      },
      "outputs": [
        {
          "name": "stdout",
          "output_type": "stream",
          "text": [
            "Unless you are mentally ill or the most die hard segal fan you will tire of this horrendous excuse for a film in under 5 minutes.. . The Plot - Even for a Seagal film, the plot is just stupid. I mean its not just bad, its barely coherent.. . The Acting - Unbelievably wooden. Literally seen better acting in porno's. Ironically this film tries to cash in on this audience which a 'lesbian love scene' which is utterly cringe-worthy.. . Special Effects - wouldn't look out of place in a 60's sword and sorcery flick.. . Unless you suffer from insomnia and have exhausted all other cures, don't make the same mistake as i did and buy this DVD, as you will be asking for that hour and a half of your life back.\n",
            "Ghost of Dragstrip Hollow is a typical 1950's teens in turmoil movie. It is not a horror or science fiction movie. Plot concerns a group of teens who are about to get kicked out of their \"hot rod\" club because they cannot meet the rent. Once kicked out, they decide to try an old Haunted House. The only saving grace for the film is that the \"ghost\" (Paul Blaisdell in the She Creature suit) turns out to be an out of work movie monster played by Blaisdell.\n",
            "When it comes to movies I can be pretty picky, and I'll complain about anything and everything that is done wrong. While every movie has its flaws, The Night Listener had an exceptionally low count.. . If you read the last review (it was hard, since half of it was written in caps and it contained no actual information about the movie), you may have been led to believe that this movie was not too well done. Unfortunately, if you read more than 3 lines into that same review, you discovered the poster's reason for disdain: he/she does not like the fact that the director is gay (or that the production team smokes crack...apparently).. . So, despite the fact that I have never written a review before, I thought this movie deserved one based on its merits, not the sexual orientation of its director. Let's go over a quick checklist first: 1. Great plot? Absolutely. I won't give a shred of it away, but the plot is highly compelling and definitely not what one would expect based on the commercials. This is a thriller, not a horror, and it should be approached as such. The story really will amaze you, even more so because it's true (and the plot did stay quite faithful to the actual events).. . 2. Wonderful Acting? Oh Yes. Robin Williams long ago broke free from the chains of the comedy type-cast, and he has since flourished in serious roles for which many people would have wrote him off just a decade ago. He once again achieves high form in his role in The Night Listener, playing a radio host who becomes increasingly troubled by and entangled in a case of...well, I'll let you see for yourself.. . 3. Excellent direction? Certainly. Now, unlike the other poster to which I referred, I actually know something about direction. I've been sutdying the art of direction at school now for 3 years. Of course I really don't think that makes a lick of difference (the only thing that matters is if YOU like the direction), but I thought I should simply establish once again that I'm basing my opinions here on something both substantial and relevant...for example: not the sexual orientation of the director (or the alleged drug habits of the production team, LOL).. . Patrick Stettner's direction was moody and dark, and he allowed the angles and lighting to help create those so-sought-after feelings of \"tension and release\" rather than the messy, fast-paced camera-work and quick cuts we're so often subjected to today. Some people can truly show you a story through their camera, while other's feel as if they have to make the story with the camera. I really appreciate when someone these days has the courage to just use the camera as its supposed to be utilized, which is as an eyeball through which we all see.. . 4. Lighting, cinematography, and editing? Great all around. I've already wrote so much, and I could go on about these last three things for another ten paragraphs, so I'll just wrap it up.. . In short, go see this movie. Don't listen to people who have alterior motives for trashing it, especially if they're so stupid that they unknowingly reveal that motive 1/4 of the way through their post. Enjoy the show! -Ben\n",
            "2000\n",
            "2000\n"
          ]
        }
      ],
      "source": [
        "\n",
        "import pandas as pd\n",
        "\n",
        "df_reviews = pd.read_csv('reviews.csv')\n",
        "\n",
        "shuffled_df_reviews = df_reviews.sample(frac=1, random_state=42)\n",
        "\n",
        "print(df_reviews.loc[23][\"Text\"])\n",
        "\n",
        "df_negative_reviews = df_reviews[:2000]\n",
        "\n",
        "df_positive_reviews = df_reviews[2000:]\n",
        "print(df_negative_reviews.loc[3][\"Text\"])\n",
        "print(df_positive_reviews.loc[2003][\"Text\"])\n",
        "\n",
        "print(df_positive_reviews.shape[0])\n",
        "print(df_negative_reviews.shape[0])\n"
      ]
    },
    {
      "cell_type": "code",
      "execution_count": 4,
      "metadata": {
        "colab": {
          "base_uri": "https://localhost:8080/"
        },
        "id": "1glXazgd1Qpo",
        "outputId": "d964a37b-bc92-4a4c-e292-dafd9a0c1bd4"
      },
      "outputs": [
        {
          "name": "stderr",
          "output_type": "stream",
          "text": [
            "[nltk_data] Downloading package stopwords to C:\\Users\\steven\n",
            "[nltk_data]     htut\\AppData\\Roaming\\nltk_data...\n",
            "[nltk_data]   Package stopwords is already up-to-date!\n",
            "[nltk_data] Downloading package punkt to C:\\Users\\steven\n",
            "[nltk_data]     htut\\AppData\\Roaming\\nltk_data...\n",
            "[nltk_data]   Package punkt is already up-to-date!\n",
            "[nltk_data] Downloading package wordnet to C:\\Users\\steven\n",
            "[nltk_data]     htut\\AppData\\Roaming\\nltk_data...\n",
            "[nltk_data]   Package wordnet is already up-to-date!\n",
            "[nltk_data] Downloading package averaged_perceptron_tagger to\n",
            "[nltk_data]     C:\\Users\\steven htut\\AppData\\Roaming\\nltk_data...\n",
            "[nltk_data]   Package averaged_perceptron_tagger is already up-to-\n",
            "[nltk_data]       date!\n",
            "[nltk_data] Downloading package words to C:\\Users\\steven\n",
            "[nltk_data]     htut\\AppData\\Roaming\\nltk_data...\n",
            "[nltk_data]   Package words is already up-to-date!\n",
            "[nltk_data] Downloading package opinion_lexicon to C:\\Users\\steven\n",
            "[nltk_data]     htut\\AppData\\Roaming\\nltk_data...\n",
            "[nltk_data]   Package opinion_lexicon is already up-to-date!\n"
          ]
        },
        {
          "data": {
            "text/plain": [
              "True"
            ]
          },
          "execution_count": 4,
          "metadata": {},
          "output_type": "execute_result"
        }
      ],
      "source": [
        "\n",
        "import string\n",
        "import nltk\n",
        "from nltk.corpus import stopwords\n",
        "from nltk.tokenize import word_tokenize\n",
        "from nltk.stem import WordNetLemmatizer\n",
        "from nltk.util import ngrams\n",
        "from nltk.corpus import wordnet\n",
        "from nltk import pos_tag\n",
        "from nltk.corpus import words as nigger\n",
        "from nltk.corpus import opinion_lexicon\n",
        "nltk.download('stopwords')\n",
        "nltk.download('punkt')\n",
        "nltk.download('wordnet')\n",
        "nltk.download('averaged_perceptron_tagger')\n",
        "nltk.download('words')\n",
        "nltk.download('opinion_lexicon')"
      ]
    },
    {
      "cell_type": "code",
      "execution_count": 11,
      "metadata": {
        "colab": {
          "base_uri": "https://localhost:8080/"
        },
        "id": "nltmwaxXiJLW",
        "outputId": "d709f7ac-1b3c-4362-8d9d-c99c13d8cefb"
      },
      "outputs": [
        {
          "name": "stdout",
          "output_type": "stream",
          "text": [
            "{'hapless', 'wretched', 'misfortunate', 'poor_people', 'miserable', 'pitiful', 'inadequate', 'poor', 'pitiable', 'piteous', 'short', 'pathetic'}\n",
            "{'condescension', 'coward', 'forgetful', 'undersized', 'torture', 'creep', 'retard', 'worries', 'smugly', 'boiling', 'conservative', 'sunder', 'hard', 'implicate', 'inelegance', 'sack', 'indiscriminate', 'illogical', 'horrid', 'sues', 'travesties', 'frazzle', 'disappointment', 'corruption', 'infirm', 'manipulation', 'botch', 'exhorbitant', 'intransigence', 'mockeries', 'neglected', 'underpowered', 'tenderness', 'vexingly', 'rupture', 'confront', 'darker', 'obsolete', 'riled', 'gruesomely', 'devastating', 'vile', 'excuse', 'temper', 'tentatively', 'scourge', 'ill-designed', 'hysteric', 'raving', 'madly', 'slanderous', 'nemesis', 'earsplitting', 'uninsured', 'aweful', 'defy', 'implication', 'dissatisfying', 'hardheaded', 'malice', 'over-priced', 'sedentary', 'malevolent', 'banal', 'adversity', 'infiltrator', 'allegation', 'disapointed', 'unruly', 'villainous', 'dull', 'dumped', 'controversial', 'languorous', 'imbecile', 'frustratingly', 'discomfititure', 'exasperating', 'losers', 'killjoy', 'shamefulness', 'stupify', 'dislocated', 'beastly', 'warily', 'discombobulate', 'comical', 'fault', 'apprehensive', 'iniquitous', 'ferocity', 'quibble', 'worry', 'crabby', 'warped', 'fat', 'implacable', 'degenerate', 'provocative', 'concerns', 'steals', 'inescapable', 'racists', 'snappishly', 'fatuous', 'disapprove', 'fateful', 'indefensible', 'lied', 'disrespectfulness', 'monstrosity', 'inequitable', 'gloatingly', 'deceiving', 'bull****', 'ineffectual', 'guile', 'lackadaisical', 'retards', 'inordinately', 'filth', 'disinclined', 'clique', 'nauseating', 'problems', 'long-winded', 'indecency', 'malignant', 'impractical', 'frighten', 'faltered', 'genocide', 'heckle', 'lousy', 'prattle', 'indecisive', 'simplistically', 'overact', 'bungler', 'shark', 'egregiously', 'tumbled', 'fastidiously', 'venomously', 'manic', 'inconsistent', 'splatter', 'touts', 'unconvincing', 'dissonance', 'menacing', 'complaints', 'craze', 'explode', 'cheats', 'aggressive', 'mawkishly', 'standstill', 'insufferably', 'morons', 'unconfirmed', 'apocalyptic', 'indeterminably', 'aching', 'militancy', 'refutes', 'hollow', 'embroiled', 'chaotic', 'gnawing', 'downturns', 'disaffirm', 'dissident', 'helplessness', 'plunderer', 'insidious', 'self-humiliation', 'choleric', 'bombard', 'harpy', 'snag', 'stampede', 'uncomfortably', 'unthinkable', 'uproarious', 'irretrievable', 'crept', 'improbably', 'inferiority', 'inclement', 'inhumanity', 'morbidly', 'stressful', 'shocking', 'rut', 'distaste', 'lags', 'disgustedly', 'ruts', 'darkness', 'poisonously', 'seedy', 'geezer', 'stupidity', 'deceitful', 'counter-productive', 'unraveled', 'over-acted', 'worrier', 'burn', 'maniac', 'zombie', 'devious', 'reprimand', 'scorchingly', 'brutalising', 'immoderate', 'fundamentalism', 'displaced', 'stains', 'protest', 'cheater', 'impossiblity', 'sleazy', 'hack', 'hostility', 'mad', 'aimless', 'misinterpret', 'bored', 'second-tier', 'cloudy', 'brimstone', 'contravene', 'debts', 'blurred', 'gallingly', 'amputate', 'despair', 'scam', 'sorry', 'diabolical', 'uneasiness', 'hassles', 'narrower', 'dripping', 'stumbled', 'disliked', 'nauseatingly', 'screwy', 'inconsiderately', 'confusing', 'miser', 'ironical', 'sabotage', 'unreliability', 'intransigent', 'wrinkled', 'traped', 'diffidence', 'spookily', 'worse', 'sucks', 'unproductive', 'unleash', 'droop', 'astray', 'perplex', 'ramshackle', 'recant', 'scornfully', 'stubborn', 'boggle', 'blow', 'costlier', 'expunge', 'uncouth', 'sore', 'burdensomely', 'ignorant', 'unrealistic', 'deadweight', 'pathetically', 'suppression', 'remorseful', 'whine', 'invalidate', 'glaringly', 'shortsighted', 'concede', 'fat-cat', 'renounce', 'upsets', 'depressions', 'inconsiderate', 'miscreants', 'curse', 'deplore', 'cramp', 'escapade', 'criticized', 'quarrelsome', 'ruined', 'misjudgment', 'tiresome', 'unfavorable', 'amiss', 'misbehave', 'entangle', 'restlessness', 'painful', 'subservient', 'dissatisfaction', 'scare', 'denied', 'setbacks', 'contrariness', 'addicting', 'volatile', 'grainy', 'enervate', 'deny', 'split', 'gimmicked', 'creeps', 'unpleasantries', 'vague', 'disputed', 'goading', 'crack', 'fainthearted', 'incomprehensible', 'ding', 'isolation', 'misdirection', 'reprovingly', 'wretchedly', 'fuck', 'snob', 'brazenness', 'uncooperative', 'meddlesome', 'fanatic', 'cruelties', 'catastrophic', 'insubordinate', 'wobble', 'malaise', 'liable', 'bust', 'culprit', 'haughty', 'mishandle', 'repugnantly', 'impedance', 'dehumanization', 'infest', 'sags', 'strenuous', 'frigid', 'overthrow', 'inhuman', 'perish', 'straggle', 'misleading', 'disaster', 'panders', 'blame', 'undecided', 'apprehensions', 'cartoonish', 'debauch', 'disintegration', 'partiality', 'ail', 'intolerance', 'offending', 'commotion', 'invalid', 'extravagant', 'naughty', 'procrastinates', 'thoughtlessness', 'conceit', 'drawbacks', 'aghast', 'frost', 'misjudge', 'smoke', 'unrelenting', 'offensively', 'crumbling', 'conceited', 'disillusions', 'perverts', 'taxing', 'unfinished', 'admonish', 'inexorably', 'prickles', 'overpayed', 'imperious', 'sweaty', 'crowded', 'proprietary', 'loathly', 'inflammation', 'seriousness', 'complacent', 'miscalculation', 'lure', 'disapproving', 'jealously', 'vociferous', 'acerbate', 'dastard', 'disdainfully', 'inefficient', 'mistrustfully', 'runaway', 'hiliarious', 'insanely', 'interrupt', 'overtaxed', 'whining', 'squash', 'traumatic', 'unsafe', 'invective', 'drippy', 'cringe', 'lier', 'infringement', 'sting', 'risky', 'solicitude', 'beggarly', 'friggin', 'regret', 'nepotism', 'fissures', 'unjustifiably', 'offensiveness', 'sloooow', 'unprofitable', 'disrespect', 'direness', 'wrestle', 'delusional', 'blundering', 'carelessness', 'victimize', 'figurehead', 'crash', 'halfhearted', 'fatigue', 'dwindling', 'spilling', 'flairs', 'excoriate', 'retarded', 'forfeit', 'so-cal', 'peevishly', 'vulnerable', 'bruised', 'halfheartedly', 'obstruct', 'desperately', 'floundering', 'funky', 'forebodingly', 'sputter', 'bemused', 'despotic', 'glib', 'bewilderingly', 'repression', 'blurry', 'quandary', 'mislead', 'harsh', 'inefficacy', 'juddering', 'undissolved', 'finagle', 'dungeon', 'nuisance', 'oversight', 'infested', 'tarnishing', 'evasion', 'bunk', 'catastrophically', 'dismalness', 'inflationary', 'knave', 'exclusion', 'hardships', 'sorrowful', 'troubling', 'traduce', 'weaken', 'inteferes', 'clunky', 'busts', 'dodgey', 'imprecate', 'mortifying', 'omit', 'anarchism', 'audacity', 'plagiarize', 'confessions', 'spank', 'qualm', 'woeful', 'taunts', 'cheerless', 'anxiety', 'bleed', 'heavyhearted', 'loophole', 'peeved', 'poison', 'refuted', 'disaccord', 'crime', 'tormented', 'worn', 'arrogantly', 'tramp', 'unjustly', 'untimely', 'frighteningly', 'pointless', 'trashy', 'despairing', 'conflicted', 'embarrassingly', 'skulk', 'somber', 'unreachable', 'unwilling', 'wail', 'bleak', 'unlucky', 'insubstantially', 'miscreant', 'naĂŻve', 'bothered', 'stridently', 'recoil', 'sloth', 'overdue', 'villianously', 'nettlesome', 'futilely', 'partisans', 'addicts', 'desertion', 'disobey', 'smelly', 'noisy', 'savages', 'illegally', 'disputable', 'uncivilized', 'conscons', 'baffling', 'overwhelmed', 'famine', 'tiringly', 'ailment', 'tricky', 'gibe', 'slogging', 'spewing', 'vice', 'lost', 'impatience', 'unsophisticated', 'fretful', 'importune', 'tortures', 'bereave', 'aggrivation', 'disappointments', 'wrongly', 'pale', 'unneeded', 'forbidden', 'irritating', 'unlawfully', 'destitute', 'inhibition', 'vengeance', 'insidiously', 'poky', 'spoilages', 'unusual', 'leaky', 'insinuate', 'impetuous', 'ghastly', 'infected', 'smell', 'desiccated', 'unhappiness', 'frigging', 'radicals', 'futility', 'scream', 'throbbed', 'disaffect', 'fat-cats', 'pitiable', 'rusty', 'grapple', 'chasten', 'awkward', 'barbarically', 'capricious', 'sillily', 'banishment', 'shock', 'ulterior', 'worrisome', 'delusion', 'exhort', 'mangles', 'prideful', 'retreated', 'wheedle', 'nebulous', 'ridicules', 'extort', 'sadden', 'disoobedient', 'spews', 'sugar-coat', 'devastate', 'swindle', 'refusal', 'midget', 'hysterics', 'moribund', 'taut', 'disquietude', 'shrill', 'shortchange', 'combust', 'contamination', 'denunciations', 'calumny', 'bull----', 'frets', 'tauntingly', 'eccentricity', 'conspiratorial', 'treacherously', 'regrettable', 'inaccuracy', 'unhelpful', 'die', 'emasculate', 'hedge', 'incredulous', 'anemic', 'kaput', 'longing', 'criticize', 'usurper', 'feverish', 'inadequate', 'brutalizing', 'haggard', 'bother', 'deplorably', 'indifference', 'erratically', 'disgraceful', 'displeasing', 'cramping', 'harmful', 'itch', 'sob', 'unexpectedly', 'onslaught', 'difficulties', 'fleeting', 'engulf', 'haywire', 'exacerbate', 'cracks', 'ineffectively', 'allege', 'impudent', 'vicious', 'condescending', 'horrendously', 'surrender', 'bungling', 'frenetically', 'fake', 'mangling', 'obnoxiously', 'unsettle', 'fallen', 'litigious', 'needy', 'curses', 'absurdness', 'divisively', 'covetous', 'culpable', 'disliking', 'insufficient', 'bulkyness', 'killer', 'stunt', 'mocking', 'hiss', 'hoax', 'pettifog', 'strained', 'deviate', 'caricature', 'complains', 'untruthful', 'imminence', 'hell-bent', 'sadness', 'calumniate', 'rape', 'superfluous', 'infuriate', 'dishonestly', 'hideousness', 'compulsion', 'scandalously', 'gasp', 'irreconcilable', 'egotistically', 'heartbreaker', 'impropriety', 'repugnance', 'browbeat', 'blab', 'filthy', 'ordeal', 'seething', 'ultimatums', 'enflame', 'wasteful', 'adulterate', 'excruciatingly', 'inflammatory', 'inhibit', 'mangled', 'haste', 'heartless', 'timidly', 'prohibit', 'break-up', 'chore', 'drab', 'self-serving', 'trash', 'grieve', 'manipulative', 'incoherent', 'gawk', 'renunciation', 'shamelessness', 'hideous', 'fatal', 'persecution', 'pugnacious', 'farcically', 'subjection', 'vanity', 'worryingly', 'ragged', 'contend', 'unconstitutional', 'audaciously', 'cold', 'pan', 'poor', 'trivial', 'disappoint', 'appalling', 'stern', 'haze', 'annoys', 'dismaying', 'bruises', 'superstitious', 'delaying', 'savagery', 'ambivalent', 'brutality', 'slaves', 'stressfully', 'fickle', 'terribly', 'spite', 'diappointed', 'obstinately', 'unavoidably', 'divisiveness', 'grumble', 'onerously', 'relapse', 'aches', 'spooky', 'underdog', 'fractiously', 'cannibalize', 'cheaply', 'achey', 'blasphemy', 'perversity', 'gutter', 'sad', 'evil', 'lawbreaker', 'strut', 'swelling', 'dubious', 'poorest', 'troublemaker', 'haters', 'maltreatment', 'blameworthy', 'smokescreen', 'laughably', 'frenzy', 'apocalypse', 'alarmed', 'defrauding', 'foe', 'fear', 'fanciful', 'bragger', 'broken-hearted', 'retaliatory', 'decayed', 'malevolently', 'nasty', 'bad', 'drop-out', 'futile', 'instable', 'dense', 'petrified', 'dumbfound', 'fiasco', 'fumes', 'uncaring', 'vex', 'worthless', 'frenetic', 'hype', 'disagreeably', 'hoodwink', 'corrupted', 'galls', 'tired', 'unnerve', 'admonition', 'defamation', 'satirical', 'slump', 'deluded', 'indiscernible', 'meaningless', 'inadverent', 'spotty', 'jeers', 'drains', 'rebuff', 'precariously', 'tin-y', 'bastard', 'bumped', 'inefficiently', 'inveigle', 'defile', 'wasting', 'inhospitality', 'obsessiveness', 'troublesomely', 'little-known', 'livid', 'inappropriate', 'setback', 'headaches', 'back-wood', 'adulterated', 'obstructed', 'belligerently', 'catastrophies', 'deviously', 'glare', 'selfinterested', 'acerbically', 'forlornly', 'sneakily', 'swollen', 'inundated', 'repulsing', 'rhetorical', 'despondence', 'limits', 'insubstantial', 'stresses', 'grouch', 'plaything', 'miscellaneous', 'passiveness', 'trap', 'tangled', 'mispronounced', 'unappealing', 'slowww', 'violent', 'devastated', 'lecher', 'embroil', 'pessimism', 'fallacy', 'itchy', 'oddity', 'dissatisfy', 'impure', 'shortage', 'gaffe', 'attacks', 'repugn', 'zapped', 'stab', 'knife', 'dripped', 'hang', 'alarming', 'blindingly', 'domineer', 'noxious', 'contradiction', 'suck', 'abyss', 'distrustful', 'mulish', 'deprive', 'regreted', 'accuse', 'faze', 'flat-out', 'distort', 'froze', 'pander', 'paltry', 'deform', 'treasonous', 'brutal', 'maliciousness', 'misstatement', 'anti-semites', 'full-blown', 'mistake', 'mispronounce', 'deter', 'poorer', 'fucking', 'extortion', 'repulsed', 'slogged', 'dispute', 'ominously', 'pokey', 'shroud', 'decay', 'farce', 'predatory', 'untenable', 'dope', 'noisier', 'tarnish', 'irredeemably', 'eruptions', 'suffer', 'brood', 'slowed', 'melodramatic', 'deformed', 'indecision', 'sucked', 'blockage', 'antithetical', 'buckle', 'downheartedly', 'inimical', 'invader', 'mortification', 'oppressive', 'expropriation', 'fudge', 'inconsequentially', 'erase', 'hardball', 'bothering', 'lorn', 'stricken', 'disabled', 'excessively', 'maladjusted', 'antagonist', 'insinuating', 'atrocious', 'unnecessary', 'disparagingly', 'distains', 'faint', 'inarticulate', 'waning', 'disastrous', 'knock', 'fatefully', 'battering', 'belie', 'ugliness', 'discordance', 'incorrigibly', 'vibrates', 'betraying', 'acrimonious', 'devastates', 'flirt', 'incautious', 'inconstant', 'missed', 'objection', 'monotonous', 'oblique', 'ruthlessness', 'insensitive', 'overrated', 'threaten', 'innuendo', 'defiantly', 'backaching', 'madman', 'unbearablely', 'misgiving', 'unnatural', 'hotheaded', 'vomited', 'ruthlessly', 'garish', 'stupid', 'broke', 'beggar', 'overthrows', 'squander', 'opinionated', 'perfunctory', 'bewildering', 'reprehensibly', 'alienated', 'regress', 'tumbles', 'skeletons', 'irregularity', 'inflexible', 'fetid', 'douchbag', 'squeaky', 'disappointed', 'pest', 'undue', 'cave', 'complaining', 'doubtfully', 'swipe', 'acerbic', 'sty', 'contention', 'sickening', 'grossly', 'damn', 'sink', 'hefty', 'irreformable', 'lame-duck', 'mistakenly', 'corrupt', 'frantically', 'hard-line', 'oppress', 'exasperate', 'mawkish', 'detest', 'dejected', 'repetitive', 'vengeful', 'creeping', 'bewilder', 'chaff', 'draconian', 'implausibly', 'infuriating', 'ambivalence', 'agonizingly', 'negation', 'shrivel', 'insufficiently', 'grumpily', 'discrepant', 'dishearteningly', 'imbroglio', 'interfere', 'huckster', 'abominate', 'disrespectable', 'licentious', 'degrade', 'disfavor', 'disinterested', 'belated', 'drawback', 'meltdown', 'discontinuity', 'scandel', 'deception', 'indecently', 'rantingly', 'fanatics', 'multi-polarization', 'rigidness', 'paranoia', 'massacre', 'mystify', 'tumultuous', 'freezing', 'laggy', 'repel', 'fatally', 'venom', 'lemon', 'exasperated', 'cloud', 'nefariously', 'maledict', 'lackeys', 'unfounded', 'indoctrinate', 'unjust', 'undetermined', 'unimaginably', 'beguile', 'meager', 'arduous', 'castigate', 'debauchery', 'illogically', 'tense', 'capriciousness', 'complicit', 'bullying', 'anomaly', 'betray', 'confession', 'pugnacity', 'disturbing', 'smelling', 'hedonistic', 'tumble', 'freaking', 'dispirit', 'subordinate', 'depraved', 'destitution', 'impaired', 'uproariously', 'transgress', 'calumnies', 'imposition', 'divergent', 'terror-genic', 'primitive', 'smolder', 'vileness', 'emphatic', 'servitude', 'diabolically', 'vibrate', 'byzantine', 'dismayingly', 'ill-advised', 'idiots', 'emergency', 'vociferously', 'obtuse', 'hegemonistic', 'flout', 'overbalance', 'finicky', 'sub-par', 'reluctantly', 'adverse', 'sneering', 'sensationalize', 'untrustworthy', 'feebleminded', 'ironies', 'misunderstood', 'sloow', 'demise', 'freak', 'infection', 'steeply', 'devilry', 'shimmy', 'scarred', 'tarnished', 'irreparable', 'sly', 'unsuccessful', 'squeal', 'unwatchable', 'unkindly', 'impudently', 'disheartening', 'lamentably', 'impolitely', 'lugubrious', 'swelled', 'polarisation', 'doddering', 'smack', 'unresolved', 'villianous', 'wildly', 'writhe', 'repulsively', 'inflammed', 'wobbled', 'slowwww', 'cancer', 'disavow', 'hegemonism', 'aborts', 'disgracefully', 'damages', 'dissembler', 'hellion', 'hissed', 'audiciously', 'outrageously', 'uncreative', 'wrangle', 'sermonize', 'immorally', 'fugitive', 'flagging', 'disappointing', 'humming', 'cowardly', 'accost', 'cunt', 'delude', 'dents', 'lividly', 'decadence', 'oversights', 'dearth', 'recalcitrant', 'resentment', 'sickeningly', 'sinking', 'confusions', 'atrophy', 'irresolvable', 'pollute', 'disastrously', 'illegitimate', 'sneak', 'polluters', 'desolately', 'undercutting', 'cutthroat', 'death', 'frustrating', 'craziness', 'stubbornness', 'paralyzed', 'reactionary', 'unauthentic', 'spinster', 'roadblocks', 'dumps', 'begging', 'frustrate', 'unhealthy', 'shambles', 'dubiously', 'naive', 'derisive', 'struck', 'hardliners', 'liars', 'indignant', 'chunky', 'wretch', 'assail', 'bait', 'pestilent', 'vainly', 'incorrigible', 'infamously', 'dissent', 'frenzied', 'ignore', 'hurtful', 'inconceivable', 'resent', 'menial', 'brashness', 'disparaging', 'evade', 'pillage', 'suppress', 'threesome', 'rejecting', 'gutless', 'funnily', 'confound', 'bland', 'contrived', 'uncivil', 'panick', 'shunned', 'deceptive', 'dirtbags', 'exhaustion', 'indecent', 'jolt', 'pain', 'hasty', 'repress', 'apologists', 'admonisher', 'rival', 'dismissively', 'dastardly', 'scum', 'immature', 'limit', 'stupidest', 'unlawfulness', 'impinge', 'pompous', 'pales', 'downer', 'bulkier', 'instigate', 'shrouded', 'crap', 'antagonism', 'fumble', 'indignation', 'hardened', 'infections', 'discomfort', 'monstrous', 'congestion', 'dauntingly', 'punish', 'scandalous', 'smut', 'snobby', 'tyrannical', 'scramble', 'sloppily', 'unproves', 'fictitious', 'pandering', 'racism', 'exagerates', 'loveless', 'paupers', 'overpaid', 'toil', 'bitch', 'evildoer', 'insults', 'demonizes', 'graceless', 'inaptitude', 'irritably', 'feeblely', 'lackey', 'overlook', 'curt', 'disunity', 'illusory', 'underlings', 'annoying', 'spoon-feed', 'inconsistence', 'foul', 'threat', 'unsupportive', 'anti-occupation', 'disconsolate', 'unscrupulous', 'ineptly', 'complicated', 'threats', 'bravado', 'embarrassment', 'scummy', 'incomparable', 'impoverished', 'mania', 'exile', 'slanders', 'solemn', 'impulsively', 'disprove', 'disadvantaged', 'reticent', 'depressed', 'gawky', 'lament', 'protests', 'risk', 'fanatical', 'snags', 'blasted', 'sorely', 'sticky', 'top-heavy', 'absurd', 'squeaks', 'boisterous', 'anti-', 'felonious', 'foolishness', 'lawless', 'inadequately', 'malodorous', 'jittery', 'treason', 'donside', 'stifling', 'betrayals', 'bumping', 'disconcert', 'disrupt', 'revulsion', 'confused', 'grievously', 'improbability', 'wrest', 'demonized', 'numb', 'torturously', 'illusions', 'impede', 'traitorous', 'sceptical', 'cracked', 'apathetic', 'slowly', 'unsupported', 'frustration', 'demonic', 'ignominy', 'arduously', 'irrecoverably', 'crashed', 'turmoil', 'encroachment', 'mirage', 'subdued', 'whips', 'venomous', 'disagreement', 'untested', 'wickedness', 'susceptible', 'insincere', 'bug', 'pitiless', 'absent-minded', 'adamant', 'prate', 'teasingly', 'bastards', 'objections', 'capitulate', 'irrational', 'trauma', 'embarrass', 'ill-fated', 'poverty', 'repudiation', 'melodramatically', 'stigma', 'revert', 'disarm', 'deploring', 'inevitably', 'sharply', 'oddest', 'wound', 'demonize', 'fist', 'ruins', 'bores', 'killed', 'jaded', 'disquiet', 'limitations', 'disturbingly', 'instability', 'losing', 'delirious', 'reviled', 'rhapsodize', 'distracting', 'plight', 'unsound', 'grudges', 'denies', 'careless', 'falling', 'vindictiveness', 'unlawful', 'outbursts', 'pains', 'harm', 'bum', 'contortions', 'discountenance', 'ludicrously', 'disrespectablity', 'upsetting', 'butcher', 'trivialize', 'askance', 'asininely', 'perilous', 'defiler', 'hate', 'fraught', 'fussy', 'heretic', 'leak', 'ricer', 'slanderer', 'liar', 'stunted', 'harasses', 'envious', 'jaundiced', 'slumpping', 'hurt', 'incendiary', 'blindside', 'disasterous', 'brute', 'dark', 'bedlam', 'sueing', 'mess', 'spookiest', 'tyrant', 'impenitent', 'saggy', 'fatigued', 'mockingly', 'scrambling', 'prejudicial', 'reckless', 'torturous', 'gimmicking', 'heedless', 'stuttered', 'prohibitive', 'wickedly', 'wreak', 'mudslinger', 'selfish', 'sloppy', 'crooked', 'blaspheme', 'lies', 'shamefully', 'guilty', 'premeditated', 'grotesque', 'uncertain', 'corrupts', 'nastily', 'shrew', 'far-fetched', 'dissonant', 'detracted', 'effigy', 'grisly', 'suffering', 'difficult', 'epidemic', 'hypocrite', 'overstated', 'mocks', 'suffocate', 'unspeakablely', 'craven', 'terrorism', 'impertinent', 'animosity', 'discontinuous', 'unrelentingly', 'flimflam', 'rabid', 'timidity', 'precarious', 'infringe', 'arrogant', 'hinder', 'weep', 'dissention', 'indecorum', 'banish', 'demonizing', 'grumpy', 'brainless', 'inundate', 'lechery', 'growl', 'nitpicking', 'screw-up', 'expired', 'unfairly', 'inhumane', 'licentiousness', 'pricier', 'lewdly', 'flaws', 'dizzy', 'antipathy', 'dissappointed', 'bias', 'ridiculously', 'steep', 'distressed', 'stump', 'tangles', 'unstable', 'mistified', 'fatty', 'unpopular', 'downcast', 'penalize', 'unprepared', 'untrue', 'flickers', 'mistaken', 'violator', 'unseemly', 'friction', 'sucky', 'unimportant', 'marginal', 'cripples', 'dispiritedly', 'depressingly', 'exploitation', 'deteriorate', 'ironically', 'rancor', 'fustigate', 'invidiousness', 'wripping', 'frightening', 'contaminates', 'demolisher', 'aspersion', 'gibber', 'unorthodox', 'blurt', 'boastful', 'cry', 'drastically', 'incoherently', 'absence', 'misguide', 'plot', 'temerity', 'unsure', 'flagrantly', 'whores', 'boredom', 'messes', 'allegations', 'bankrupt', 'complained', 'besiege', 'disillusion', 'hobble', 'disquieting', 'flaunt', 'lawbreaking', 'muscle-flexing', 'unfulfilled', 'moot', 'scaly', 'rumple', 'shady', 'stupor', 'insolent', 'cancerous', 'spitefulness', 'dehumanize', 'dogged', 'limitation', 'repugnant', 'ferociously', 'shrilly', 'tortuous', 'grind', 'unlamentably', 'cravenly', 'anxiousness', 'derisively', 'shame', 'disbelief', 'hardship', 'calumniously', 'impolitic', 'mar', 'mists', 'puppet', 'ingratitude', 'conspiracy', 'depression', 'inexpert', 'dictator', 'gaudy', 'glibly', 'hopeless', 'desolation', 'mindlessly', 'prisoner', 'lecherous', 'virus', 'rhetoric', 'breaking', 'irritations', 'traumatically', 'restricted', 'backache', 'abrupt', 'stigmatize', 'wild', 'commiserate', 'flare', 'destructive', 'stumps', 'fallout', 'criticizing', 'laughingstock', 'fatcat', 'discontinued', 'weirdly', 'wiles', 'doomed', 'weaknesses', 'harrow', 'calumnious', 'vagueness', 'blister', 'revulsive', 'stagnant', 'suspicion', 'slaughtered', 'obstruction', 'nonsense', 'distressingly', 'inimically', 'phobic', 'offence', 'resignation', 'underestimate', 'chill', 'mediocrity', 'bitchy', 'inconsistencies', 'emaciated', 'thirst', 'virulence', 'crashing', 'accusing', 'concessions', 'burns', 'layoff-happy', 'din', 'scoundrel', 'bereavement', 'troubles', 'fatique', 'hacks', 'stench', 'overwhelms', 'intefere', 'reproach', 'demoralizing', 'gangster', 'negligence', 'reluctance', 'guiltily', 'crass', 'acridly', 'dissatisfied', 'flak', 'heartbreakingly', 'inextricable', 'threatening', 'angriness', 'creaking', 'douchebag', 'crumble', 'mishap', 'blather', 'cataclysmic', 'harridan', 'opponent', 'squabbling', 'irritate', 'inculcate', 'battered', 'evasive', 'expropriate', 'fabrication', 'jitters', 'irrepressible', 'hard-hit', 'undermining', 'scorching', 'scandal', 'rebuke', 'stereotype', 'volatility', 'fearsome', 'impetuously', 'preposterously', 'exploit', 'scarce', 'repulsiveness', 'tainted', 'subvert', 'unsettled', 'blackmail', 'restless', 'addict', 'maniacal', 'apathetically', 'rocky', 'facetiously', 'humiliating', 'emptiness', 'laconic', 'blandish', 'egomania', 'misbecoming', 'unsatisfactory', 'precipitate', 'upsettingly', 'disgrace', 'predicament', 'enslave', 'insane', 'obstacle', 'alienate', 'cataclysmal', 'enraging', 'mortified', 'tanks', 'effrontery', 'provocation', 'lech', 'affliction', 'condescendingly', 'obscene', 'short-lived', 'prejudices', 'bruising', 'unwise', 'wrongful', 'lewd', 'flounder', 'ironic', 'burdensome', 'commonplace', 'corrosive', 'insolently', 'resigned', 'floored', 'thug', 'extremist', 'selfishly', 'bump', 'chatter', 'stymied', 'tenuously', 'contempt', 'dilapidated', 'lull', 'undefined', 'job-killing', 'giddy', 'morbid', 'over-hyped', 'risks', 'unlicensed', 'confined', 'debatable', 'sardonically', 'stain', 'foulness', 'hallucination', 'indiscriminately', 'obliterate', 'unwell', 'bullshit', 'blabber', 'jeopardize', 'leaking', 'ghetto', 'rampage', 'bumpy', 'dishonesty', 'bristle', 'exhaust', 'dissappointing', 'bumpping', 'chide', 'credulous', 'perturb', 'faithless', 'inequitably', 'drag', 'frustrated', 'stalls', 'traumatize', 'detrimental', 'angry', 'pauper', 'ruin', 'leakages', 'obnoxious', 'groundless', 'motionless', 'stingingly', 'loopholes', 'tricked', 'calamity', 'underpaid', 'irksomely', 'strict', 'damper', 'obscenity', 'bs', 'wallow', 'anarchy', 'antagonize', 'iniquity', 'polemize', 'whore', 'loser', 'debilitating', 'belligerence', 'diatribe', 'abuses', 'malady', 'disrespectfully', 'wilt', 'spoilage', 'foreboding', 'hegemony', 'creepy', 'jutters', 'skinny', 'detract', 'upheaval', 'dinky', 'insupportable', 'berserk', 'disintegrated', 'forsaken', 'killing', 'indiscriminating', 'indistinguishable', 'imperfections', 'barbaric', 'eschew', 'scariest', 'orphan', 'flawed', 'flirty', 'protested', 'bumps', 'haughtily', 'impersonal', 'deficiency', 'disapointing', 'overheat', 'insensible', 'scandals', 'merciless', 'ambiguity', 'anxious', 'disparage', 'diabolic', 'intractable', 'contradictory', 'misreading', 'dissidents', 'loner', 'unprove', 'stalemate', 'siege', 'senile', 'pillory', 'inflict', 'motley', 'disinterest', 'over-awe', 'perplexing', 'decline', 'startling', 'acridness', 'inopportune', 'capsize', 'detriment', 'negligent', 'sicken', 'bullshyt', 'delinquency', 'coercive', 'unobserved', 'breakups', 'audaciousness', 'meanness', 'adversarial', 'humid', 'faults', 'cheat', 'agonizing', 'boil', 'nebulously', 'fatuously', 'harass', 'insanity', 'loathsome', 'maddeningly', 'messy', 'run-down', 'barbarous', 'stooge', 'imperfection', 'harassed', 'quash', 'sarcasm', 'complex', 'hypocrisy', 'screwed-up', 'strident', 'disable', 'overpriced', 'enemies', 'uncompromisingly', 'offensive', 'violently', 'blunder', 'peril', 'distraughtly', 'cringes', 'loot', 'misbegotten', 'shipwreck', 'flees', 'disallow', 'perverse', 'attack', 'imprecise', 'confuses', 'discontented', 'detestable', 'greedy', 'bloody', 'corruptted', 'intense', 'unfaithful', 'disdainful', 'admonishment', 'concen', 'overpower', 'plotters', 'callous', 'subversion', 'frantic', 'dissonantly', 'fathomless', 'pimple', 'execrate', 'regretted', 'drought', 'tragedy', 'agonies', 'viciously', 'vomit', 'crappy', 'flaky', 'dented', 'incitement', 'peeled', 'reproachful', 'imperil', 'disinclination', 'fleer', 'dissatisfactory', 'malcontent', 'static', 'ashamed', 'useless', 'rattle', 'deaf', 'testily', 'revoke', 'madden', 'decrepitude', 'demon', 'loses', 'incessantly', 'overbearingly', 'sidetrack', 'dies', 'improbable', 'staid', 'complication', 'dirty', 'quarrellous', 'deviation', 'extraneous', 'refuting', 'brazen', 'sarcastic', 'discouragement', 'shirk', 'unspeakable', 'impose', 'destruction', 'diametrically', 'entrapment', 'fragile', 'exagerated', 'foully', 'miseries', 'sneaky', 'dead', 'dismal', 'lonely', 'mischievously', 'unfaithfully', 'recklessness', 'superficial', 'faulty', 'unnaturally', 'fail', 'incite', 'rage', 'disordered', 'moron', 'distorted', 'critics', 'lacking', 'cripple', 'embroilment', 'soreness', 'arrogance', 'inappropriately', 'recession', 'uncompromising', 'sully', 'shirker', 'blurring', 'assassinate', 'baffled', 'befoul', 'moronic', 'misconception', 'showdown', 'unusably', 'warp', 'overwhelming', 'unilateralism', 'discredit', 'menacingly', 'two-faces', 'prison', 'scathingly', 'taunting', 'collusion', 'gossip', 'puzzlement', 'grumpish', 'dishonest', 'doomsday', 'fallacies', 'nastiness', 'desert', 'loathsomely', 'tyranny', 'garbage', 'obscures', 'disingenuously', 'bugs', 'hindrance', 'inexplainable', 'disagreeable', 'disorient', 'flagrant', 'disapointment', 'sham', 'stark', 'unjustified', 'discourage', 'unwanted', 'harangue', 'gripes', 'mischief', 'deterioration', 'despised', 'indigent', 'calumniation', 'wearisome', 'loose', 'rollercoaster', 'unproving', 'niggles', 'undermines', 'haunt', 'nightmarishly', 'affront', 'ridicule', 'immoral', 'demean', 'cliche', 'deadlock', 'lambaste', 'impending', 'craps', 'sass', 'procrastination', 'impatiently', 'tantrum', 'bitterly', 'nervousness', 'dissidence', 'trick', 'wreaked', 'bemoan', 'arbitrary', 'barbarian', 'omission', 'spitefully', 'unsecure', 'calamities', 'chafe', 'exorbitant', 'insincerity', 'pedantic', 'incomprehension', 'acrimony', 'drastic', 'drained', 'desperation', 'suicide', 'weed', 'vindictive', 'reluctant', 'bitter', 'infuriatingly', 'avalanche', 'oddities', 'trouble', 'intrude', 'insurmountable', 'delay', 'ridiculous', 'funny', 'protesting', 'ruffian', 'frazzled', 'repressive', 'damnation', 'conspire', 'beware', 'myth', 'selfishness', 'persecute', 'brutally', 'dirtbag', 'racist', 'phony', 'blah', 'unaffordable', 'fret', 'bickering', 'corrode', 'scratches', 'distrust', 'drunken', 'unsettlingly', 'patronize', 'stiflingly', 'inanely', 'hastily', 'unworthy', 'deadly', 'grouchy', 'dissuasive', 'obstinate', 'taint', 'muddle', 'irate', 'wack', 'slashing', 'forbidding', 'hard-liner', 'helplessly', 'humiliation', 'outbreak', 'perfidity', 'ruthless', 'impulsive', 'died', 'muddy', 'hestitant', 'slower', 'annoy', 'unorthodoxy', 'undercut', 'illness', 'combative', 'licentiously', 'adamantly', 'inequality', 'regrets', 'thrash', 'carnage', 'dusty', 'uproot', 'fearful', 'fume', 'mercilessly', 'suicidal', 'unacceptablely', 'instigator', 'avaricious', 'annihilation', 'mortify', 'life-threatening', 'dissenter', 'spoon-fed', 'unpredictable', 'lanky', 'stun', 'undignified', 'grudge', 'lonesome', 'brainwash', 'cruelness', 'apathy', 'impolite', 'squabble', 'unhappy', 'cussed', 'pervert', 'involuntary', 'appalled', 'mischievous', 'flaking', 'backbiting', 'reprehensible', 'pertinaciously', 'timidness', 'polution', 'lagged', 'worst', 'revolt', 'disappointingly', 'embattled', 'discriminate', 'sourly', 'exasperation', 'hopelessness', 'inept', 'infringements', 'brash', 'flighty', 'tiring', 'disobedient', 'cheesy', 'poisonous', 'vibrating', 'overwhelm', 'pigs', 'unthinkably', 'overdo', 'disbelieve', 'infamous', 'inexcusably', 'flicker', 'puzzling', 'horrifies', 'insignificant', 'low-rated', 'overstatement', 'smouldering', 'touted', 'unscrupulously', 'ineligible', 'perversely', 'suspicions', 'matte', 'one-sided', 'smug', 'hatefully', 'chatterbox', 'concern', 'transgression', 'meddle', 'nettle', 'appallingly', 'scoldingly', 'incommensurate', 'afflict', 'anxiously', 'glitches', 'warlike', 'gloom', 'sarcastically', 'barbarity', 'disgust', 'bigotries', 'ire', 'helpless', 'subjugation', 'clamorous', 'struggle', 'refutation', 'ineptitude', 'defamations', 'disgustingly', 'partisan', 'distressing', 'rumor', 'stagnation', 'bruise', 'famished', 'gall', 'demoralize', 'self-defeating', 'less-developed', 'bearish', 'miscalculate', 'pretentious', 'sinister', 'cackle', 'enrage', 'ugh', 'detestably', 'anti-proliferation', 'agonize', 'blemish', 'joke', 'discontent', 'fastidious', 'imprecision', 'dilemma', 'incompetently', 'negativity', 'invidiously', 'outburst', 'rebellious', 'unclear', 'uncomfortable', 'unwelcome', 'rubbish', 'eyesore', 'denounce', 'relentlessness', 'immodest', 'obsess', 'anguish', 'erroneously', 'hazy', 'flee', 'mashed', 'prick', 'mockery', 'unsteadiness', 'disobedience', 'bleakness', 'bully', 'odder', 'deadbeat', 'downbeat', 'failure', 'imprudence', 'presumptuous', 'abruptly', 'anti-social', 'jobless', 'occlude', 'rejects', 'worthlessness', 'dishonor', 'domineering', 'hardhearted', 'jealousness', 'languish', 'shameful', 'deprecate', 'snub', 'substandard', 'disgusted', 'contemptible', 'busybody', 'vexation', 'interruptions', 'shun', 'trample', 'distastefully', 'outraged', 'annoyances', 'distraction', 'fright', 'intimidating', 'adulterier', 'dislikes', 'dirts', 'nervously', 'passive', 'disdain', 'spurn', 'wasted', 'malign', 'embarrassing', 'barren', 'vagrant', 'touchy', 'desperate', 'wrong', 'bedlamite', 'bloodthirsty', 'sickly', 'election-rigger', 'imprudent', 'lagging', 'nightmarish', 'rip-off', 'zealously', 'chilly', 'insular', 'shameless', 'insulted', 'inapt', 'high-priced', 'unnoticed', 'madness', 'disown', 'lacks', 'enviously', 'heathen', 'enmity', 'insinuation', 'twists', 'bemoaning', 'congested', 'dust', 'last-ditch', 'dire', 'obscure', 'disadvantageous', 'laughable', 'egocentric', 'restrict', 'tragically', 'argumentative', 'forlorn', 'misread', 'gimmick', 'martyrdom-seeking', 'divisive', 'grievance', 'opposition', 'shockingly', 'tepid', 'war-like', 'villains', 'dimmer', 'anti-white', 'immovable', 'disdained', 'thorny', 'stale', 'crushed', 'fastuous', 'quarrellously', 'calamitous', 'decrepit', 'illusion', 'succumb', 'inefficiency', 'flares', 'peeve', 'weird', 'pleas', 'worthlessly', 'misconceptions', 'pertinacity', 'damaging', 'hum', 'whiny', 'mindless', 'stuffy', 'irrationals', 'egregious', 'flickering', 'oppression', 'mushy', 'sardonic', 'hairloss', 'wretched', 'abrade', 'inferior', 'caustic', 'unproven', 'violate', 'baseless', 'horrified', 'sufferers', 'left-leaning', 'arcane', 'dubitable', 'haphazard', 'falter', 'cunts', 'mendacious', 'lacked', 'resurgent', 'skeptic', 'obscured', 'rust', 'infuriated', 'slow-moving', 'harmed', 'offend', 'stinks', 'delayed', 'overplay', 'untouched', 'crippling', 'deprived', 'rankle', 'bombastic', 'ranting', 'starvation', 'anti-us', 'inglorious', 'miff', 'sneeringly', 'incongruous', 'detracts', 'heckled', 'afraid', 'overzealous', 'irked', 'sloww', 'lurking', 'tawdry', 'undesirable', 'ugly', 'unfamiliar', 'disloyalty', 'scuffs', 'cynical', 'dick', 'degeneration', 'violation', 'shemale', 'idiot', 'aggrieve', 'impatient', 'misbehavior', 'smudge', 'calamitously', 'officious', 'bombardment', 'freeze', 'hatred', 'rascal', 'denigrate', 'irrationality', 'miserable', 'languor', 'uneasy', 'bondage', 'pity', 'disturbance', 'insociable', 'disappoints', 'refused', 'drags', 'errant', 'unwisely', 'cannibal', 'lowly', 'confrontation', 'dismissive', 'repulse', 'dud', 'shake', 'stall', 'foolishly', 'incompetence', 'fiendish', 'contemptuous', 'quarrel', 'defect', 'erosion', 'vulgar', 'annoyance', 'salacious', 'corrosions', 'unproved', 'mobster', 'bitingly', 'hazardous', 'obscenely', 'hallucinate', 'bulkiness', 'nagging', 'disapprobation', 'inactive', 'lethal', 'authoritarian', 'dizzingly', 'pointlessly', 'rude', 'inconvenience', 'misuse', 'slowest', 'afflictive', 'bothers', 'frown', 'foolish', 'propaganda', 'desultory', 'franticly', 'treachery', 'gravely', 'consternation', 'biases', 'damaged', 'disagreeing', 'felon', 'gross', 'slooow', 'gabble', 'chastisement', 'gripe', 'dissolute', 'starkly', 'severity', 'uproar', 'atrocity', 'crumples', 'preoccupy', 'remorseless', 'lazy', 'jeopardy', 'stress', 'jarring', 'perturbed', 'crush', 'immoderately', 'd*mn', 'freezes', 'galling', 'exasperatingly', 'irksome', 'avenge', 'fell', 'acrid', 'bewildered', 'limited', 'passe', 'erroneous', 'two-faced', 'dejection', 'urgent', 'gracelessly', 'fusty', 'farfetched', 'unattractive', 'discompose', 'drunkard', 'unbelievably', 'mysteriously', 'flabbergast', 'needless', 'wince', 'lurid', 'cruelty', 'brashly', 'atrocities', 'ineffectualness', 'confrontational', 'deteriorating', 'dismay', 'injustice', 'condemn', 'squeals', 'mystery', 'bewitch', 'smutty', 'fiend', 'hangs', 'ruinous', 'spendy', 'unsavory', 'leaks', 'subservience', 'disarray', 'insouciance', 'estranged', 'monstrously', 'severe', 'drones', 'lame', 'indecisively', 'intolerable', 'goad', 'rremediable', 'taunt', 'intermittent', 'wrath', 'madder', 'damning', 'warned', 'scowl', 'skittishly', 'pittance', 'downfallen', 'radicalization', 'decrement', 'excessive', 'inelegant', 'flakieness', 'hassle', 'betrayal', 'gullible', 'queer', 'troubled', 'stupidly', 'implausible', 'distrusting', 'malcontented', 'anger', 'disagree', 'thoughtlessly', 'jagged', 'dilly-dally', 'freakishly', 'petrify', 'inevitable', 'freaks', 'unavailable', 'payback', 'badly', 'dissolution', 'scratch', 'hamper', 'asperse', 'gainsayer', 'daunting', 'murderous', 'downhearted', 'rotten', 'frustrations', 'commotions', 'vomiting', 'ill-defined', 'panicking', 'dissing', 'loathe', 'insolvent', 'pickets', 'elimination', 'womanizer', 'sanctimonious', 'subversively', 'wreck', 'banalize', 'dictatorial', 'enjoin', 'regrettably', 'nag', 'difficulty', 'ill-used', 'junk', 'defective', 'downturn', 'feint', 'break', 'resentful', 'blurs', 'distortion', 'dunce', 'layoff', 'cataclysmically', 'scathing', 'superstition', 'unwarranted', 'junkyard', 'manipulators', 'rants', 'restriction', 'devilishly', 'ingrate', 'scolding', 'debasement', 'hardliner', 'havoc', 'misinform', 'rip', 'incorrectly', 'dejectedly', 'dropouts', 'ignorance', 'grieving', 'pitifully', 'idiocies', 'conspicuous', 'disorganized', 'punch', 'rot', 'ineffectually', 'injustices', 'painfully', 'disreputable', 'plebeian', 'harms', 'tragic', 'prickle', 'weary', 'choppy', 'irresolute', 'alienation', 'fuzzy', 'wounds', 'hasseling', 'regretfully', 'corrosion', 'lunatic', 'deplorable', 'declines', 'eviscerate', 'distraught', 'unravel', 'invisible', 'pessimistically', 'scorn', 'tetchily', 'stole', 'conceded', 'deceptively', 'hectic', 'fruitless', 'strange', 'expel', 'ranted', 'rumors', 'semi-retarded', 'outsider', 'antiquated', 'scratched', 'disorder', 'despoiler', 'false', 'niggle', 'buzzing', 'dishearten', 'panicked', 'perverted', 'womanizing', 'paradoxical', 'spewed', 'ignoble', 'irrecoverable', 'devil', 'ineffective', 'austere', 'jealousy', 'tedious', 'avariciously', 'fraud', 'hysteria', 'inflame', 'horrifys', 'ill-mannered', 'leery', 'simplistic', 'dishonorablely', 'bane', 'unaccustomed', 'toll', 'scuff', 'mournfully', 'shoddy', 'incredulously', 'rant', 'jeer', 'resistance', 'ailing', 'vibrated', 'insincerely', 'clamor', 'rattled', 'ugliest', 'absentee', 'unpleasant', 'mistrustful', 'vengefully', 'messing', 'unintelligile', 'shaky', 'raging', 'terribleness', 'grievances', 'disintegrates', 'mysterious', 'devilment', 'disgruntled', 'mundane', 'virulently', 'picketed', 'scornful', 'disoriented', 'injury', 'prevaricate', 'stodgy', 'syndrome', 'emphatically', 'marginally', 'misguided', 'indeterminable', 'overstates', 'mist', 'derision', 'bogus', 'f**k', 'farcical-yet-provocative', 'awkwardness', 'spook', 'hysterically', 'distract', 'imperiously', 'jam', 'disgusting', 'inadvisable', 'onerous', 'occludes', 'clueless', 'shamelessly', 'wrinkle', 'cheap', 'petty', 'despondency', 'concession', 'perplexity', 'fatuity', 'lone', 'overreach', 'problematic', 'sugarcoated', 'uncollectible', 'compulsive', 'abusive', 'contradict', 'invidious', 'obliterated', 'doom', 'flicering', 'goof', 'hothead', 'overacted', 'coercion', 'incompetent', 'picket', 'burned', 'incompliant', 'forgetfulness', 'self-coup', 'hatefulness', 'cruelly', 'discomfit', 'ignominious', 'unlikely', 'drowning', 'dent', 'deceitfulness', 'damage', 'evils', 'jumpy', 'treacherous', 'uneven', 'musty', 'bashing', 'hoard', 'prosecute', 'worsening', 'idiocy', 'negative', 'superficiality', 'die-hard', 'disbeliever', 'challenging', 'collude', 'fatcats', 'fracture', 'confounding', 'fidgety', 'hapless', 'sever', 'stolen', 'exorbitantly', 'oversimplification', 'shriek', 'thoughtless', 'lambast', 'clumsy', 'breaks', 'disses', 'guilt', 'scapegoat', 'sin', 'wimpy', 'dispirited', 'crafty', 'dreadfulness', 'long-time', 'uncontrolled', 'falls', 'anxieties', 'frightfully', 'glower', 'overemphasize', 'deficient', 'misrepresent', 'sidetracked', 'asunder', 'doggedly', 'abominable', 'menace', 'fails', 'clogged', 'crazily', 'idiotically', 'nonresponsive', 'back-logged', 'hostilities', 'loss', 'puzzled', 'smuttiest', 'ultra-hardline', 'undermined', 'ill-treated', 'paucity', 'sag', 'denial', 'disgustfully', 'intoxicate', 'strangely', 'impiety', 'immobilized', 'listless', 'negatives', 'cynicism', 'disloyal', 'pervasive', 'inequalities', 'slut', 'oversize', 'abolish', 'aground', 'heretical', 'inexperience', 'allergies', 'misaligns', 'neurotic', 'disvalue', 'exhausted', 'adversary', 'brat', 'delays', 'impossibly', 'destroy', 'belittling', 'maliciously', 'mordant', 'strangle', 'slanderously', 'sugar-coated', 'bent', 'irrecoverablenesses', 'deign', 'lurk', 'cringed', 'impudence', 'despicable', 'bewilderment', 'ill-conceived', 'mistress', 'strangest', 'enraged', 'taboo', 'toughness', 'dissension', 'powerless', 'offenses', 'brutalize', 'unachievable', 'frail', 'doubtful', 'irony', 'tank', 'sinisterly', 'unexplained', 'irredeemable', 'defiant', 'contagious', 'dangerous', 'pertinacious', 'bulky', 'flabbergasted', 'drunk', 'irritation', 'ill-sorted', 'wayward', 'backwardness', 'awfully', 'thumb-down', 'invasive', 'scarcely', 'undermine', 'lengthy', 'gape', 'oppositions', 'timid', 'villify', 'ineloquent', 'obese', 'zealous', 'disquietingly', 'unnerving', 'choke', 'terror', 'despot', 'enemy', 'self-destructive', 'hurted', 'grievous', 'lamentable', 'insufficiency', 'intimidation', 'anomalous', 'lag', 'ghosting', 'dumping', 'expulse', 'misery', 'odd', 'over-balanced', 'rigid', 'broken', 'moody', 'intrusion', 'forceful', 'buggy', 'importunate', 'obtrusive', 'extermination', 'perplexed', 'miss', 'autocrat', 'displease', 'obsessive', 'secretive', 'time-consuming', 'break-ups', 'unsuccessfully', 'conflicting', 'junky', 'wrip', 'maladjustment', 'mourn', 'ineloquently', 'obscurity', 'dim', 'hothouse', 'soapy', 'unforeseen', 'isolate', 'plea', 'worriedly', 'irreversible', 'appall', 'inconsolably', 'inaudible', 'destains', 'scams', 'jutter', 'ungovernable', 'symptoms', 'overbalanced', 'lapse', 'pretence', 'unmoved', 'spiritless', 'harboring', 'contentious', 'scarcity', 'lesser-known', 'impediment', 'prejudge', 'improper', 'shortness', 'feign', 'lapsed', 'snobs', 'undocumented', 'toxic', 'heavy-handed', 'incognizant', 'outcast', 'incorrect', 'flareups', 'turbulent', 'archaic', 'horrendous', 'inability', 'whimper', 'bewail', 'backbite', 'tacky', 'aversion', 'cumbersome', 'avarice', 'bowdlerize', 'plague', 'messed', 'pique', 'flake', 'lawlessness', 'tediously', 'disrespecting', 'abomination', 'harden', 'abuse', 'decadent', 'slander', 'skeptical', 'sucker', 'vehemently', 'oppressors', 'egotism', 'tardy', 'disadvantage', 'equivocal', 'assault', 'beg', 'counterproductive', 'inexperienced', 'discordant', 'suspicious', 'traumatized', 'aggravating', 'mendacity', 'babble', 'indifferent', 'bafflement', 'naively', 'squeak', 'expire', 'strain', 'recklessly', 'rough', 'ungrateful', 'casualty', 'ill-favored', 'liability', 'massacres', 'self-interest', 'vent', 'costly', 'weakness', 'randomly', 'radical', 'sketchy', 'downgrade', 'leakage', 'hater', 'overstatements', 'revoltingly', 'throbbing', 'damnable', 'castrated', 'catastrophes', 'conspicuously', 'discontentedly', 'intrusive', 'irk', 'drain', 'harassment', 'unreliable', 'unworkable', 'greed', 'delinquent', 'goofy', 'viciousness', 'detracting', 'tenuous', 'fool', 'ambiguous', 'loathing', 'remorsefully', 'disservice', 'acrimoniously', 'exaggerate', 'doubt', 'infidel', 'misses', 'ripped', 'cruelest', 'travesty', 'denying', 'glitch', 'inexpiable', 'snagged', 'water-down', 'recessionary', 'murderously', 'slothful', 'inescapably', 'blockhead', 'unease', 'unwieldy', 'misalign', 'sufferer', 'horde', 'imposers', 'heck', 'tetchy', 'blunt', 'smallish', 'twisted', 'fried', 'scrap', 'smelt', 'zaps', 'mislike', 'damnably', 'vomits', 'wastefulness', 'strike', 'distraughtness', 'deprave', 'incessant', 'louder', 'rumours', 'hassled', 'stuck', 'bribery', 'coupists', 'defensive', 'cocky', 'doubts', 'impunity', 'vain', 'ho-hum', 'tension', 'peculiar', 'offender', 'pariah', 'criticisms', 'wretchedness', 'absurdity', 'clogs', 'shallow', 'recourses', 'shortcoming', 'trashed', 'scared', 'disconcerting', 'fiction', 'vehement', 'unkind', 'inequities', 'fascist', 'hawkish', 'pernicious', 'prik', 'fanatically', 'awful', 'disrespectful', 'snobish', 'sluggish', 'reprove', 'testy', 'oppressiveness', 'picketing', 'critic', 'fierce', 'lapses', 'inordinate', 'demolish', 'second-class', 'irately', 'shadowy', 'murderer', 'tanked', 'intolerablely', 'troublesome', 'malevolence', 'dissuade', 'mispronounces', 'shabby', 'squealing', 'inconsolable', 'lukewarm', 'irragularity', 'woe', 'creak', 'snappish', 'aggravation', 'crumple', 'fleeing', 'bestial', 'hell', 'fidget', 'bleeding', 'forsake', 'grating', 'god-awful', 'skittish', 'furor', 'scarier', 'stumped', 'downfall', 'deploringly', 'remorse', 'spade', 'starve', 'viper', 'awfulness', 'stiff', 'prejudice', 'revolting', 'utterly', 'dismally', 'bashed', 'throttle', 'cons', 'asinininity', 'rash', 'lack', 'extravagance', 'misinformed', 'chagrin', 'hung', 'uncompetitive', 'maddening', 'bugging', 'molest', 'notoriety', 'irking', 'scoffingly', 'outrageousness', 'pathetic', 'stingy', 'detesting', 'unrest', 'unviewable', 'oddly', 'self-interested', 'unresponsive', 'stutter', 'interference', 'coldly', 'grumpier', 'critical', 'catastrophe', 'insult', 'occluded', 'nauseates', 'unuseable', 'unsteadily', 'antagonistic', 'contaminating', 'accusingly', 'carp', 'barbarously', 'unaccessible', 'abrasive', 'delirium', 'fib', 'bellicose', 'hurts', 'condemns', 'problem', 'absurdly', 'insolence', 'derogatory', 'languorously', 'devastation', 'throb', 'forswear', 'inoperable', 'wily', 'cuss', 'baffle', 'unwillingly', 'symptom', 'unacceptably', 'rue', 'rattles', 'undid', 'clog', 'irritable', 'cranky', 'rivalry', 'furiously', 'dizzing', 'brusque', 'gibberish', 'graft', 'loneliness', 'chronic', 'debacle', 'scary', 'ultimatum', 'disturbed', 'grudgingly', 'confusion', 'remorselessly', 'ravage', 'apologist', 'scarily', 'unemployed', 'spoonfed', 'haggle', 'breakup', 'languid', 'unsteady', 'misapprehend', 'confess', 'head-aches', 'delusions', 'confounded', 'over-valuation', 'falsely', 'deceit', 'trickery', 'exorbitantance', 'quarrels', 'uprising', 'pinch', 'disregard', 'sporadic', 'twist', 'deceivers', 'stammer', 'impurity', 'misfit', 'bash', 'disproportionate', 'thwart', 'frightful', 'discriminatory', 'inconceivably', 'aggression', 'outrage', 'incense', 'preposterous', 'reprehension', 'inefficacious', 'forged', 'contrive', 'besmirch', 'impoverish', 'nauseate', 'overkill', 'forgetfully', 'defamatory', 'horrify', 'sick', 'lying', 'satirize', 'debaser', 'extravagantly', 'poorly', 'batty', 'gauche', 'inaccurate', 'gritty', 'notoriously', 'cataclysm', 'dreary', 'tamper', 'disturb', 'tortured', 'unreasonably', 'dogmatic', 'insensitively', 'overshadow', 'annoyed', 'lethargy', 'slave', 'sullen', 'non-confidence', 'fractious', 'concens', 'unfunded', 'plunder', 'betrays', 'redundancy', 'downsides', 'throbs', 'mismanage', 'horrible', 'sunken', 'aggressor', 'thicker', 'zealot', 'punk', 'bullyingly', 'perversion', 'inhospitable', 'dissed', 'leech', 'sorrow', 'aggrieved', 'criticism', 'disgustful', 'spew', 'worrying', 'troublingly', 'mocked', 'extinguish', 'fevers', 'insurmountably', 'harried', 'stifle', 'dawdle', 'refuse', 'quibbles', 'unknown', 'denunciate', 'degradingly', 'malicious', 'mourner', 'retract', 'impair', 'wobbles', 'prohibitively', 'shrug', 'overrun', 'butchery', 'undone', 'object', 'disgruntle', 'crowdedness', 'errors', 'hubris', 'rumbling', 'snobbish', 'fleed', 'inconsequently', 'unusable', 'dropout', 'disaffected', 'enfeeble', 'irritated', 'bloated', 'defame', 'manipulate', 'reject', 'screech', 'incompatability', 'overloaded', 'pout', 'weakening', 'facetious', 'injure', 'blasphemous', 'gainsay', 'insufferable', 'irrationally', 'pratfall', 'stereotypical', 'judders', 'mawkishness', 'vengefulness', 'alarmingly', 'unable', 'insurrection', 'moan', 'interruption', 'brutalities', 'disconcerted', 'fallaciously', 'snarl', 'swagger', 'deluge', 'misguidance', 'retreat', 'misunderstand', 'revenge', 'shimmer', 'sued', 'blatantly', 'disadvantages', 'torment', 'nosey', 'contaminated', 'sickness', 'hopelessly', 'bigotry', 'craftly', 'disregardful', 'senselessly', 'beset', 'latency', 'displace', 'hazard', 'remorselessness', 'illicit', 'entrap', 'belligerent', 'jitter', 'zap', 'punitive', 'chaos', 'wary', 'conflict', 'unreasonable', 'slog', 'precipitous', 'back-woods', 'failing', 'improperly', 'bungle', 'discoutinous', 'downside', 'outmoded', 'impious', 'belabor', 'burden', 'irascible', 'hurting', 'illiterate', 'derisiveness', 'insatiable', 'mournful', 'perilously', 'distorts', 'haunting', 'implode', 'feckless', 'punishable', 'horrifying', 'outcry', 'allergic', 'smear', 'stringently', 'disruption', 'indeterminate', 'oppose', 'straggler', 'sobering', 'fulminate', 'smash', 'uproarously', 'dissapointed', 'relentlessly', 'despise', 'irks', 'eccentric', 'collapse', 'accusation', 'imaginary', 'inadvisably', 'nervous', 'profane', 'unfortunately', 'smells', 'isolated', 'irresponsibly', 'struggled', 'losses', 'disapproval', 'nonexistent', 'entanglement', 'beleaguer', 'scold', 'blind', 'tangle', 'wane', 'indignantly', 'incapably', 'disorderly', 'infamy', 'impermissible', 'excruciating', 'jeering', 'quitter', 'stutters', 'startle', 'grate', 'dangerousness', 'dissocial', 'diatribes', 'brittle', 'uproarous', 'vestiges', 'doldrums', 'rigidity', 'inconsequential', 'unqualified', 'daze', 'hated', 'disingenuous', 'woebegone', 'stringent', 'puppets', 'failures', 'penalty', 'dismayed', 'unconvincingly', 'deceive', 'disruptive', 'slack', 'paradoxically', 'fanaticism', 'condescend', 'drips', 'falsehood', 'hustler', 'disillusioned', 'bid-rigging', 'panicky', 'unhappily', 'demoralizingly', 'clouding', 'savage', 'submissive', 'upseting', 'boycott', 'blinding', 'flair', 'jeeringly', 'averse', 'backwood', 'disagrees', 'dissemble', 'imprisonment', 'hogs', 'outrageous', 'fluster', 'splitting', 'stupified', 'discourteously', 'abominably', 'kills', 'ludicrous', 'seethe', 'unusually', 'deceitfully', 'fatalistic', 'grudging', 'sinful', 'incompatibility', 'belittled', 'stereotypically', '2-faced', 'lose', 'qualms', 'cursed', 'mistrust', 'incapable', 'panic', 'dying', 'overstate', 'uninformed', 'ache', 'crushing', 'expensive', 'injurious', 'crueler', 'declining', 'parody', 'heckles', 'bleeds', 'degradation', 'diss', 'inaccuracies', 'inconsequent', 'disavowal', 'depressing', 'balk', 'fruitlessly', 'skepticism', 'fall', 'undercuts', 'bomb', 'daunt', 'usurp', 'irresponsible', 'grumpiest', 'villainously', 'overbearing', 'tease', 'rascals', 'frustrates', 'forbid', 'slumping', 'set-up', 'unexpected', 'harshly', 'unyielding', 'controversy', 'dirt', 'dislike', 'irrecoverableness', 'devoid', 'breach', 'aborted', 'dissatisfies', 'occluding', 'feeble', 'ill-natured', 'draining', 'smoldering', 'inflated', 'grief', 'murder', 'unfeeling', 'backward', 'blur', 'dragging', 'fever', 'furious', 'sulk', 'torturing', 'nefarious', 'snarky', 'slow', 'blunders', 'backaches', 'bloodshed', 'contemptuously', 'failed', 'imperialist', 'negate', 'mistakes', 'obsessively', 'mudslinging', 'gruff', 'martyrdom', 'misunderstandings', 'regretful', 'hooligan', 'error', 'abort', 'altercation', 'miserly', 'dispiriting', 'hostage', 'debaucher', 'imminently', 'pricey', 'topple', 'monotony', 'fabricate', 'immaterial', 'unjustifiable', 'ax', 'despicably', 'destroyer', 'allergy', 'detested', 'explosive', 'flaw', 'impotent', 'lethargic', 'damned', 'declaim', 'deride', 'brazenly', 'fatalistically', 'braggart', 'hypocricy', 'defunct', 'imperfectly', 'shortcomings', 'biting', 'sneer', 'tarnishes', 'watered-down', 'monstrosities', 'inextricably', 'sap', 'shocked', 'un-viewable', 'danger', 'bothersome', 'discouraging', 'pig', 'snare', 'truant', 'neglect', 'irksomeness', 'grim', 'ostracize', 'depravedly', 'blatant', 'temptation', 'traitor', 'puny', 'deviousness', 'burning', 'deceiver', 'insignificance', 'anarchist', 'intimidate', 'shit', 'aspersions', 'rifts', 'scar', 'skeptically', 'humiliate', 'dispensable', 'questionable', 'disagreed', 'jerk', 'childish', 'deplete', 'exaggeration', 'perfidious', 'monster', 'hysterical', 'ruffle', 'paranoid', 'dishonorable', 'incomparably', 'apprehensively', 'ambush', 'scandalized', 'conspiracies', 'condemnable', 'criminal', 'indulge', 'decry', 'anti-american', 'hates', 'desolate', 'desititute', 'overturn', 'annoyingly', 'accuses', 'wreaks', 'presumptuously', 'fraudulent', 'crummy', 'limp', 'bore', 'plasticky', 'lovelorn', 'incoherence', 'subversive', 'conspirator', 'revile', 'imbalance', 'pretentiously', 'heresy', 'slug', 'admonishingly', 'douchebags', 'scoff', 'enviousness', 'sorrowfully', 'infraction', 'dragged', 'opportunistic', 'spoils', 'pandemonium', 'crippled', 'crude', 'infidels', 'unipolar', 'villian', 'snagging', 'parasite', 'leer', 'misaligned', 'disconsolation', 'inattentive', 'tingled', 'upbraid', 'macabre', 'slime', 'cash-strapped', 'propagandize', 'uneventful', 'ill-usage', 'judder', 'sacrificed', 'traitorously', 'misrepresentation', 'mordantly', 'suffered', 'hotbeds', 'uglier', 'irregular', 'gruesome', 'rejected', 'condemnation', 'invalidity', 'objectionable', 'breakdown', 'repulsive', 'abnormal', 'hideously', 'unimaginable', 'virulent', 'debase', 'mire', 'adulteration', 'depress', 'confuse', 'obstructs', 'squirm', 'bicker', 'degenerately', 'irreplacible', 'sagged', 'bleakly', 'idiotic', 'pessimistic', 'steal', 'protracted', 'chastise', 'dread', 'miserableness', 'melancholy', 'misfortune', 'vilify', 'paralize', 'wrinkles', 'fallacious', 'bereft', 'overweight', 'smother', 'knotted', 'unfortunate', 'wripped', 'demeaning', 'cliched', 'overawe', 'heinous', 'berate', 'hating', 'inexcusable', 'freakish', 'overdone', 'pugnaciously', 'slogs', 'fragmented', 'backwoods', 'illegal', 'smoulder', 'oblivious', 'suspiciously', 'unspecified', 'vindictively', 'displeased', 'crazy', 'jabber', 'rile', 'concerned', 'vibration', 'issue', 'shiver', 'fearfully', 'indiscreet', 'jerky', 'infernal', 'assassin', 'exagerate', 'draconic', 'excuses', 'get-rich', 'loud', 'smudged', 'scant', 'uneasily', 'washed-out', 'yawn', 'detraction', 'disillusionment', 'encroach', 'rampant', 'sloooooooooooooow', 'inaction', 'stuttering', 'weak', 'incompatible', 'gaff', 'flimsy', 'stew', 'tingling', 'debt', 'oversimplified', 'blotchy', 'conflicts', 'belittle', 'impasse', 'imperfect', 'injudicious', 'redundant', 'terrible', 'clash', 'tattered', 'intimidatingly', 'irrelevance', 'despondent', 'irretating', 'spoilled', 'odor', 'complain', 'molestation', 'smelled', 'boring', 'cheapen', 'crumpled', 'hissing', 'direly', 'downhill', 'anarchistic', 'immorality', 'mediocre', 'stumbles', 'insensitivity', 'nitpick', 'unsettling', 'glum', 'impugn', 'overwhelmingly', 'alarm', 'subjugate', 'upset', 'kill', 'degrading', 'cautionary', 'hesitant', 'insignificantly', 'destabilisation', 'wrought', 'endanger', 'angrily', 'dungeons', 'fooled', 'murky', 'capriciously', 'fears', 'silly', 'radically', 'dings', 'exhausts', 'indelicate', 'outlaw', 'profanity', 'distasteful', 'screwed', 'indignity', 'unclean', 'issues', 'miserably', 'undependable', 'foolhardy', 'devastatingly', 'violators', 'lifeless', 'swamped', 'irritant', 'grouse', 'stormy', 'pitilessly', 'tout', 'unnervingly', 'nightmare', 'polluter', 'defects', 'glut', 'dump', 'strictly', 'contaminate', 'unskilled', 'disgraced', 'kooky', 'crisis', 'lurch', 'spoil', 'stealing', 'discord', 'fuss', 'weaker', 'mock', 'sinfully', 'goon', 'inaccurately', 'farcical', 'inane', 'insulting', 'dumb', 'picky', 'streaky', 'asinine', 'sunk', 'tyrannically', 'displeasure', 'oppressively', 'ill-treatment', 'apprehension', 'irksomenesses', 'scrambled', 'terrorize', 'indiscretion', 'subjected', 'trapped', 'despondently', 'insultingly', 'racy', 'blistering', 'abysmal', 'hypocritically', 'misbecome', 'rejection', 'infiltrators', 'hypocritical', 'extremism', 'savaged', 'worsen', 'indolent', 'craftily', 'unbelievable', 'appal', 'crooks', 'dupe', 'frictions', 'sour', 'weariness', 'abysmally', 'heartbreaking', 'posturing', 'slur', 'bitterness', 'pitiful', 'fawningly', 'totalitarian', 'slaughter', 'lewdness', 'devilish', 'lascivious', 'regressive', 'raping', 'scrambles', 'unequal', 'scratchy', 'raked', 'tempest', 'scandalize', 'insecure', 'censure', 'unlamentable', 'inconveniently', 'dullard', 'err', 'headache', 'hampered', 'detests', 'pretense', 'aggravate', 'smuttier', 'ominous', 'despotism', 'spoiled', 'addicted', 'repudiate', 'measly', 'discrimination', 'lie', 'suffers', 'revengefully', 'accidental', 'cruel', 'impossible', 'contort', 'irrelevant', 'lumpy', 'peculiarly', 'torrent', 'incivility', 'aggressiveness', 'phobia', 'unnerved', 'wedge', 'stinging', 'unsuspecting', 'frozen', 'overblown', 'stink', 'corrupting', 'egotistical', 'gimmicky', 'disintegrate', 'distress', 'peevish', 'quack', 'denunciation', 'annihilate', 'wariness', 'bashful', 'unreadable', 'unsustainable', 'unuseably', 'unfriendly', 'grimace', 'creaks', 'ripoff', 'extremists', 'betrayer', 'idle', 'stranger', 'unforgiving', 'wanton', 'subtract', '2-faces', 'unintelligible', 'inadequacy', 'unbearable', 'unfit', 'noise', 'indiscreetly', 'stooges', 'tentative', 'pretend', 'cheating', 'itching', 'mangle', 'gimmicks', 'obstructing', 'sh*t', 'illogic', 'indoctrination', 'hateful', 'skimpy', 'despairingly', 'aloof', 'brutish', 'flareup', 'rogue', 'stumble', 'spookier', 'ill-formed', 'subpoenas', 'deject', 'misunderstanding', 'refute', 'imposing', 'discourteous', 'straining', 'retardedness', 'irrationalities', 'outrages', 'ill-tempered', 'overzealously', 'disrepute', 'smudges', 'stubbornly', 'neurotically', 'rife', 'unacceptable', 'woefully', 'needlessly', 'involuntarily', 'reprehensive', 'rusts', 'strife', 'oversimplify', 'insecurity', 'misleadingly', 'ignominiously', 'rift', 'crashes', 'cuplrit', 'erodes', 'inconsistency', 'sagging', 'scolded', 'bluring', 'overzelous', 'defiance', 'coerce', 'hostile', 'erratic', 'superficially', 'worried', 'scars', 'ploy', 'fictional', 'vexing', 'lunaticism', 'coarse', 'condemned', 'subpoena', 'relentless', 'fallaciousness', 'incomplete', 'uneconomical', 'hoodium', 'incongruously', 'sluts', 'desecrate', 'loath', 'raped', 'ached', 'dreadful', 'provoke', 'revengeful', 'deterrent', 'sue', 'slap', 'refusing', 'undependability', 'disconcertingly', 'retaliate', 'notorious', 'fury', 'abused', 'droops', 'startlingly', 'cronyism', 'inexorable', 'smudging', 'warning', 'waste', 'dazed', 'darken', 'cheated', 'inessential', 'inadverently', 'suspect', 'checkered', 'mope', 'audacious', 'shortsightedness', 'stiffness', 'debility', 'agony', 'bizarre', 'despoil', 'rail', 'jealous', 'longingly', 'darkened', 'erode', 'complaint', 'fascism', 'flakey', 'joker', 'kook', 'painfull', 'accusations', 'caustically', 'pry', 'restrictive', 'scandels', 'regression', 'thankless', 'unethical', 'self-criticism', 'laid-off', 'cramped', 'gloomy', 'harbors', 'wicked', 'insupportably', 'instigators', 'dreadfully', 'letch', 'biased', 'fibber', 'autocratic', 'imprecisely', 'shatter', 'disclaim', 'discouragingly', 'exterminate', 'unwillingness', 'ineffectiveness', 'stagnate', 'anti-israeli', 'deficiencies', 'hells', 'interferes', 'lackluster', 'beseech', 'accursed', 'sober', 'spiteful', 'senseless', 'struggles', 'inexpertly', 'handicapped', 'imprison', 'greasy', 'misgivings', 'sadly', 'dragoon', 'impeach', 'struggling', 'falsify', 'hypocrites', 'disconsolately', 'chintzy', 'uncomfy', 'abscond', 'assult', 'procrastinate', 'crook', 'thumbs-down', 'spurious', 'debilitate', 'bonkers', 'drop-outs', 'horrific', 'desiccate', 'noises', 'bullies', 'refuses', 'ruining', 'convoluted'}\n"
          ]
        }
      ],
      "source": [
        "bad_synsets = wordnet.synsets('poor')\n",
        "negative_word_set = set()\n",
        "for synset in bad_synsets:\n",
        "  for lemma in synset.lemmas():\n",
        "      negative_word_set.add(lemma.name().lower())  # Add lemma to the set, converted to lowercase\n",
        "print(negative_word_set)\n",
        "negative_words = set(opinion_lexicon.negative())\n",
        "print(negative_words)"
      ]
    },
    {
      "cell_type": "markdown",
      "metadata": {
        "id": "h7rNaKpN1oxn"
      },
      "source": [
        "Helper functions"
      ]
    },
    {
      "cell_type": "code",
      "execution_count": 5,
      "metadata": {
        "id": "P8sbjRbV1n9A"
      },
      "outputs": [],
      "source": [
        "lemmatizer = WordNetLemmatizer()\n",
        "def get_ngrams(lemmatized_words, range_):\n",
        "  total_list = []\n",
        "  ans = []\n",
        "  for x in range(1,range_ + 1):\n",
        "    total_list += list(ngrams(lemmatized_words, x))\n",
        "  return total_list\n",
        "\n",
        "def concat_feature_list_into_list(my_list):\n",
        "  ans = []\n",
        "  for item in my_list:\n",
        "    ans.append(''.join(item))\n",
        "\n",
        "  return ans\n",
        "\n",
        "def lemmatize_text(text):\n",
        "  stop_words = set(stopwords.words('english'))\n",
        "  t = text.split('.')\n",
        "  text = []\n",
        "  lemmatized_words = []\n",
        "\n",
        "  for t_ in t:\n",
        "     text.append(''.join([char for char in t_ if char not in string.punctuation]))\n",
        "  # print(text)\n",
        "  # text = ''.join([char for char in text if char not in string.punctuation])\n",
        "  for sentence in text:\n",
        "    words = nltk.word_tokenize(sentence)\n",
        "    pos_tags = pos_tag(words)\n",
        "    ind = 0\n",
        "    for word, pos in pos_tags:\n",
        "      if (word == word.lower() or (word !=word.lower() and ind == 0)):\n",
        "          if pos.startswith('V'):  # Check if the word is a verb\n",
        "              lemma = lemmatizer.lemmatize(word, pos='v')  # Lemmatize verb\n",
        "          elif pos.startswith('N'):  # Check if the word is a noun\n",
        "              lemma = lemmatizer.lemmatize(word, pos='n')  # Lemmatize noun\n",
        "          elif pos.startswith('J'):  # Check if the word is an adjective\n",
        "              lemma = lemmatizer.lemmatize(word, pos='a')  # Lemmatize adjective\n",
        "          elif pos.startswith('R'):  # Check if the word is an adverb\n",
        "              lemma = lemmatizer.lemmatize(word, pos='r')  # Lemmatize adverb\n",
        "          elif pos.startswith('U'):\n",
        "            lemma = lemmatizer.lemmatize(word, pos='r')  # Lemmatize interjection\n",
        "          else:\n",
        "            lemma = lemmatizer.lemmatize(word)  # Default to lemmatizing as a noun\n",
        "          if lemma not in lemmatized_words:\n",
        "              lemmatized_words.append(lemma)\n",
        "      ind = 1\n",
        "\n",
        "  return lemmatized_words\n",
        "\n",
        "def lemmatize_bad_words(text):\n",
        "    negative_words = set(opinion_lexicon.positive())\n",
        "    positive_words = set(opinion_lexicon.negative())\n",
        "\n",
        "    # Tokenize the text into words\n",
        "    words = word_tokenize(text)\n",
        "\n",
        "    # Lemmatize and identify negative words in the text\n",
        "    lemmatized_negative_words = [\n",
        "        lemmatizer.lemmatize(word.lower()) for word in words if word.lower() in negative_words and word == word.lower()\n",
        "    ]\n",
        "\n",
        "    lemmatized_positive_words = [\n",
        "        lemmatizer.lemmatize(word.lower()) for word in words if word.lower() in positive_words and word == word.lower()\n",
        "    ]\n",
        "\n",
        "\n",
        "    return lemmatized_negative_words + lemmatized_positive_words\n"
      ]
    },
    {
      "cell_type": "code",
      "execution_count": 6,
      "metadata": {
        "colab": {
          "base_uri": "https://localhost:8080/"
        },
        "id": "wLKloyXDL89x",
        "outputId": "1c396781-4113-46c6-8832-4a2be4878f71"
      },
      "outputs": [
        {
          "name": "stdout",
          "output_type": "stream",
          "text": [
            "['dramatic', 'suspenseful', 'movie', 'many', 'plot', 'turn', 'Damn', 'really', 'enjoy', 'good', 'film', 'fanstastic', 'visuals', 'despite', 'allblack', 'cast', 'kill', 'dramaticsuspenseful', 'suspensefulmovie', 'moviemany', 'manyplot', 'plotturn', 'turnDamn', 'Damnreally', 'reallyenjoy', 'enjoygood', 'goodfilm', 'filmfanstastic', 'fanstasticvisuals', 'visualsdespite', 'despiteallblack', 'allblackcast', 'castkill']\n"
          ]
        }
      ],
      "source": [
        "\n",
        "text = get_ngrams(lemmatize_text(\"This is a very dramatic and suspenseful movie. There are many plots and turns.Damn, I really enjoyed 'DragonsSex', it was a good film with fanstastic visuals despite the all-black cast. I killed him\"),2)\n",
        "print(concat_feature_list_into_list(text))"
      ]
    },
    {
      "cell_type": "code",
      "execution_count": 37,
      "metadata": {},
      "outputs": [
        {
          "name": "stdout",
          "output_type": "stream",
          "text": [
            "subjecttauntssomebody\n",
            "prettyboringtale\n",
            "beimpossibleto\n",
            "Thenoveltyof\n",
            "filmmakersworriedwe\n",
            "veryawkwardto\n",
            "veryinadequateinsult.\n",
            "alsoenjoyedtwo\n",
            "anangrytest\n",
            "aprettyboring\n",
            "feelslikea\n",
            "Almostlikeit\n",
            "atopsecret\n"
          ]
        }
      ],
      "source": [
        "def sliding_window_sentences(x, y, k):\n",
        "    words = x.split()\n",
        "    result = []\n",
        "\n",
        "    for word in y:\n",
        "        for i, w in enumerate(words):\n",
        "            if w.lower() == word.lower():\n",
        "                start = max(0, i - k + 1)\n",
        "                end = min(len(words), i + k)\n",
        "                subsentence = ''.join(words[start:end])\n",
        "                result.append(subsentence)\n",
        "    \n",
        "    return result\n",
        "\n",
        "# Example usage:\n",
        "x = \"I really didn't enjoy 'DragonsSex', it wasn't a good film with fantastic visuals despite the all-black cast. I killed him\"\n",
        "x= \"\"\"I bought this (it was only $3, ok?) under the title 'Grey Matter'. \n",
        "The novelty of seeing Sherriff Roscoe in a non-DukesOfHazzard role intrigued me. \n",
        "As the other reviewers warned, it's a pretty boring tale of a top secret government experiment gone awry.. . \n",
        "And yes, there are plenty of establishing shots, especially of a house with a pool in front of it. \n",
        "Some of the characters and interiors are so nondescript \n",
        "I guess the filmmakers worried we might forget who is who, so they keep tipping us off by first showing the outside of the buildings.\n",
        " It's actually kinda funny. After awhile the pool shot feels like a tv channel's station identification logo, reminding us that we are watching \"Grey Matter\".\n",
        " . . I also enjoyed two bouts of name-calling. At one point an angry test subject taunts somebody in charge by calling her a \"Scientific b*tch!\".\n",
        "   It's just a very inadequate insult. Several scenes later a different subject lets off steam by muttering about that \"scientific b**tard!\". \n",
        "   It just sounded very awkward to me.. . Someday this movie will disappear forever. \n",
        "   Another decade from now it will likely be impossible to find any copies of it. Almost like it never happened.. \"\"\"\n",
        "\n",
        "k = 2\n",
        "\n",
        "negative_words = set(opinion_lexicon.positive())\n",
        "positive_words = set(opinion_lexicon.negative())\n",
        "words = negative_words.union(positive_words)\n",
        "result = sliding_window_sentences(x, words, k)\n",
        "\n",
        "for subsentence in result:\n",
        "    print(subsentence)"
      ]
    },
    {
      "cell_type": "code",
      "execution_count": 59,
      "metadata": {
        "colab": {
          "base_uri": "https://localhost:8080/"
        },
        "id": "EpyfbPxv1aTm",
        "outputId": "a3cceb64-e5fb-467d-81f3-2ab5672b62d9"
      },
      "outputs": [
        {
          "name": "stdout",
          "output_type": "stream",
          "text": [
            "--------- raw text-----------\n",
            "This is a very dramatic and suspenseful movie. There are many plots and turns. The story or the director opens question marks on the death row or presumed crimes committed by black people. This film is very well directed by Arne Glimcher and the fine sound of James Newton Howard is excellent. Strong performance of Sean Connery and Ed Harris. If you liked this one don´t miss \"TRUE CRIMES\" or \"THE HURRICANE\". My wife and me gave 8/10.\n",
            "--------- lemmatized text-----------\n",
            "['dramatic', 'suspenseful', 'movie', 'many', 'plot', 'turn', 'story', 'director', 'open', 'question', 'mark', 'death', 'row', 'presume', 'crime', 'commit', 'black', 'people', 'film', 'well', 'direct', 'fine', 'sound', 'excellent', 'Strong', 'performance', 'like', 'one', 'don´t', 'miss', 'wife', 'give', '810']\n",
            "--------- ngrams text-----------\n",
            "[('dramatic',), ('suspenseful',), ('movie',), ('many',), ('plot',), ('turn',), ('story',), ('director',), ('open',), ('question',), ('mark',), ('death',), ('row',), ('presume',), ('crime',), ('commit',), ('black',), ('people',), ('film',), ('well',), ('direct',), ('fine',), ('sound',), ('excellent',), ('Strong',), ('performance',), ('like',), ('one',), ('don´t',), ('miss',), ('wife',), ('give',), ('810',), ('dramatic', 'suspenseful'), ('suspenseful', 'movie'), ('movie', 'many'), ('many', 'plot'), ('plot', 'turn'), ('turn', 'story'), ('story', 'director'), ('director', 'open'), ('open', 'question'), ('question', 'mark'), ('mark', 'death'), ('death', 'row'), ('row', 'presume'), ('presume', 'crime'), ('crime', 'commit'), ('commit', 'black'), ('black', 'people'), ('people', 'film'), ('film', 'well'), ('well', 'direct'), ('direct', 'fine'), ('fine', 'sound'), ('sound', 'excellent'), ('excellent', 'Strong'), ('Strong', 'performance'), ('performance', 'like'), ('like', 'one'), ('one', 'don´t'), ('don´t', 'miss'), ('miss', 'wife'), ('wife', 'give'), ('give', '810')]\n",
            "['dramatic', 'suspenseful', 'movie', 'many', 'plot', 'turn', 'story', 'director', 'open', 'question', 'mark', 'death', 'row', 'presume', 'crime', 'commit', 'black', 'people', 'film', 'well', 'direct', 'fine', 'sound', 'excellent', 'Strong', 'performance', 'like', 'one', 'don´t', 'miss', 'wife', 'give', '810', 'dramaticsuspenseful', 'suspensefulmovie', 'moviemany', 'manyplot', 'plotturn', 'turnstory', 'storydirector', 'directoropen', 'openquestion', 'questionmark', 'markdeath', 'deathrow', 'rowpresume', 'presumecrime', 'crimecommit', 'commitblack', 'blackpeople', 'peoplefilm', 'filmwell', 'welldirect', 'directfine', 'finesound', 'soundexcellent', 'excellentStrong', 'Strongperformance', 'performancelike', 'likeone', 'onedon´t', 'don´tmiss', 'misswife', 'wifegive', 'give810']\n"
          ]
        }
      ],
      "source": [
        "# text = \"I don't like this film at all as much as I don't like foreigners!!!\"\n",
        "\n",
        "first_two_hundred_pos = []\n",
        "first_two_hundred_neg = []\n",
        "subset = []\n",
        "for x in range(2000):\n",
        "  positive_text = df_positive_reviews.loc[2000+x][\"Text\"]\n",
        "  if x == 450:\n",
        "    print(\"--------- raw text-----------\")\n",
        "    print(positive_text)\n",
        "  negative_text = df_negative_reviews.loc[x][\"Text\"]\n",
        "\n",
        "  positive_text = lemmatize_text(positive_text)\n",
        "  # positive_text = lemmatize_bad_words(positive_text)\n",
        "  # positive_text = sliding_window_sentences(positive_text,words,2)\n",
        "  if x == 450:\n",
        "    print(\"--------- lemmatized text-----------\")\n",
        "    print(positive_text)\n",
        "  # negative_text = sliding_window_sentences(negative_text,words,2)\n",
        "  # negative_text = lemmatize_bad_words(negative_text)\n",
        "  negative_text = lemmatize_text(negative_text)\n",
        "\n",
        "  positive_text = get_ngrams(positive_text,2)\n",
        "  if x == 450:\n",
        "    print(\"--------- ngrams text-----------\")\n",
        "    print(positive_text)\n",
        "  negative_text = get_ngrams(negative_text,2)\n",
        "  # print(positive_text)\n",
        "  # print(negative_text)\n",
        "\n",
        "\n",
        "  positive_text = concat_feature_list_into_list(positive_text)\n",
        "  if x == 450:\n",
        "    print(positive_text)\n",
        "  negative_text = concat_feature_list_into_list(negative_text)\n",
        "  # print(positive_text)\n",
        "  # print(negative_text)\n",
        "\n",
        "  first_two_hundred_pos.append([positive_text,1])\n",
        "  first_two_hundred_neg.append([negative_text,0])\n",
        "  subset.append(first_two_hundred_pos[-1])\n",
        "  subset.append(first_two_hundred_neg[-1])\n",
        "\n",
        "\n",
        "subset_features = [subset_data[0] for subset_data in subset]\n",
        "processed_data = [' '.join(tokens) for tokens in subset_features]\n",
        "subset_labels = [subset_data[1] for subset_data in subset]\n",
        "\n",
        "\n",
        "\n",
        "\n"
      ]
    },
    {
      "cell_type": "code",
      "execution_count": 128,
      "metadata": {
        "colab": {
          "base_uri": "https://localhost:8080/"
        },
        "id": "LuD_6G0RGIwv",
        "outputId": "f4a79ca6-cf65-478d-9a38-e535997b8fea"
      },
      "outputs": [
        {
          "name": "stdout",
          "output_type": "stream",
          "text": [
            "Theres many thing fall En la mente del asesino killer mind hard talk without give kind warning Lets say movie like exercise cinema really great do It´s make super 8 black white shot 35 milimeters color interview flashback Aro it´s documental viceversa peculiar aspect relay doubt leave wonder ever exist follow late life hungarian sailor arrive work religious mission kill people act get caught death penalty sentence start french documentalists interested character prior Nowadays involved deep research one witness main part history guide semi slow phase go look inside mainly order decode Nevertheless important filmmaker never u sided point view judging even may understand action clearly justify first half base upon recollect information later turn childhood incredible new force tough weak boring dont mean want spoil anything chance near believe trip see worthy Theresmany manything thingfall fallEn Enla lamente mentedel delasesino asesinokiller killermind mindhard hardtalk talkwithout withoutgive givekind kindwarning warningLets Letssay saymovie movielike likeexercise exercisecinema cinemareally reallygreat greatdo doIt´s It´smake makesuper super8 8black blackwhite whiteshot shot35 35milimeters milimeterscolor colorinterview interviewflashback flashbackAro Aroit´s it´sdocumental documentalviceversa viceversapeculiar peculiaraspect aspectrelay relaydoubt doubtleave leavewonder wonderever everexist existfollow followlate latelife lifehungarian hungariansailor sailorarrive arrivework workreligious religiousmission missionkill killpeople peopleact actget getcaught caughtdeath deathpenalty penaltysentence sentencestart startfrench frenchdocumentalists documentalistsinterested interestedcharacter characterprior priorNowadays Nowadaysinvolved involveddeep deepresearch researchone onewitness witnessmain mainpart parthistory historyguide guidesemi semislow slowphase phasego golook lookinside insidemainly mainlyorder orderdecode decodeNevertheless Neverthelessimportant importantfilmmaker filmmakernever neveru usided sidedpoint pointview viewjudging judgingeven evenmay mayunderstand understandaction actionclearly clearlyjustify justifyfirst firsthalf halfbase baseupon uponrecollect recollectinformation informationlater laterturn turnchildhood childhoodincredible incrediblenew newforce forcetough toughweak weakboring boringdont dontmean meanwant wantspoil spoilanything anythingchance chancenear nearbelieve believetrip tripsee seeworthy\n",
            "1\n"
          ]
        }
      ],
      "source": [
        "print(processed_data[10])\n",
        "for x in range(0,len(subset_features)):\n",
        "  if \"strikingly different\" in subset_features[x]:\n",
        "    print(x)\n",
        "print(subset_labels[10])"
      ]
    },
    {
      "cell_type": "code",
      "execution_count": 41,
      "metadata": {
        "id": "6gvDFhJEAa8w"
      },
      "outputs": [
        {
          "name": "stdout",
          "output_type": "stream",
          "text": [
            "<class 'list'> <class 'list'>\n",
            "0 : honest time first heard show though may bad idea make use racial joke opposite realize help people understand word like real life doesnt mean terrorist thing also give name play stereotype watch regular try live 1 day hard get plane say well blow away competition take wrong way know stuff dont usually happen many think right see poorly treat act glad come air terroristsmany find funny opioion prety much everything fun unfair do often really honesttime timefirst firstheard heardshow showthough thoughmay maybad badidea ideamake makeuse useracial racialjoke jokeopposite oppositerealize realizehelp helppeople peopleunderstand understandword wordlike likereal reallife lifedoesnt doesntmean meanterrorist terroristthing thingalso alsogive givename nameplay playstereotype stereotypewatch watchregular regulartry trylive live1 1day dayhard hardget getplane planesay saywell wellblow blowaway awaycompetition competitiontake takewrong wrongway wayknow knowstuff stuffdont dontusually usuallyhappen happenmany manythink thinkright rightsee seepoorly poorlytreat treatact actglad gladcome comeair airterroristsmany terroristsmanyfind findfunny funnyopioion opioionprety pretymuch mucheverything everythingfun fununfair unfairdo dooften oftenreally \n",
            "0 : Ive never huge fan film always felt humor exclusive community make u seem like bunch obsessive wacko hop would breath fresh air movie could finally discuss friend Boy wrong figure since talent one favorite least little funny besides church basketball ripe potential plenty hilarious gag must say throughout entire though know Every joke fell flat every opportunity genuinely go ignored dialogue bland bad character development ever see single less onedimensional hard believe nine rewrite still mindnumbingly stale train wreck witness cant put word rage sit extra final game scene premiere Kurt director avoid contact show wait door seemingly ready feedback couldnt bring tell rip away good hour half life leave nasty painful scar forget specific problem minor love story subplot janitor chubby piano player two come nowhere impossible care constantly wonder suppose lame uninteresting many subplots pop promise audience chance laugh puff smoke end even start pretty much whole major letdown feel everyone who expect first True arent loud ringing sensation ear Please Keep mind fantasy Spare disappointment Ivenever neverhuge hugefan fanfilm filmalways alwaysfelt felthumor humorexclusive exclusivecommunity communitymake makeu useem seemlike likebunch bunchobsessive obsessivewacko wackohop hopwould wouldbreath breathfresh freshair airmovie moviecould couldfinally finallydiscuss discussfriend friendBoy Boywrong wrongfigure figuresince sincetalent talentone onefavorite favoriteleast leastlittle littlefunny funnybesides besideschurch churchbasketball basketballripe ripepotential potentialplenty plentyhilarious hilariousgag gagmust mustsay saythroughout throughoutentire entirethough thoughknow knowEvery Everyjoke jokefell fellflat flatevery everyopportunity opportunitygenuinely genuinelygo goignored ignoreddialogue dialoguebland blandbad badcharacter characterdevelopment developmentever eversee seesingle singleless lessonedimensional onedimensionalhard hardbelieve believenine ninerewrite rewritestill stillmindnumbingly mindnumbinglystale staletrain trainwreck wreckwitness witnesscant cantput putword wordrage ragesit sitextra extrafinal finalgame gamescene scenepremiere premiereKurt Kurtdirector directoravoid avoidcontact contactshow showwait waitdoor doorseemingly seeminglyready readyfeedback feedbackcouldnt couldntbring bringtell tellrip ripaway awaygood goodhour hourhalf halflife lifeleave leavenasty nastypainful painfulscar scarforget forgetspecific specificproblem problemminor minorlove lovestory storysubplot subplotjanitor janitorchubby chubbypiano pianoplayer playertwo twocome comenowhere nowhereimpossible impossiblecare careconstantly constantlywonder wondersuppose supposelame lameuninteresting uninterestingmany manysubplots subplotspop poppromise promiseaudience audiencechance chancelaugh laughpuff puffsmoke smokeend endeven evenstart startpretty prettymuch muchwhole wholemajor majorletdown letdownfeel feeleveryone everyonewho whoexpect expectfirst firstTrue Truearent arentloud loudringing ringingsensation sensationear earPlease PleaseKeep Keepmind mindfantasy fantasySpare Sparedisappointment \n",
            "0 : film culmination everything bad modern unnecessary slow motion flippingjumpingsomersaults character dialogue basically unnecessity word well invent happen practicality e car garage skin spray tool show combination futuristic realistic function card swipe coffee shop respect woman smith nothing degrade doctor good part yet still want tell look admiration common ground detective detect sit around feel sorry complain people say something spark thought lame way get story point bcdetc several time row speaking snoring listen joke small movie somewhat meaningful promote rescue scene kid total know care whether come harm let forget child everywhere attack robot selfishly save person withing view acquaintance ramp bike air somehow able reach distance matter second foot dont wrong spectacle also shred realism meaning never laugh quite hard long thanks pray swing social pendulum back simpler technique else mainly simple Big die filmculmination culminationeverything everythingbad badmodern modernunnecessary unnecessaryslow slowmotion motionflippingjumpingsomersaults flippingjumpingsomersaultscharacter characterdialogue dialoguebasically basicallyunnecessity unnecessityword wordwell wellinvent inventhappen happenpracticality practicalitye ecar cargarage garageskin skinspray spraytool toolshow showcombination combinationfuturistic futuristicrealistic realisticfunction functioncard cardswipe swipecoffee coffeeshop shoprespect respectwoman womansmith smithnothing nothingdegrade degradedoctor doctorgood goodpart partyet yetstill stillwant wanttell telllook lookadmiration admirationcommon commonground grounddetective detectivedetect detectsit sitaround aroundfeel feelsorry sorrycomplain complainpeople peoplesay saysomething somethingspark sparkthought thoughtlame lameway wayget getstory storypoint pointbcdetc bcdetcseveral severaltime timerow rowspeaking speakingsnoring snoringlisten listenjoke jokesmall smallmovie moviesomewhat somewhatmeaningful meaningfulpromote promoterescue rescuescene scenekid kidtotal totalknow knowcare carewhether whethercome comeharm harmlet letforget forgetchild childeverywhere everywhereattack attackrobot robotselfishly selfishlysave saveperson personwithing withingview viewacquaintance acquaintanceramp rampbike bikeair airsomehow somehowable ablereach reachdistance distancematter mattersecond secondfoot footdont dontwrong wrongspectacle spectaclealso alsoshred shredrealism realismmeaning meaningnever neverlaugh laughquite quitehard hardlong longthanks thankspray prayswing swingsocial socialpendulum pendulumback backsimpler simplertechnique techniqueelse elsemainly mainlysimple simpleBig Bigdie \n",
            "0 : film make many big star beyond terrible cliché ridden bad act actor ever do really surprise list would agree unfunny Whats even fact almost 100 million state go show however pull buck felt sorry everyone involve snorefest Billy try best give rest seem walk motion Whatever dont fall excellent cast one could save filmmake makemany manybig bigstar starbeyond beyondterrible terriblecliché clichéridden riddenbad badact actactor actorever everdo doreally reallysurprise surpriselist listwould wouldagree agreeunfunny unfunnyWhats Whatseven evenfact factalmost almost100 100million millionstate statego goshow showhowever howeverpull pullbuck buckfelt feltsorry sorryeveryone everyoneinvolve involvesnorefest snorefestBilly Billytry trybest bestgive giverest restseem seemwalk walkmotion motionWhatever Whateverdont dontfall fallexcellent excellentcast castone onecould couldsave \n",
            "0 : love episode become great toss little person window look face priceless start address wife behalf find writing casting along act make must see attempt certain photo Id like use avatar message board think hilarious anyone know download point right direction loveepisode episodebecome becomegreat greattoss tosslittle littleperson personwindow windowlook lookface facepriceless pricelessstart startaddress addresswife wifebehalf behalffind findwriting writingcasting castingalong alongact actmake makemust mustsee seeattempt attemptcertain certainphoto photoId Idlike likeuse useavatar avatarmessage messageboard boardthink thinkhilarious hilariousanyone anyoneknow knowdownload downloadpoint pointright rightdirection \n"
          ]
        }
      ],
      "source": [
        "\n",
        "from sklearn.model_selection import train_test_split\n",
        "\n",
        "X_train, X_test, y_train, y_test = train_test_split(processed_data, subset_labels,\n",
        "                                                    test_size=0.2,\n",
        "                                                    random_state=0,\n",
        "                                                    stratify=subset_labels)\n",
        "\n",
        "\n",
        "print(type(X_train),type(X_test))\n",
        "\n",
        "for test_label,test_sentence in zip(y_train[10:15],X_train[10:15]):\n",
        "    print(f\"{test_label} : {test_sentence} \")"
      ]
    },
    {
      "cell_type": "code",
      "execution_count": 9,
      "metadata": {
        "id": "joiMIzQtA1VC"
      },
      "outputs": [],
      "source": [
        "from sklearn.naive_bayes import GaussianNB\n",
        "from sklearn.feature_extraction.text import TfidfVectorizer\n",
        "from sklearn.feature_extraction.text import TfidfTransformer\n",
        "from sklearn.metrics import classification_report\n",
        "from sklearn.feature_extraction.text import CountVectorizer\n",
        "\n",
        "from sklearn.naive_bayes import GaussianNB\n",
        "from sklearn.feature_extraction.text import TfidfVectorizer\n",
        "from sklearn.feature_extraction.text import TfidfTransformer\n",
        "from sklearn.metrics import classification_report\n",
        "from sklearn.feature_extraction.text import CountVectorizer"
      ]
    },
    {
      "cell_type": "code",
      "execution_count": 11,
      "metadata": {},
      "outputs": [
        {
          "name": "stdout",
          "output_type": "stream",
          "text": [
            "              precision    recall  f1-score   support\n",
            "\n",
            "           0       0.72      0.81      0.76       100\n",
            "           1       0.78      0.68      0.73       100\n",
            "\n",
            "    accuracy                           0.74       200\n",
            "   macro avg       0.75      0.75      0.74       200\n",
            "weighted avg       0.75      0.74      0.74       200\n",
            "\n"
          ]
        }
      ],
      "source": [
        "count_vect = CountVectorizer().fit(processed_data)\n",
        "bow_train = count_vect.transform(X_train).toarray()\n",
        "# print(bow_train[0][450])\n",
        "bow_test = count_vect.transform(X_test).toarray()\n",
        "feature_names = count_vect.get_feature_names_out()\n",
        "# print(feature_names[450])\n",
        "NB = GaussianNB()\n",
        "NB.fit(bow_train, y_train)\n",
        "predicted_NB = NB.predict(bow_test)\n",
        "\n",
        "print(classification_report(y_test, predicted_NB))"
      ]
    },
    {
      "cell_type": "code",
      "execution_count": 44,
      "metadata": {},
      "outputs": [
        {
          "name": "stdout",
          "output_type": "stream",
          "text": [
            "[0, 0, 0, 0, 0, 0, 0, 0, 0, 0, 0, 0, 0, 0, 0, 0.0018899847686059121, 0, 0, 0, 0, 0.008422535093464138, 0, 0, 0, 0, 0, 0, 0, 0, 0, 0.010953367917441358, 0.0023621410259023613, 0, 0, 0, 0, 0, 0, 0, 0, 0, 0, 0, 0, 0, 0, 0, 0, 0, 0, 0, 0, 0.006346988857214518, 0, 0, 0, 0, 0, 0, 0, 0, 0, 0, 0, 0, 0, 0, 0, 0, 0, 0.002771815327168807, 0.007852956408625596, 0, 0, 0, 0, 0, 0, 0, 0, 0, 0.0016853915305748942, 0, 0, 0, 0, 0, 0, 0, 0, 0, 0, 0, 0, 0, 0, 0, 0, 0, 0.011927052782171203, 0.008990071889225803, 0.01308826068104266, 0.016946499804805382, 0.004979793162110894, 0.0026939471301868382, 0.02000895648403462, 0.009597821195985755, 0.01916626071874717, 0.0081270177255479, 0.013242423872002937, 0.013403149138907397, 0.013403149138907397, 0.010250557542531779, 0.02262660862024315, 0.01357102005364989, 0.012399728106715488, 0.02262660862024315, 0.02109538028062853, 0.015860076008211467, 0.010546903538812434, 0.02109538028062853, 0.01916626071874717, 0.01847772814442, 0.016548608582538638, 0.015557796823348756, 0.01086849976710087, 0.015277930011423527, 0.007164423834298424, 0.0036915086208530457, 0.009146362071937985, 0.00855662517057278, 0.02262660862024315, 0.00576122381486386, 0.02109538028062853, 0.012660277875214994, 0.012660277875214994, 0.008466704880675226, 0.017391304347826087, 0.009782075970506956, 0.02262660862024315, 0.014124664226427084, 0.008466704880675226, 0.009254268663084247, 0.004691113105215646, 0.011607724025434335, 0.01086849976710087, 0.02262660862024315, 0.011927052782171203, 0.02262660862024315, 0.01203979171403527, 0.014124664226427084, 0.009719653495488492, 0, 0, 0, 0, 0, 0, 0, 0, 0, 0, 0, 0, 0, 0, 0, 0, 0, 0, 0, 0, 0, 0, 0, 0, 0, 0, 0, 0, 0, 0, 0, 0, 0, 0, 0, 0, 0, 0, 0, 0, 0, 0, 0, 0, 0, 0, 0, 0, 0, 0, 0, 0, 0, 0, 0, 0, 0, 0, 0, 0, 0, 0, 0, 0, 0, 0, 0, 0, 0, 0, 0, 0, 0, 0, 0, 0, 0, 0, 0, 0, 0, 0, 0, 0, 0, 0, 0, 0, 0, 0, 0, 0, 0, 0, 0, 0, 0, 0, 0, 0, 0, 0, 0, 0, 0, 0, 0, 0, 0, 0, 0, 0, 0, 0, 0, 0, 0, 0, 0, 0, 0, 0, 0, 0, 0, 0, 0, 0, 0, 0, 0, 0, 0, 0, 0, 0, 0, 0, 0, 0, 0, 0, 0, 0, 0, 0, 0, 0, 0, 0, 0, 0, 0, 0, 0, 0, 0, 0, 0, 0, 0, 0, 0, 0, 0, 0, 0, 0, 0, 0, 0, 0, 0, 0, 0, 0, 0, 0, 0, 0, 0, 0, 0, 0, 0, 0, 0, 0, 0, 0, 0, 0, 0, 0, 0, 0, 0, 0, 0, 0, 0, 0, 0, 0, 0, 0, 0, 0, 0, 0, 0, 0, 0, 0, 0, 0, 0, 0, 0, 0, 0, 0, 0, 0, 0, 0, 0, 0, 0, 0, 0, 0, 0, 0, 0, 0, 0, 0, 0, 0, 0, 0, 0, 0, 0, 0, 0, 0, 0, 0, 0, 0, 0, 0, 0, 0, 0, 0, 0, 0, 0, 0, 0, 0, 0, 0, 0, 0, 0, 0, 0, 0, 0, 0, 0, 0, 0, 0, 0, 0, 0, 0, 0, 0, 0, 0, 0, 0, 0, 0, 0, 0, 0, 0, 0, 0, 0, 0, 0, 0, 0, 0, 0, 0, 0, 0, 0, 0, 0, 0, 0, 0, 0, 0, 0, 0, 0, 0, 0, 0, 0, 0, 0, 0, 0, 0, 0, 0, 0, 0, 0, 0, 0, 0, 0, 0, 0, 0, 0, 0, 0, 0, 0, 0, 0, 0, 0, 0, 0, 0, 0, 0, 0, 0, 0, 0, 0, 0, 0, 0, 0, 0, 0, 0, 0, 0, 0, 0, 0, 0, 0, 0, 0, 0, 0, 0, 0, 0, 0, 0, 0, 0, 0, 0, 0, 0, 0, 0, 0, 0, 0, 0, 0, 0, 0, 0, 0, 0, 0, 0, 0, 0, 0, 0, 0, 0, 0, 0, 0, 0, 0, 0, 0, 0, 0, 0, 0, 0, 0, 0, 0, 0, 0, 0, 0, 0, 0, 0, 0, 0, 0, 0, 0, 0, 0, 0, 0, 0, 0, 0, 0, 0, 0, 0, 0, 0, 0, 0, 0, 0, 0, 0, 0, 0, 0, 0, 0, 0, 0, 0, 0, 0, 0, 0, 0, 0, 0, 0, 0, 0, 0, 0, 0, 0, 0, 0, 0, 0, 0, 0, 0, 0, 0, 0, 0, 0, 0, 0, 0, 0, 0, 0, 0, 0, 0, 0, 0, 0, 0, 0, 0, 0, 0, 0, 0, 0, 0, 0, 0, 0, 0, 0, 0, 0, 0, 0, 0, 0, 0, 0, 0, 0, 0, 0, 0, 0, 0, 0, 0, 0, 0, 0, 0, 0, 0, 0, 0, 0, 0, 0, 0, 0, 0, 0, 0, 0, 0, 0, 0, 0, 0, 0, 0, 0, 0, 0, 0, 0, 0, 0, 0, 0, 0, 0, 0, 0, 0, 0, 0, 0, 0, 0, 0, 0, 0, 0, 0, 0, 0, 0, 0, 0, 0, 0, 0, 0, 0, 0, 0, 0, 0, 0, 0, 0, 0, 0, 0, 0, 0, 0, 0, 0, 0, 0, 0, 0, 0, 0, 0, 0, 0, 0, 0, 0, 0, 0, 0, 0, 0, 0, 0, 0, 0, 0, 0, 0, 0, 0, 0, 0, 0, 0, 0, 0, 0, 0, 0, 0, 0, 0, 0, 0, 0, 0, 0, 0, 0, 0, 0, 0, 0, 0, 0, 0, 0, 0, 0, 0, 0, 0, 0, 0, 0, 0, 0, 0, 0, 0, 0, 0, 0, 0, 0, 0, 0, 0, 0, 0, 0, 0, 0, 0, 0, 0, 0, 0, 0, 0, 0, 0, 0, 0, 0, 0, 0, 0, 0, 0, 0, 0, 0, 0, 0, 0, 0, 0, 0, 0, 0, 0, 0, 0, 0, 0, 0, 0, 0, 0, 0, 0, 0, 0, 0, 0, 0, 0, 0, 0, 0, 0, 0, 0, 0, 0, 0, 0, 0, 0, 0, 0, 0, 0, 0, 0, 0, 0, 0, 0, 0, 0, 0, 0, 0, 0, 0, 0, 0, 0, 0, 0, 0, 0, 0, 0, 0, 0, 0, 0, 0, 0, 0, 0, 0, 0, 0, 0, 0, 0, 0, 0, 0, 0, 0, 0, 0, 0, 0, 0, 0, 0, 0, 0, 0, 0, 0, 0, 0, 0, 0, 0, 0, 0, 0, 0, 0, 0, 0, 0, 0, 0, 0, 0, 0, 0, 0, 0, 0, 0, 0, 0, 0, 0, 0, 0, 0, 0, 0, 0, 0, 0, 0, 0, 0, 0, 0, 0, 0, 0, 0, 0, 0, 0, 0, 0, 0, 0, 0, 0, 0, 0, 0, 0, 0, 0, 0, 0, 0, 0, 0, 0, 0, 0, 0, 0, 0, 0, 0, 0, 0, 0, 0, 0, 0, 0, 0, 0, 0, 0, 0, 0, 0, 0, 0, 0, 0, 0, 0, 0, 0, 0, 0, 0, 0, 0, 0, 0, 0, 0, 0, 0, 0, 0, 0, 0, 0, 0, 0, 0, 0, 0, 0, 0, 0, 0, 0, 0, 0, 0, 0, 0, 0, 0, 0, 0, 0, 0, 0, 0, 0, 0, 0, 0, 0, 0, 0, 0, 0, 0, 0, 0, 0, 0, 0, 0, 0, 0, 0, 0, 0, 0, 0, 0, 0, 0, 0, 0, 0, 0, 0, 0, 0, 0, 0, 0, 0, 0, 0, 0, 0, 0, 0, 0, 0, 0, 0, 0, 0, 0, 0, 0, 0, 0, 0, 0, 0, 0, 0, 0, 0, 0, 0, 0, 0, 0, 0, 0, 0, 0, 0, 0, 0, 0, 0, 0, 0, 0, 0, 0, 0, 0, 0, 0, 0, 0, 0, 0, 0, 0, 0, 0, 0, 0, 0, 0, 0, 0, 0, 0, 0, 0, 0, 0, 0, 0, 0, 0, 0, 0, 0, 0, 0, 0, 0, 0, 0, 0, 0, 0, 0, 0, 0, 0, 0, 0, 0, 0, 0, 0, 0, 0, 0, 0, 0, 0, 0, 0, 0, 0, 0, 0, 0, 0, 0, 0, 0, 0, 0, 0, 0, 0, 0, 0, 0, 0, 0, 0, 0, 0, 0, 0, 0, 0, 0, 0, 0, 0, 0, 0, 0, 0, 0, 0, 0, 0, 0, 0, 0, 0, 0, 0, 0, 0, 0, 0, 0, 0, 0, 0, 0, 0, 0, 0, 0, 0, 0, 0, 0, 0, 0, 0, 0, 0, 0, 0, 0, 0, 0, 0, 0, 0, 0, 0, 0, 0, 0, 0, 0, 0, 0, 0, 0, 0, 0, 0, 0, 0, 0, 0, 0, 0, 0, 0, 0, 0, 0, 0, 0, 0, 0, 0, 0, 0, 0, 0, 0, 0, 0, 0, 0, 0, 0, 0, 0, 0, 0, 0, 0, 0, 0, 0, 0, 0, 0, 0, 0, 0, 0, 0, 0, 0, 0, 0, 0, 0, 0, 0, 0, 0, 0, 0, 0, 0, 0, 0, 0, 0, 0, 0, 0, 0, 0, 0, 0, 0, 0, 0, 0, 0, 0, 0, 0, 0, 0, 0, 0, 0, 0, 0, 0, 0, 0, 0, 0, 0, 0, 0, 0, 0, 0, 0, 0, 0, 0, 0, 0, 0, 0, 0, 0, 0, 0, 0, 0, 0, 0, 0, 0, 0, 0, 0, 0, 0, 0, 0, 0, 0, 0, 0, 0, 0, 0, 0, 0, 0, 0, 0, 0, 0, 0, 0, 0, 0, 0, 0, 0, 0, 0, 0, 0, 0, 0, 0, 0, 0, 0, 0, 0, 0, 0, 0, 0, 0, 0, 0, 0, 0, 0, 0, 0, 0, 0, 0, 0, 0, 0, 0, 0, 0, 0, 0, 0, 0, 0, 0, 0, 0, 0, 0, 0, 0, 0, 0, 0, 0, 0, 0, 0, 0, 0, 0, 0, 0, 0, 0, 0, 0, 0, 0, 0, 0, 0, 0, 0, 0, 0, 0, 0, 0, 0, 0, 0, 0, 0, 0, 0, 0, 0, 0, 0, 0, 0, 0, 0, 0, 0, 0, 0, 0, 0, 0, 0, 0, 0, 0, 0, 0, 0, 0, 0, 0, 0, 0, 0, 0, 0, 0, 0, 0, 0, 0, 0, 0, 0, 0, 0, 0, 0, 0, 0, 0, 0, 0, 0, 0, 0, 0, 0, 0, 0, 0, 0, 0, 0, 0, 0, 0, 0, 0, 0, 0, 0, 0, 0, 0, 0, 0, 0, 0, 0, 0, 0, 0, 0, 0, 0, 0, 0, 0, 0, 0, 0, 0, 0, 0, 0, 0, 0, 0, 0, 0, 0, 0, 0, 0, 0, 0, 0, 0, 0, 0, 0, 0, 0, 0, 0, 0, 0, 0, 0, 0, 0, 0, 0, 0, 0, 0, 0, 0, 0, 0, 0, 0, 0, 0, 0, 0, 0, 0, 0, 0, 0, 0, 0, 0, 0, 0, 0, 0, 0, 0, 0, 0, 0, 0, 0, 0, 0, 0, 0, 0, 0, 0, 0, 0, 0, 0, 0, 0, 0, 0, 0, 0, 0, 0, 0, 0, 0, 0, 0, 0, 0, 0, 0, 0, 0, 0, 0, 0, 0, 0, 0, 0, 0, 0, 0, 0, 0, 0, 0, 0, 0, 0, 0, 0, 0, 0, 0, 0, 0, 0, 0, 0, 0, 0, 0, 0, 0, 0, 0, 0, 0, 0, 0, 0, 0, 0, 0, 0, 0, 0, 0, 0, 0, 0, 0, 0, 0, 0, 0, 0, 0, 0, 0, 0, 0, 0, 0, 0, 0, 0, 0, 0, 0, 0, 0, 0, 0, 0, 0, 0, 0, 0, 0, 0, 0, 0, 0, 0, 0, 0, 0, 0, 0, 0, 0, 0, 0, 0, 0, 0, 0, 0, 0, 0, 0, 0, 0, 0, 0, 0, 0, 0, 0, 0, 0, 0, 0, 0, 0, 0, 0, 0, 0, 0, 0, 0, 0, 0, 0, 0, 0, 0, 0, 0, 0, 0, 0, 0, 0, 0, 0, 0, 0, 0, 0, 0, 0, 0, 0, 0, 0, 0, 0, 0, 0, 0, 0, 0, 0, 0, 0, 0, 0, 0, 0, 0, 0, 0, 0, 0, 0, 0, 0, 0, 0, 0, 0, 0, 0, 0, 0, 0, 0, 0, 0, 0, 0, 0, 0, 0, 0, 0, 0, 0, 0, 0, 0, 0, 0, 0, 0, 0, 0, 0, 0, 0, 0, 0, 0, 0, 0, 0, 0, 0, 0, 0, 0, 0, 0, 0, 0, 0, 0, 0, 0, 0, 0, 0, 0, 0, 0, 0, 0, 0, 0, 0, 0, 0, 0, 0, 0, 0, 0, 0, 0, 0, 0, 0, 0, 0, 0, 0, 0, 0, 0, 0, 0, 0, 0, 0, 0, 0, 0, 0, 0, 0, 0, 0, 0, 0, 0, 0, 0, 0, 0, 0, 0, 0, 0, 0, 0, 0, 0, 0, 0, 0, 0, 0, 0, 0, 0, 0, 0, 0, 0, 0, 0, 0, 0, 0, 0, 0, 0, 0, 0, 0, 0, 0, 0, 0, 0, 0, 0, 0, 0, 0, 0, 0, 0, 0, 0, 0, 0, 0, 0, 0, 0, 0, 0, 0, 0, 0, 0, 0, 0, 0, 0, 0, 0, 0, 0, 0, 0, 0, 0, 0, 0, 0, 0, 0, 0, 0, 0, 0, 0, 0, 0, 0, 0, 0, 0, 0, 0, 0, 0, 0, 0, 0, 0, 0, 0, 0, 0, 0, 0, 0, 0, 0, 0, 0, 0, 0, 0, 0, 0, 0, 0, 0, 0, 0, 0, 0, 0, 0, 0, 0, 0, 0, 0, 0, 0, 0, 0, 0, 0, 0, 0, 0, 0, 0, 0, 0, 0, 0, 0, 0, 0, 0, 0, 0, 0, 0, 0, 0, 0, 0, 0, 0, 0, 0, 0, 0, 0, 0, 0, 0, 0, 0, 0, 0, 0, 0, 0, 0, 0, 0, 0, 0, 0, 0, 0, 0, 0, 0, 0, 0, 0, 0, 0, 0, 0, 0, 0, 0, 0, 0, 0, 0, 0, 0, 0, 0, 0, 0, 0, 0, 0, 0, 0, 0, 0, 0, 0, 0, 0, 0, 0, 0, 0, 0, 0, 0, 0, 0, 0, 0, 0, 0, 0, 0, 0, 0, 0, 0, 0, 0, 0, 0, 0, 0, 0, 0, 0, 0, 0, 0, 0, 0, 0, 0, 0, 0, 0, 0, 0, 0, 0, 0, 0, 0, 0, 0, 0, 0, 0, 0, 0, 0, 0, 0, 0, 0, 0, 0, 0, 0, 0, 0, 0, 0, 0, 0, 0, 0, 0, 0, 0, 0, 0, 0, 0, 0, 0, 0, 0, 0, 0, 0, 0, 0, 0, 0, 0, 0, 0, 0, 0, 0, 0, 0, 0, 0, 0, 0, 0, 0, 0, 0, 0, 0, 0, 0, 0, 0, 0, 0, 0, 0, 0, 0, 0, 0, 0, 0, 0, 0, 0, 0, 0, 0, 0, 0, 0, 0, 0, 0, 0, 0, 0, 0, 0, 0, 0, 0, 0, 0, 0, 0, 0, 0, 0, 0, 0, 0, 0, 0, 0, 0, 0, 0, 0, 0, 0, 0, 0, 0, 0, 0, 0, 0, 0, 0, 0, 0, 0, 0, 0, 0, 0, 0, 0, 0, 0, 0, 0, 0, 0, 0, 0, 0, 0, 0, 0, 0, 0, 0, 0, 0, 0, 0, 0, 0, 0, 0, 0, 0, 0, 0, 0, 0, 0, 0, 0, 0, 0, 0, 0, 0, 0, 0, 0, 0, 0, 0, 0, 0, 0, 0, 0, 0, 0, 0, 0, 0, 0, 0, 0, 0, 0, 0, 0, 0, 0, 0, 0, 0, 0, 0, 0, 0, 0, 0, 0, 0, 0, 0, 0, 0, 0, 0, 0, 0, 0, 0, 0, 0, 0, 0, 0, 0, 0, 0, 0, 0, 0, 0, 0, 0, 0, 0, 0, 0, 0, 0, 0, 0, 0, 0, 0, 0, 0, 0, 0, 0, 0, 0, 0, 0, 0, 0, 0, 0, 0, 0, 0, 0, 0, 0, 0, 0, 0, 0, 0, 0, 0, 0, 0, 0, 0, 0, 0, 0, 0, 0, 0, 0, 0, 0, 0, 0, 0, 0, 0, 0, 0, 0, 0, 0, 0, 0, 0, 0, 0, 0, 0, 0, 0, 0, 0, 0, 0, 0, 0, 0, 0, 0, 0, 0, 0, 0, 0, 0, 0, 0, 0, 0, 0, 0, 0, 0, 0, 0, 0, 0, 0, 0, 0, 0, 0, 0, 0, 0, 0, 0, 0, 0, 0, 0, 0, 0, 0, 0, 0, 0, 0, 0, 0, 0, 0, 0, 0, 0, 0, 0, 0, 0, 0, 0, 0, 0, 0, 0, 0, 0, 0, 0, 0, 0, 0, 0, 0, 0, 0, 0, 0, 0, 0, 0, 0, 0, 0, 0, 0, 0, 0, 0, 0, 0, 0, 0, 0, 0, 0, 0, 0, 0, 0, 0, 0, 0, 0, 0, 0, 0, 0, 0, 0, 0, 0, 0, 0, 0, 0, 0, 0, 0, 0, 0, 0, 0, 0, 0, 0, 0, 0, 0, 0, 0, 0, 0, 0, 0, 0, 0, 0, 0, 0, 0, 0, 0, 0, 0, 0, 0, 0, 0, 0, 0, 0, 0, 0, 0, 0, 0, 0, 0, 0, 0, 0, 0, 0, 0, 0, 0, 0, 0, 0, 0, 0, 0, 0, 0, 0, 0, 0, 0, 0, 0, 0, 0, 0, 0, 0, 0, 0, 0, 0, 0, 0, 0, 0, 0, 0, 0, 0, 0, 0, 0, 0, 0, 0, 0, 0, 0, 0, 0, 0, 0, 0, 0, 0, 0, 0, 0, 0, 0, 0, 0, 0, 0, 0, 0, 0, 0, 0, 0, 0, 0, 0, 0, 0, 0, 0, 0, 0, 0, 0, 0, 0, 0, 0, 0, 0, 0, 0, 0, 0, 0, 0, 0, 0, 0, 0, 0, 0, 0, 0, 0, 0, 0, 0, 0, 0, 0, 0, 0, 0, 0, 0, 0, 0, 0, 0, 0, 0, 0, 0, 0, 0, 0, 0, 0, 0, 0, 0, 0, 0, 0, 0, 0, 0, 0, 0, 0, 0, 0, 0, 0, 0, 0, 0, 0, 0, 0, 0, 0, 0, 0, 0, 0, 0, 0, 0, 0, 0, 0, 0, 0, 0, 0, 0, 0, 0, 0, 0, 0, 0, 0, 0, 0, 0, 0, 0, 0, 0, 0, 0, 0, 0, 0, 0, 0, 0, 0, 0, 0, 0, 0, 0, 0, 0, 0, 0, 0, 0, 0, 0, 0, 0, 0, 0, 0, 0, 0, 0, 0, 0, 0, 0, 0, 0, 0, 0, 0, 0, 0, 0, 0, 0, 0, 0, 0, 0, 0, 0, 0, 0, 0, 0, 0, 0, 0, 0, 0, 0, 0, 0, 0, 0, 0, 0, 0, 0, 0, 0, 0, 0, 0, 0, 0, 0, 0, 0, 0, 0, 0, 0, 0, 0, 0, 0, 0, 0, 0, 0, 0, 0, 0, 0, 0, 0, 0, 0, 0, 0, 0, 0, 0, 0, 0, 0, 0, 0, 0, 0, 0, 0, 0, 0, 0, 0, 0, 0, 0, 0, 0, 0, 0, 0, 0, 0, 0, 0, 0, 0, 0, 0, 0, 0, 0, 0, 0, 0, 0, 0, 0, 0, 0, 0, 0, 0, 0, 0, 0, 0, 0, 0, 0, 0, 0, 0, 0, 0, 0, 0, 0, 0, 0, 0, 0, 0, 0, 0, 0, 0, 0, 0, 0, 0, 0, 0, 0, 0, 0, 0, 0, 0, 0, 0, 0, 0, 0, 0, 0, 0, 0, 0, 0, 0, 0, 0, 0, 0, 0, 0, 0, 0, 0, 0, 0, 0, 0, 0, 0, 0, 0, 0, 0, 0, 0, 0, 0, 0, 0, 0, 0, 0, 0, 0, 0, 0, 0, 0, 0, 0, 0, 0, 0, 0, 0, 0, 0, 0, 0, 0, 0, 0, 0, 0, 0, 0, 0, 0, 0, 0, 0, 0, 0, 0, 0, 0, 0, 0, 0, 0, 0, 0, 0, 0, 0, 0, 0, 0, 0, 0, 0, 0, 0, 0, 0, 0, 0, 0, 0, 0, 0, 0, 0, 0, 0, 0, 0, 0, 0, 0, 0, 0, 0, 0, 0, 0, 0, 0, 0, 0, 0, 0, 0, 0, 0, 0, 0, 0, 0, 0, 0, 0, 0, 0, 0, 0, 0, 0, 0, 0, 0, 0, 0, 0, 0, 0, 0, 0, 0, 0, 0, 0, 0, 0, 0, 0, 0, 0, 0, 0, 0, 0, 0, 0, 0, 0, 0, 0, 0, 0, 0, 0, 0, 0, 0, 0, 0, 0, 0, 0, 0, 0, 0, 0, 0, 0, 0, 0, 0, 0, 0, 0, 0, 0, 0, 0, 0, 0, 0, 0, 0, 0, 0, 0, 0, 0, 0, 0, 0, 0, 0, 0, 0, 0, 0, 0, 0, 0, 0, 0, 0, 0, 0, 0, 0, 0, 0, 0, 0, 0, 0, 0, 0, 0, 0, 0, 0, 0, 0, 0, 0, 0, 0, 0, 0, 0, 0, 0, 0, 0, 0, 0, 0, 0, 0, 0, 0, 0, 0, 0, 0, 0, 0, 0, 0, 0, 0, 0, 0, 0, 0, 0, 0, 0, 0, 0, 0, 0, 0, 0, 0, 0, 0, 0, 0, 0, 0, 0, 0, 0, 0, 0, 0, 0, 0, 0, 0, 0, 0, 0, 0, 0, 0, 0, 0, 0, 0, 0, 0, 0, 0, 0, 0, 0, 0, 0, 0, 0, 0, 0, 0, 0, 0, 0, 0, 0, 0, 0, 0, 0, 0, 0, 0, 0, 0, 0, 0, 0, 0, 0, 0, 0, 0, 0, 0, 0, 0, 0, 0, 0, 0, 0, 0, 0, 0, 0, 0, 0, 0, 0, 0, 0, 0, 0, 0, 0, 0, 0, 0, 0, 0, 0, 0, 0, 0, 0, 0, 0, 0, 0, 0, 0, 0, 0, 0, 0, 0, 0, 0, 0, 0, 0, 0, 0, 0, 0, 0, 0, 0, 0, 0, 0, 0, 0, 0, 0, 0, 0, 0, 0, 0, 0, 0, 0, 0, 0, 0, 0, 0, 0, 0, 0, 0, 0, 0, 0, 0, 0, 0, 0, 0, 0, 0, 0, 0, 0, 0, 0, 0, 0, 0, 0, 0, 0, 0, 0, 0, 0, 0, 0, 0, 0, 0, 0, 0, 0, 0, 0, 0, 0, 0, 0, 0, 0, 0, 0, 0, 0, 0, 0, 0, 0, 0, 0, 0, 0, 0, 0, 0, 0, 0, 0, 0, 0, 0, 0, 0, 0, 0, 0, 0, 0, 0, 0, 0, 0, 0, 0, 0, 0, 0, 0, 0, 0, 0, 0, 0, 0, 0, 0, 0, 0, 0, 0, 0, 0, 0, 0, 0, 0, 0, 0, 0, 0, 0, 0, 0, 0, 0, 0, 0, 0, 0, 0, 0, 0, 0, 0, 0, 0, 0, 0, 0, 0, 0, 0, 0, 0, 0, 0, 0, 0, 0, 0, 0, 0, 0, 0, 0, 0, 0, 0, 0, 0, 0, 0, 0, 0, 0, 0, 0, 0, 0, 0, 0, 0, 0, 0, 0, 0, 0, 0, 0, 0, 0, 0, 0, 0, 0, 0, 0, 0, 0, 0, 0, 0, 0, 0, 0, 0, 0, 0, 0, 0, 0, 0, 0, 0, 0, 0, 0, 0, 0, 0, 0, 0, 0, 0, 0, 0, 0, 0, 0, 0, 0, 0, 0, 0, 0, 0, 0, 0, 0, 0, 0, 0, 0, 0, 0, 0, 0, 0, 0, 0, 0, 0, 0, 0, 0, 0, 0, 0, 0, 0, 0, 0, 0, 0, 0, 0, 0, 0, 0, 0, 0, 0, 0, 0, 0, 0, 0, 0, 0, 0, 0, 0, 0, 0, 0, 0, 0, 0, 0, 0, 0, 0, 0, 0, 0, 0, 0, 0, 0, 0, 0, 0, 0, 0, 0, 0, 0, 0, 0, 0, 0, 0, 0, 0, 0, 0, 0, 0, 0, 0, 0, 0, 0, 0, 0, 0, 0, 0, 0, 0, 0, 0, 0, 0, 0, 0, 0, 0, 0, 0, 0, 0, 0, 0, 0, 0, 0, 0, 0, 0, 0, 0, 0, 0, 0, 0, 0, 0, 0, 0, 0, 0, 0, 0, 0, 0, 0, 0, 0, 0, 0, 0, 0, 0, 0, 0, 0, 0, 0, 0, 0, 0, 0, 0, 0, 0, 0, 0, 0, 0, 0, 0, 0, 0, 0, 0, 0, 0, 0, 0, 0, 0, 0, 0, 0, 0, 0, 0, 0, 0, 0, 0, 0, 0, 0, 0, 0, 0, 0, 0, 0, 0, 0, 0, 0, 0, 0, 0, 0, 0, 0, 0, 0, 0, 0, 0, 0, 0, 0, 0, 0, 0, 0, 0, 0, 0, 0, 0, 0, 0, 0, 0, 0, 0, 0, 0, 0, 0, 0, 0, 0, 0, 0, 0, 0, 0, 0, 0, 0, 0, 0, 0, 0, 0, 0, 0, 0, 0, 0, 0, 0, 0, 0, 0, 0, 0, 0, 0, 0, 0, 0, 0, 0, 0, 0, 0, 0, 0, 0, 0, 0, 0, 0, 0, 0, 0, 0, 0, 0, 0, 0, 0, 0, 0, 0, 0, 0, 0, 0, 0, 0, 0, 0, 0, 0, 0, 0, 0, 0, 0, 0, 0, 0, 0, 0, 0, 0, 0, 0, 0, 0, 0, 0, 0, 0, 0, 0, 0, 0, 0, 0, 0, 0, 0, 0, 0, 0, 0, 0, 0, 0, 0, 0, 0, 0, 0, 0, 0, 0, 0, 0, 0, 0, 0, 0, 0, 0, 0, 0, 0, 0, 0, 0, 0, 0, 0, 0, 0, 0, 0, 0, 0, 0, 0, 0, 0, 0, 0, 0, 0, 0, 0, 0, 0, 0, 0, 0, 0, 0, 0, 0, 0, 0, 0, 0, 0, 0, 0, 0, 0, 0, 0, 0, 0, 0, 0, 0, 0, 0, 0, 0, 0, 0, 0, 0, 0, 0, 0, 0, 0, 0, 0, 0, 0, 0, 0, 0, 0, 0, 0, 0, 0, 0, 0, 0, 0, 0, 0, 0, 0, 0, 0, 0, 0, 0, 0, 0, 0, 0, 0, 0, 0, 0, 0, 0, 0, 0, 0, 0, 0, 0, 0, 0, 0, 0, 0, 0, 0, 0, 0, 0, 0, 0, 0, 0, 0, 0, 0, 0, 0, 0, 0, 0, 0, 0, 0, 0, 0, 0, 0, 0, 0, 0, 0, 0, 0, 0, 0, 0, 0, 0, 0, 0, 0, 0, 0, 0, 0, 0, 0, 0, 0, 0, 0, 0, 0, 0, 0, 0, 0, 0, 0, 0, 0, 0, 0, 0, 0, 0, 0, 0, 0, 0, 0, 0, 0, 0, 0, 0, 0, 0, 0, 0, 0, 0, 0, 0, 0, 0, 0, 0, 0, 0, 0, 0, 0, 0, 0, 0, 0, 0, 0, 0, 0, 0, 0, 0, 0, 0, 0, 0, 0, 0, 0, 0, 0, 0, 0, 0, 0, 0, 0, 0, 0, 0, 0, 0, 0, 0, 0, 0, 0, 0, 0, 0, 0, 0, 0, 0, 0, 0, 0, 0, 0, 0, 0, 0, 0, 0, 0, 0, 0, 0, 0, 0, 0, 0, 0, 0, 0, 0, 0, 0, 0, 0, 0, 0, 0, 0, 0, 0, 0, 0, 0, 0, 0, 0, 0, 0, 0, 0, 0, 0, 0, 0, 0, 0, 0, 0, 0, 0, 0, 0, 0, 0, 0, 0, 0, 0, 0, 0, 0, 0, 0, 0, 0, 0, 0, 0, 0, 0, 0, 0, 0, 0, 0, 0, 0, 0, 0, 0, 0, 0, 0, 0, 0, 0, 0, 0, 0, 0, 0, 0, 0, 0, 0, 0, 0, 0, 0, 0, 0, 0, 0, 0, 0, 0, 0, 0, 0, 0, 0, 0, 0, 0, 0, 0, 0, 0, 0, 0, 0, 0, 0, 0, 0, 0, 0, 0, 0, 0, 0, 0, 0, 0, 0, 0, 0, 0, 0, 0, 0, 0, 0, 0, 0, 0, 0, 0, 0, 0, 0, 0, 0, 0, 0, 0, 0, 0, 0, 0, 0, 0, 0, 0, 0, 0, 0, 0, 0, 0, 0, 0, 0, 0, 0, 0, 0, 0, 0, 0, 0, 0, 0, 0, 0, 0, 0, 0, 0, 0, 0, 0, 0, 0, 0, 0, 0, 0, 0, 0, 0, 0, 0, 0, 0, 0, 0, 0, 0, 0, 0, 0, 0, 0, 0, 0, 0, 0, 0, 0, 0, 0, 0, 0, 0, 0, 0, 0, 0, 0, 0, 0, 0, 0, 0, 0, 0, 0, 0, 0, 0, 0, 0, 0, 0, 0, 0, 0, 0, 0, 0, 0, 0, 0, 0, 0, 0, 0, 0, 0, 0, 0, 0, 0, 0, 0, 0, 0, 0, 0, 0, 0, 0, 0, 0, 0, 0, 0, 0, 0, 0, 0, 0, 0, 0, 0, 0, 0, 0, 0, 0, 0, 0, 0, 0, 0, 0, 0, 0, 0, 0, 0, 0, 0, 0, 0, 0, 0, 0, 0, 0, 0, 0, 0, 0, 0, 0, 0, 0, 0, 0, 0, 0, 0, 0, 0, 0, 0, 0, 0, 0, 0, 0, 0, 0, 0, 0, 0, 0, 0, 0, 0, 0, 0, 0, 0, 0, 0, 0, 0, 0, 0, 0, 0, 0, 0, 0, 0, 0, 0, 0, 0, 0, 0, 0, 0, 0, 0, 0, 0, 0, 0, 0, 0, 0, 0, 0, 0, 0, 0, 0, 0, 0, 0, 0, 0, 0, 0, 0, 0, 0, 0, 0, 0, 0, 0, 0, 0, 0, 0, 0, 0, 0, 0, 0, 0, 0, 0, 0, 0, 0, 0, 0, 0, 0, 0, 0, 0, 0, 0, 0, 0, 0, 0, 0, 0, 0, 0, 0, 0, 0, 0, 0, 0, 0, 0, 0, 0, 0, 0, 0, 0, 0, 0, 0, 0, 0, 0, 0, 0, 0, 0, 0, 0, 0, 0, 0, 0, 0, 0, 0, 0, 0, 0, 0, 0, 0, 0, 0, 0, 0, 0, 0, 0, 0, 0, 0, 0, 0, 0, 0, 0, 0, 0, 0, 0, 0, 0, 0, 0, 0, 0, 0, 0, 0, 0, 0, 0, 0, 0, 0, 0, 0, 0, 0, 0, 0, 0, 0, 0, 0, 0, 0, 0, 0, 0, 0, 0, 0, 0, 0, 0, 0, 0, 0, 0, 0, 0, 0, 0, 0, 0, 0, 0, 0, 0, 0, 0, 0, 0, 0, 0, 0, 0, 0, 0, 0, 0, 0, 0, 0, 0, 0, 0, 0, 0, 0, 0, 0, 0, 0, 0, 0, 0, 0, 0, 0, 0, 0, 0, 0, 0, 0, 0, 0, 0, 0, 0, 0, 0, 0, 0, 0, 0, 0, 0, 0, 0, 0, 0, 0, 0, 0, 0, 0, 0, 0, 0, 0, 0, 0, 0, 0, 0, 0, 0, 0, 0, 0, 0, 0, 0, 0, 0, 0, 0, 0, 0, 0, 0, 0, 0, 0, 0, 0, 0, 0, 0, 0, 0, 0, 0, 0, 0, 0, 0, 0, 0, 0, 0, 0, 0, 0, 0, 0, 0, 0, 0, 0, 0, 0, 0, 0, 0, 0, 0, 0, 0, 0, 0, 0, 0, 0, 0, 0, 0, 0, 0, 0, 0, 0, 0, 0, 0, 0, 0, 0, 0, 0, 0, 0, 0, 0, 0, 0, 0, 0, 0, 0, 0, 0, 0, 0, 0, 0, 0, 0, 0, 0, 0, 0, 0, 0, 0, 0, 0, 0, 0, 0, 0, 0, 0, 0, 0, 0, 0, 0, 0, 0, 0, 0, 0, 0, 0, 0, 0, 0, 0, 0, 0, 0, 0, 0, 0, 0, 0, 0, 0, 0, 0, 0, 0, 0, 0, 0, 0, 0, 0, 0, 0, 0, 0, 0, 0, 0, 0, 0, 0, 0, 0, 0, 0, 0, 0, 0, 0, 0, 0, 0, 0, 0, 0, 0, 0, 0, 0, 0, 0, 0, 0, 0, 0, 0, 0, 0, 0, 0, 0, 0, 0, 0, 0, 0, 0, 0, 0, 0, 0, 0, 0, 0, 0, 0, 0, 0, 0, 0, 0, 0, 0, 0, 0, 0, 0, 0, 0, 0, 0, 0, 0, 0, 0, 0, 0, 0, 0, 0, 0, 0, 0, 0, 0, 0, 0, 0, 0, 0, 0, 0, 0, 0, 0, 0, 0, 0, 0, 0, 0, 0, 0, 0, 0, 0, 0, 0, 0, 0, 0, 0, 0, 0, 0, 0, 0, 0, 0, 0, 0, 0, 0, 0, 0, 0, 0, 0, 0, 0, 0, 0, 0, 0, 0, 0, 0, 0, 0, 0, 0, 0, 0, 0, 0, 0, 0, 0, 0, 0, 0, 0, 0, 0, 0, 0, 0, 0, 0, 0, 0, 0, 0, 0, 0, 0, 0, 0, 0, 0, 0, 0, 0, 0, 0, 0, 0, 0, 0, 0, 0, 0, 0, 0, 0, 0, 0, 0, 0, 0, 0, 0, 0, 0, 0, 0, 0, 0, 0, 0, 0, 0, 0, 0, 0, 0, 0, 0, 0, 0, 0, 0, 0, 0, 0, 0, 0, 0, 0, 0, 0, 0, 0, 0, 0, 0, 0, 0, 0, 0, 0, 0, 0, 0, 0, 0, 0, 0, 0, 0, 0, 0, 0, 0, 0, 0, 0, 0, 0, 0, 0, 0, 0, 0, 0, 0, 0, 0, 0, 0, 0, 0, 0, 0, 0, 0, 0, 0, 0, 0, 0, 0, 0, 0, 0, 0, 0, 0, 0, 0, 0, 0, 0, 0, 0, 0, 0, 0, 0, 0, 0, 0, 0, 0, 0, 0, 0, 0, 0, 0, 0, 0, 0, 0, 0, 0, 0, 0, 0, 0, 0, 0, 0, 0, 0, 0, 0, 0, 0, 0, 0, 0, 0, 0, 0, 0, 0, 0, 0, 0, 0, 0, 0, 0, 0, 0, 0, 0, 0, 0, 0, 0, 0, 0, 0, 0, 0, 0, 0, 0, 0, 0, 0, 0, 0, 0, 0, 0, 0, 0, 0, 0, 0, 0, 0, 0, 0, 0, 0, 0, 0, 0, 0, 0, 0, 0, 0, 0, 0, 0, 0, 0, 0, 0, 0, 0, 0, 0, 0, 0, 0, 0, 0, 0, 0, 0, 0, 0, 0, 0, 0, 0, 0, 0, 0, 0, 0, 0, 0, 0, 0, 0, 0, 0, 0, 0, 0, 0, 0, 0, 0, 0, 0, 0, 0, 0, 0, 0, 0, 0, 0, 0, 0, 0, 0, 0, 0, 0, 0, 0, 0, 0, 0, 0, 0, 0, 0, 0, 0, 0, 0, 0, 0, 0, 0, 0, 0, 0, 0, 0, 0, 0, 0, 0, 0, 0, 0, 0, 0, 0, 0, 0, 0, 0, 0, 0, 0, 0, 0, 0, 0, 0, 0, 0, 0, 0, 0, 0, 0, 0, 0, 0, 0, 0, 0, 0, 0, 0, 0, 0, 0, 0, 0, 0, 0, 0, 0, 0, 0, 0, 0, 0, 0, 0, 0, 0, 0, 0, 0, 0, 0, 0, 0, 0, 0, 0, 0, 0, 0, 0, 0, 0, 0, 0, 0, 0, 0, 0, 0, 0, 0, 0, 0, 0, 0, 0, 0, 0, 0, 0, 0, 0, 0, 0, 0, 0, 0, 0, 0, 0, 0, 0, 0, 0, 0, 0, 0, 0, 0, 0, 0, 0, 0, 0, 0, 0, 0, 0, 0, 0, 0, 0, 0, 0, 0, 0, 0, 0, 0, 0, 0, 0, 0, 0, 0, 0, 0, 0, 0, 0, 0, 0, 0, 0, 0, 0, 0, 0, 0, 0, 0, 0, 0, 0, 0, 0, 0, 0, 0, 0, 0, 0, 0, 0, 0, 0, 0, 0, 0, 0, 0, 0, 0, 0, 0, 0, 0, 0, 0, 0, 0, 0, 0, 0, 0, 0, 0, 0, 0, 0, 0, 0, 0, 0, 0, 0, 0, 0, 0, 0, 0, 0, 0, 0, 0, 0, 0, 0, 0, 0, 0, 0, 0, 0, 0, 0, 0, 0, 0, 0, 0, 0, 0, 0, 0, 0, 0, 0, 0, 0, 0, 0, 0, 0, 0, 0, 0, 0, 0, 0, 0, 0, 0, 0, 0, 0, 0, 0, 0, 0, 0, 0, 0, 0, 0, 0, 0, 0, 0, 0, 0, 0, 0, 0, 0, 0, 0, 0, 0, 0, 0, 0, 0, 0, 0, 0, 0, 0, 0, 0, 0, 0, 0, 0, 0, 0, 0, 0, 0, 0, 0, 0, 0, 0, 0, 0, 0, 0, 0, 0, 0, 0, 0, 0, 0, 0, 0, 0, 0, 0, 0, 0, 0, 0, 0, 0, 0, 0, 0, 0, 0, 0, 0, 0, 0, 0, 0, 0, 0, 0, 0, 0, 0, 0, 0, 0, 0, 0, 0, 0, 0, 0, 0, 0, 0, 0, 0, 0, 0, 0, 0, 0, 0, 0, 0, 0, 0, 0, 0, 0, 0, 0, 0, 0, 0, 0, 0, 0, 0, 0, 0, 0, 0, 0, 0, 0, 0, 0, 0, 0, 0, 0, 0, 0, 0, 0, 0, 0, 0, 0, 0, 0, 0, 0, 0, 0, 0, 0, 0, 0, 0, 0, 0, 0, 0, 0, 0, 0, 0, 0, 0, 0, 0, 0, 0, 0, 0, 0, 0, 0, 0, 0, 0, 0, 0, 0, 0, 0, 0, 0, 0, 0, 0, 0, 0, 0, 0, 0, 0, 0, 0, 0, 0, 0, 0, 0, 0, 0, 0, 0, 0, 0, 0, 0, 0, 0, 0, 0, 0, 0, 0, 0, 0, 0, 0, 0, 0, 0, 0, 0, 0, 0, 0, 0, 0, 0, 0, 0, 0, 0, 0, 0, 0, 0, 0, 0, 0, 0, 0, 0, 0, 0, 0, 0, 0, 0, 0, 0, 0, 0, 0, 0, 0, 0, 0, 0, 0, 0, 0, 0, 0, 0, 0, 0, 0, 0, 0, 0, 0, 0, 0, 0, 0, 0, 0, 0, 0, 0, 0, 0, 0, 0, 0, 0, 0, 0, 0, 0, 0, 0, 0, 0, 0, 0, 0, 0, 0, 0, 0, 0, 0, 0, 0, 0, 0, 0, 0, 0, 0, 0, 0, 0, 0, 0, 0, 0, 0, 0, 0, 0, 0, 0, 0, 0, 0, 0, 0, 0, 0, 0, 0, 0, 0, 0, 0, 0, 0, 0, 0, 0, 0, 0, 0, 0, 0, 0, 0, 0, 0, 0, 0, 0, 0, 0, 0, 0, 0, 0, 0, 0, 0, 0, 0, 0, 0, 0, 0, 0, 0, 0, 0, 0, 0, 0, 0, 0, 0, 0, 0, 0, 0, 0, 0, 0, 0, 0, 0, 0, 0, 0, 0, 0, 0, 0, 0, 0, 0, 0, 0, 0, 0, 0, 0, 0, 0, 0, 0, 0, 0, 0, 0, 0, 0, 0, 0, 0, 0, 0, 0, 0, 0, 0, 0, 0, 0, 0, 0, 0, 0, 0, 0, 0, 0, 0, 0, 0, 0, 0, 0, 0, 0, 0, 0, 0, 0, 0, 0, 0, 0, 0, 0, 0, 0, 0, 0, 0, 0, 0, 0, 0, 0, 0, 0, 0, 0, 0, 0, 0, 0, 0, 0, 0, 0, 0, 0, 0, 0, 0, 0, 0, 0, 0, 0, 0, 0, 0, 0, 0, 0, 0, 0, 0, 0, 0, 0, 0, 0, 0, 0, 0, 0, 0, 0, 0, 0, 0, 0, 0, 0, 0, 0, 0, 0, 0, 0, 0, 0, 0, 0, 0, 0, 0, 0, 0, 0, 0, 0, 0, 0, 0, 0, 0, 0, 0, 0, 0, 0, 0, 0, 0, 0, 0, 0, 0, 0, 0, 0, 0, 0, 0, 0, 0, 0, 0, 0, 0, 0, 0, 0, 0, 0, 0, 0, 0, 0, 0, 0, 0, 0, 0, 0, 0, 0, 0, 0, 0, 0, 0, 0, 0, 0, 0, 0, 0, 0, 0, 0, 0, 0, 0, 0, 0, 0, 0, 0, 0, 0, 0, 0, 0, 0, 0, 0, 0, 0, 0, 0, 0, 0, 0, 0, 0, 0, 0, 0, 0, 0, 0, 0, 0, 0, 0, 0, 0, 0, 0, 0, 0, 0, 0, 0, 0, 0, 0, 0, 0, 0, 0, 0, 0, 0, 0, 0, 0, 0, 0, 0, 0, 0, 0, 0, 0, 0, 0, 0, 0, 0, 0, 0, 0, 0, 0, 0, 0, 0, 0, 0, 0, 0, 0, 0, 0, 0, 0, 0, 0, 0, 0, 0, 0, 0, 0, 0, 0, 0, 0, 0, 0, 0, 0, 0, 0, 0, 0, 0, 0, 0, 0, 0, 0, 0, 0, 0, 0, 0, 0, 0, 0, 0, 0, 0, 0, 0, 0, 0, 0, 0, 0, 0, 0, 0, 0, 0, 0, 0, 0, 0, 0, 0, 0, 0, 0, 0, 0, 0, 0, 0, 0, 0, 0, 0, 0, 0, 0, 0, 0, 0, 0, 0, 0, 0, 0, 0, 0, 0, 0, 0, 0, 0, 0, 0, 0, 0, 0, 0, 0, 0, 0, 0, 0, 0, 0, 0, 0, 0, 0, 0, 0, 0, 0, 0, 0, 0, 0, 0, 0, 0, 0, 0, 0, 0, 0, 0, 0, 0, 0, 0, 0, 0, 0, 0, 0, 0, 0, 0, 0, 0, 0, 0, 0, 0, 0, 0, 0, 0, 0, 0, 0, 0, 0, 0, 0, 0, 0, 0, 0, 0, 0, 0, 0, 0, 0, 0, 0, 0, 0, 0, 0, 0, 0, 0, 0, 0, 0, 0, 0, 0, 0, 0, 0, 0, 0, 0, 0, 0, 0, 0, 0, 0, 0, 0, 0, 0, 0, 0, 0, 0, 0, 0, 0, 0, 0, 0, 0, 0, 0, 0, 0, 0, 0, 0, 0, 0, 0, 0, 0, 0, 0, 0, 0, 0, 0, 0, 0, 0, 0, 0, 0, 0, 0, 0, 0, 0, 0, 0, 0, 0, 0, 0, 0, 0, 0, 0, 0, 0, 0, 0, 0, 0, 0, 0, 0, 0, 0, 0, 0, 0, 0, 0, 0, 0, 0, 0, 0, 0, 0, 0, 0, 0, 0, 0, 0, 0, 0, 0, 0, 0, 0, 0, 0, 0, 0, 0, 0, 0, 0, 0, 0, 0, 0, 0, 0, 0, 0, 0, 0, 0, 0, 0, 0, 0, 0, 0, 0, 0, 0, 0, 0, 0, 0, 0, 0, 0, 0, 0, 0, 0, 0, 0, 0, 0, 0, 0, 0, 0, 0, 0, 0, 0, 0, 0, 0, 0, 0, 0, 0, 0, 0, 0, 0, 0, 0, 0, 0, 0, 0, 0, 0, 0, 0, 0, 0, 0, 0, 0, 0, 0, 0, 0, 0, 0, 0, 0, 0, 0, 0, 0, 0, 0, 0, 0, 0, 0, 0, 0, 0, 0, 0, 0, 0, 0, 0, 0, 0, 0, 0, 0, 0, 0, 0, 0, 0, 0, 0, 0, 0, 0, 0, 0, 0, 0, 0, 0, 0, 0, 0, 0, 0, 0, 0, 0, 0, 0, 0, 0, 0, 0, 0, 0, 0, 0, 0, 0, 0, 0, 0, 0, 0, 0, 0, 0, 0, 0, 0, 0, 0, 0, 0, 0, 0, 0, 0, 0, 0, 0, 0, 0, 0, 0, 0, 0, 0, 0, 0, 0, 0, 0, 0, 0, 0, 0, 0, 0, 0, 0, 0, 0, 0, 0, 0, 0, 0, 0, 0, 0, 0, 0, 0, 0, 0, 0, 0, 0, 0, 0, 0, 0, 0, 0, 0, 0, 0, 0, 0, 0, 0, 0, 0, 0, 0, 0, 0, 0, 0, 0, 0, 0, 0, 0, 0, 0, 0, 0, 0, 0, 0, 0, 0, 0, 0, 0, 0, 0, 0, 0, 0, 0, 0, 0, 0, 0, 0, 0, 0, 0, 0, 0, 0, 0, 0, 0, 0, 0, 0, 0, 0, 0, 0, 0, 0, 0, 0, 0, 0, 0, 0, 0, 0, 0, 0, 0, 0, 0, 0, 0, 0, 0, 0, 0, 0, 0, 0, 0, 0, 0, 0, 0, 0, 0, 0, 0, 0, 0, 0, 0, 0, 0, 0, 0, 0, 0, 0, 0, 0, 0, 0, 0, 0, 0, 0, 0, 0, 0, 0, 0, 0, 0, 0, 0, 0, 0, 0, 0, 0, 0, 0, 0, 0, 0, 0, 0, 0, 0, 0, 0, 0, 0, 0, 0, 0, 0, 0, 0, 0, 0, 0, 0, 0, 0, 0, 0, 0, 0, 0, 0, 0, 0, 0, 0, 0, 0, 0, 0, 0, 0, 0, 0, 0, 0, 0, 0, 0, 0, 0, 0, 0, 0, 0, 0, 0, 0, 0, 0, 0, 0, 0, 0, 0, 0, 0, 0, 0, 0, 0, 0, 0, 0, 0, 0, 0, 0, 0, 0, 0, 0, 0, 0, 0, 0, 0, 0, 0, 0, 0, 0, 0, 0, 0, 0, 0, 0, 0, 0, 0, 0, 0, 0, 0, 0, 0, 0, 0, 0, 0, 0, 0, 0, 0, 0, 0, 0, 0, 0, 0, 0, 0, 0, 0, 0, 0, 0, 0, 0, 0, 0, 0, 0, 0, 0, 0, 0, 0, 0, 0, 0, 0, 0, 0, 0, 0, 0, 0, 0, 0, 0, 0, 0, 0, 0, 0, 0, 0, 0, 0, 0, 0, 0, 0, 0, 0, 0, 0, 0, 0, 0, 0, 0, 0, 0, 0, 0, 0, 0, 0, 0, 0, 0, 0, 0, 0, 0, 0, 0, 0, 0, 0, 0, 0, 0, 0, 0, 0, 0, 0, 0, 0, 0, 0, 0, 0, 0, 0, 0, 0, 0, 0, 0, 0, 0, 0, 0, 0, 0, 0, 0, 0, 0, 0, 0, 0, 0, 0, 0, 0, 0, 0, 0, 0, 0, 0, 0, 0, 0, 0, 0, 0, 0, 0, 0, 0, 0, 0, 0, 0, 0, 0, 0, 0, 0, 0, 0, 0, 0, 0, 0, 0, 0, 0, 0, 0, 0, 0, 0, 0, 0, 0, 0, 0, 0, 0, 0, 0, 0, 0, 0, 0, 0, 0, 0, 0, 0, 0, 0, 0, 0, 0, 0, 0, 0, 0, 0, 0, 0, 0, 0, 0, 0, 0, 0, 0, 0, 0, 0, 0, 0, 0, 0, 0, 0, 0, 0, 0, 0, 0, 0, 0, 0, 0, 0, 0, 0, 0, 0, 0, 0, 0, 0, 0, 0, 0, 0, 0, 0, 0, 0, 0, 0, 0, 0, 0, 0, 0, 0, 0, 0, 0, 0, 0, 0, 0, 0, 0, 0, 0, 0, 0, 0, 0, 0, 0, 0, 0, 0, 0, 0, 0, 0, 0, 0, 0, 0, 0, 0, 0, 0, 0, 0, 0, 0, 0, 0, 0, 0, 0, 0, 0, 0, 0, 0, 0, 0, 0, 0, 0, 0, 0, 0, 0, 0, 0, 0, 0, 0, 0, 0, 0, 0, 0, 0, 0, 0, 0, 0, 0, 0, 0, 0, 0, 0, 0, 0, 0, 0, 0, 0, 0, 0, 0, 0, 0, 0, 0, 0, 0, 0, 0, 0, 0, 0, 0, 0, 0, 0, 0, 0, 0, 0, 0, 0, 0, 0, 0, 0, 0, 0, 0, 0, 0, 0, 0, 0, 0, 0, 0, 0, 0, 0, 0, 0, 0, 0, 0, 0, 0, 0, 0, 0, 0, 0, 0, 0, 0, 0, 0, 0, 0, 0, 0, 0, 0, 0, 0, 0, 0, 0, 0, 0, 0, 0, 0, 0, 0, 0, 0, 0, 0, 0, 0, 0, 0, 0, 0, 0, 0, 0, 0, 0, 0, 0, 0, 0, 0, 0, 0, 0, 0, 0, 0, 0, 0, 0, 0, 0, 0, 0, 0, 0, 0, 0, 0, 0, 0, 0, 0, 0, 0, 0, 0, 0, 0, 0, 0, 0, 0, 0, 0, 0, 0, 0, 0, 0, 0, 0, 0, 0, 0, 0, 0, 0, 0, 0, 0, 0, 0, 0, 0, 0, 0, 0, 0, 0, 0, 0, 0, 0, 0, 0, 0, 0, 0, 0, 0, 0, 0, 0, 0, 0, 0, 0, 0, 0, 0, 0, 0, 0, 0, 0, 0, 0, 0, 0, 0, 0, 0, 0, 0, 0, 0, 0, 0, 0, 0, 0, 0, 0, 0, 0, 0, 0, 0, 0, 0, 0, 0, 0, 0, 0, 0, 0, 0, 0, 0, 0, 0, 0, 0, 0, 0, 0, 0, 0, 0, 0, 0, 0, 0, 0, 0, 0, 0, 0, 0, 0, 0, 0, 0, 0, 0, 0, 0, 0, 0, 0, 0, 0, 0, 0, 0, 0, 0, 0, 0, 0, 0, 0, 0, 0, 0, 0, 0, 0, 0, 0, 0, 0, 0, 0, 0, 0, 0, 0, 0, 0, 0, 0, 0, 0, 0, 0, 0, 0, 0, 0, 0, 0, 0, 0, 0, 0, 0, 0, 0, 0, 0, 0, 0, 0, 0, 0, 0, 0, 0, 0, 0, 0, 0, 0, 0, 0, 0, 0, 0, 0, 0, 0, 0, 0, 0, 0, 0, 0, 0, 0, 0, 0, 0, 0, 0, 0, 0, 0, 0, 0, 0, 0, 0, 0, 0, 0, 0, 0, 0, 0, 0, 0, 0, 0, 0, 0, 0, 0, 0, 0, 0, 0, 0, 0, 0, 0, 0, 0, 0, 0, 0, 0, 0, 0, 0, 0, 0, 0, 0, 0, 0, 0, 0, 0, 0, 0, 0, 0, 0, 0, 0, 0, 0, 0, 0, 0, 0, 0, 0, 0, 0, 0, 0, 0, 0, 0, 0, 0, 0, 0, 0, 0, 0, 0, 0, 0, 0, 0, 0, 0, 0, 0, 0, 0, 0, 0, 0, 0, 0, 0, 0, 0, 0, 0, 0, 0, 0, 0, 0, 0, 0, 0, 0, 0, 0, 0, 0, 0, 0, 0, 0, 0, 0, 0, 0, 0, 0, 0, 0, 0, 0, 0, 0, 0, 0, 0, 0, 0, 0, 0, 0, 0, 0, 0, 0, 0, 0, 0, 0, 0, 0, 0, 0, 0, 0, 0, 0, 0, 0, 0, 0, 0, 0, 0, 0, 0, 0, 0, 0, 0, 0, 0, 0, 0, 0, 0, 0, 0, 0, 0, 0, 0, 0, 0, 0, 0, 0, 0, 0, 0, 0, 0, 0, 0, 0, 0, 0, 0, 0, 0, 0, 0, 0, 0, 0, 0, 0, 0, 0, 0, 0, 0, 0, 0, 0, 0, 0, 0, 0, 0, 0, 0, 0, 0, 0, 0, 0, 0, 0, 0, 0, 0, 0, 0, 0, 0, 0, 0, 0, 0, 0, 0, 0, 0, 0, 0, 0, 0, 0, 0, 0, 0, 0, 0, 0, 0, 0, 0, 0, 0, 0, 0, 0, 0, 0, 0, 0, 0, 0, 0, 0, 0, 0, 0, 0, 0, 0, 0, 0, 0, 0, 0, 0, 0, 0, 0, 0, 0, 0, 0, 0, 0, 0, 0, 0, 0, 0, 0, 0, 0, 0, 0, 0, 0, 0, 0, 0, 0, 0, 0, 0, 0, 0, 0, 0, 0, 0, 0, 0, 0, 0, 0, 0, 0, 0, 0, 0, 0, 0, 0, 0, 0, 0, 0, 0, 0, 0, 0, 0, 0, 0, 0, 0, 0, 0, 0, 0, 0, 0, 0, 0, 0, 0, 0, 0, 0, 0, 0, 0, 0, 0, 0, 0, 0, 0, 0, 0, 0, 0, 0, 0, 0, 0, 0, 0, 0, 0, 0, 0, 0, 0, 0, 0, 0, 0, 0, 0, 0, 0, 0, 0, 0, 0, 0, 0, 0, 0, 0, 0, 0, 0, 0, 0, 0, 0, 0, 0, 0, 0, 0, 0, 0, 0, 0, 0, 0, 0, 0, 0, 0, 0, 0, 0, 0, 0, 0, 0, 0, 0, 0, 0, 0, 0, 0, 0, 0, 0, 0, 0, 0, 0, 0, 0, 0, 0, 0, 0, 0, 0, 0, 0, 0, 0, 0, 0, 0, 0, 0, 0, 0, 0, 0, 0, 0, 0, 0, 0, 0, 0, 0, 0, 0, 0, 0, 0, 0, 0, 0, 0, 0, 0, 0, 0, 0, 0, 0, 0, 0, 0, 0, 0, 0, 0, 0, 0, 0, 0, 0, 0, 0, 0, 0, 0, 0, 0, 0, 0, 0, 0, 0, 0, 0, 0, 0, 0, 0, 0, 0, 0, 0, 0, 0, 0, 0, 0, 0, 0, 0, 0, 0, 0, 0, 0, 0, 0, 0, 0, 0, 0, 0, 0, 0, 0, 0, 0, 0, 0, 0, 0, 0, 0, 0, 0, 0, 0, 0, 0, 0, 0, 0, 0, 0, 0, 0, 0, 0, 0, 0, 0, 0, 0, 0, 0, 0, 0, 0, 0, 0, 0, 0, 0, 0, 0, 0, 0, 0, 0, 0, 0, 0, 0, 0, 0, 0, 0, 0, 0, 0, 0, 0, 0, 0, 0, 0, 0, 0, 0, 0, 0, 0, 0, 0, 0, 0, 0, 0, 0, 0, 0, 0, 0, 0, 0, 0, 0, 0, 0, 0, 0, 0, 0, 0, 0, 0, 0, 0, 0, 0, 0, 0, 0, 0, 0, 0, 0, 0, 0, 0, 0, 0, 0, 0, 0, 0, 0, 0, 0, 0, 0, 0, 0, 0, 0, 0, 0, 0, 0, 0, 0, 0, 0, 0, 0, 0, 0, 0, 0, 0, 0, 0, 0, 0, 0, 0, 0, 0, 0, 0, 0, 0, 0, 0, 0, 0, 0, 0, 0, 0, 0, 0, 0, 0, 0, 0, 0, 0, 0, 0, 0, 0, 0, 0, 0, 0, 0, 0, 0, 0, 0, 0, 0, 0, 0, 0, 0, 0, 0, 0, 0, 0, 0, 0, 0, 0, 0, 0, 0, 0, 0, 0, 0, 0, 0, 0, 0, 0, 0, 0, 0, 0, 0, 0, 0, 0, 0, 0, 0, 0, 0, 0, 0, 0, 0, 0, 0, 0, 0, 0, 0, 0, 0, 0, 0, 0, 0, 0, 0, 0, 0, 0, 0, 0, 0, 0, 0, 0, 0, 0, 0, 0, 0, 0, 0, 0, 0, 0, 0, 0, 0, 0, 0, 0, 0, 0, 0, 0, 0, 0, 0, 0, 0, 0, 0, 0, 0, 0, 0, 0, 0, 0, 0, 0, 0, 0, 0, 0, 0, 0, 0, 0, 0, 0, 0, 0, 0, 0, 0, 0, 0, 0, 0, 0, 0, 0, 0, 0, 0, 0, 0, 0, 0, 0, 0, 0, 0, 0, 0, 0, 0, 0, 0, 0, 0, 0, 0, 0, 0, 0, 0, 0, 0, 0, 0, 0, 0, 0, 0, 0, 0, 0, 0, 0, 0, 0, 0, 0, 0, 0, 0, 0, 0, 0, 0, 0, 0, 0, 0, 0, 0, 0, 0, 0, 0, 0, 0, 0, 0, 0, 0, 0, 0, 0, 0, 0, 0, 0, 0, 0, 0, 0, 0, 0, 0, 0, 0, 0, 0, 0, 0, 0, 0, 0, 0, 0, 0, 0, 0, 0, 0, 0, 0, 0, 0, 0, 0, 0, 0, 0, 0, 0, 0, 0, 0, 0, 0, 0, 0, 0, 0, 0, 0, 0, 0, 0, 0, 0, 0, 0, 0, 0, 0, 0, 0, 0, 0, 0, 0, 0, 0, 0, 0, 0, 0, 0, 0, 0, 0, 0, 0, 0, 0, 0, 0, 0, 0, 0, 0, 0, 0, 0, 0, 0, 0, 0, 0, 0, 0, 0, 0, 0, 0, 0, 0, 0, 0, 0, 0, 0, 0, 0, 0, 0, 0, 0, 0, 0, 0, 0, 0, 0, 0, 0, 0, 0, 0, 0, 0, 0, 0, 0, 0, 0, 0, 0, 0, 0, 0, 0, 0, 0, 0, 0, 0, 0, 0, 0, 0, 0, 0, 0, 0, 0, 0, 0, 0, 0, 0, 0, 0, 0, 0, 0, 0, 0, 0, 0, 0, 0, 0, 0, 0, 0, 0, 0, 0, 0, 0, 0, 0, 0, 0, 0, 0, 0, 0, 0, 0, 0, 0, 0, 0, 0, 0, 0, 0, 0, 0, 0, 0, 0, 0, 0, 0, 0, 0, 0, 0, 0, 0, 0, 0, 0, 0, 0, 0, 0, 0, 0, 0, 0, 0, 0, 0, 0, 0, 0, 0, 0, 0, 0, 0, 0, 0, 0, 0, 0, 0, 0, 0, 0, 0, 0, 0, 0, 0, 0, 0, 0, 0, 0, 0, 0, 0, 0, 0, 0, 0, 0, 0, 0, 0, 0, 0, 0, 0, 0, 0, 0, 0, 0, 0, 0, 0, 0, 0, 0, 0, 0, 0, 0, 0, 0, 0, 0, 0, 0, 0, 0, 0, 0, 0, 0, 0, 0, 0, 0, 0, 0, 0, 0, 0, 0, 0, 0, 0, 0, 0, 0, 0, 0, 0, 0, 0, 0, 0, 0, 0, 0, 0, 0, 0, 0, 0, 0, 0, 0, 0, 0, 0, 0, 0, 0, 0, 0, 0, 0, 0, 0, 0, 0, 0, 0, 0, 0, 0, 0, 0, 0, 0, 0, 0, 0, 0, 0, 0, 0, 0, 0, 0, 0, 0, 0, 0, 0, 0, 0, 0, 0, 0, 0, 0, 0, 0, 0, 0, 0, 0, 0, 0, 0, 0, 0, 0, 0, 0, 0, 0, 0, 0, 0, 0, 0, 0, 0, 0, 0, 0, 0, 0, 0, 0, 0, 0, 0, 0, 0, 0, 0, 0, 0, 0, 0, 0, 0, 0, 0, 0, 0, 0, 0, 0, 0, 0, 0, 0, 0, 0, 0, 0, 0, 0, 0, 0, 0, 0, 0, 0, 0, 0, 0, 0, 0, 0, 0, 0, 0, 0, 0, 0, 0, 0, 0, 0, 0, 0, 0, 0, 0, 0, 0, 0, 0, 0, 0, 0, 0, 0, 0, 0, 0, 0, 0, 0, 0, 0, 0, 0, 0, 0, 0, 0, 0, 0, 0, 0, 0, 0, 0, 0, 0, 0, 0, 0, 0, 0, 0, 0, 0, 0, 0, 0, 0, 0, 0, 0, 0, 0, 0, 0, 0, 0, 0, 0, 0, 0, 0, 0, 0, 0, 0, 0, 0, 0, 0, 0, 0, 0, 0, 0, 0, 0, 0, 0, 0, 0, 0, 0, 0, 0, 0, 0, 0, 0, 0, 0, 0, 0, 0, 0, 0, 0, 0]\n"
          ]
        }
      ],
      "source": [
        "print(my_tfdif_values_test[1])"
      ]
    },
    {
      "cell_type": "code",
      "execution_count": 34,
      "metadata": {},
      "outputs": [
        {
          "name": "stdout",
          "output_type": "stream",
          "text": [
            "9224\n",
            "866\n",
            "write\n"
          ]
        }
      ],
      "source": [
        "print(len(my_tfdif.test_values()[0]))\n",
        "print(len(tfidf_train[0]))\n",
        "print(feature_names[855])"
      ]
    },
    {
      "cell_type": "code",
      "execution_count": 60,
      "metadata": {
        "colab": {
          "base_uri": "https://localhost:8080/"
        },
        "id": "U-dNAyn7DwIe",
        "outputId": "f2ee2785-7407-459c-9e2b-bd2e30e28d47"
      },
      "outputs": [
        {
          "ename": "AttributeError",
          "evalue": "'numpy.ndarray' object has no attribute 'lower'",
          "output_type": "error",
          "traceback": [
            "\u001b[1;31m---------------------------------------------------------------------------\u001b[0m",
            "\u001b[1;31mAttributeError\u001b[0m                            Traceback (most recent call last)",
            "\u001b[1;32mc:\\Users\\steven htut\\OneDrive - University of Bath\\Desktop\\uni\\yr_3\\NLP\\assignment\\built_in_NB_+tfidif.ipynb Cell 17\u001b[0m line \u001b[0;36m<cell line: 2>\u001b[1;34m()\u001b[0m\n\u001b[0;32m      <a href='vscode-notebook-cell:/c%3A/Users/steven%20htut/OneDrive%20-%20University%20of%20Bath/Desktop/uni/yr_3/NLP/assignment/built_in_NB_%2Btfidif.ipynb#X20sZmlsZQ%3D%3D?line=0'>1</a>\u001b[0m tfidf \u001b[39m=\u001b[39m TfidfVectorizer()\u001b[39m.\u001b[39mfit(processed_data)\n\u001b[1;32m----> <a href='vscode-notebook-cell:/c%3A/Users/steven%20htut/OneDrive%20-%20University%20of%20Bath/Desktop/uni/yr_3/NLP/assignment/built_in_NB_%2Btfidif.ipynb#X20sZmlsZQ%3D%3D?line=1'>2</a>\u001b[0m tfidf_train \u001b[39m=\u001b[39m tfidf\u001b[39m.\u001b[39;49mtransform(X_train)\u001b[39m.\u001b[39mtoarray()\n\u001b[0;32m      <a href='vscode-notebook-cell:/c%3A/Users/steven%20htut/OneDrive%20-%20University%20of%20Bath/Desktop/uni/yr_3/NLP/assignment/built_in_NB_%2Btfidif.ipynb#X20sZmlsZQ%3D%3D?line=2'>3</a>\u001b[0m \u001b[39mprint\u001b[39m(\u001b[39mtype\u001b[39m(tfidf_train))\n\u001b[0;32m      <a href='vscode-notebook-cell:/c%3A/Users/steven%20htut/OneDrive%20-%20University%20of%20Bath/Desktop/uni/yr_3/NLP/assignment/built_in_NB_%2Btfidif.ipynb#X20sZmlsZQ%3D%3D?line=4'>5</a>\u001b[0m feature_names \u001b[39m=\u001b[39m tfidf\u001b[39m.\u001b[39mget_feature_names_out()\n",
            "File \u001b[1;32mc:\\Users\\steven htut\\AppData\\Local\\Programs\\Python\\Python310\\lib\\site-packages\\sklearn\\feature_extraction\\text.py:2163\u001b[0m, in \u001b[0;36mTfidfVectorizer.transform\u001b[1;34m(self, raw_documents)\u001b[0m\n\u001b[0;32m   2146\u001b[0m \u001b[39m\"\"\"Transform documents to document-term matrix.\u001b[39;00m\n\u001b[0;32m   2147\u001b[0m \n\u001b[0;32m   2148\u001b[0m \u001b[39mUses the vocabulary and document frequencies (df) learned by fit (or\u001b[39;00m\n\u001b[1;32m   (...)\u001b[0m\n\u001b[0;32m   2159\u001b[0m \u001b[39m    Tf-idf-weighted document-term matrix.\u001b[39;00m\n\u001b[0;32m   2160\u001b[0m \u001b[39m\"\"\"\u001b[39;00m\n\u001b[0;32m   2161\u001b[0m check_is_fitted(\u001b[39mself\u001b[39m, msg\u001b[39m=\u001b[39m\u001b[39m\"\u001b[39m\u001b[39mThe TF-IDF vectorizer is not fitted\u001b[39m\u001b[39m\"\u001b[39m)\n\u001b[1;32m-> 2163\u001b[0m X \u001b[39m=\u001b[39m \u001b[39msuper\u001b[39;49m()\u001b[39m.\u001b[39;49mtransform(raw_documents)\n\u001b[0;32m   2164\u001b[0m \u001b[39mreturn\u001b[39;00m \u001b[39mself\u001b[39m\u001b[39m.\u001b[39m_tfidf\u001b[39m.\u001b[39mtransform(X, copy\u001b[39m=\u001b[39m\u001b[39mFalse\u001b[39;00m)\n",
            "File \u001b[1;32mc:\\Users\\steven htut\\AppData\\Local\\Programs\\Python\\Python310\\lib\\site-packages\\sklearn\\feature_extraction\\text.py:1434\u001b[0m, in \u001b[0;36mCountVectorizer.transform\u001b[1;34m(self, raw_documents)\u001b[0m\n\u001b[0;32m   1431\u001b[0m \u001b[39mself\u001b[39m\u001b[39m.\u001b[39m_check_vocabulary()\n\u001b[0;32m   1433\u001b[0m \u001b[39m# use the same matrix-building strategy as fit_transform\u001b[39;00m\n\u001b[1;32m-> 1434\u001b[0m _, X \u001b[39m=\u001b[39m \u001b[39mself\u001b[39;49m\u001b[39m.\u001b[39;49m_count_vocab(raw_documents, fixed_vocab\u001b[39m=\u001b[39;49m\u001b[39mTrue\u001b[39;49;00m)\n\u001b[0;32m   1435\u001b[0m \u001b[39mif\u001b[39;00m \u001b[39mself\u001b[39m\u001b[39m.\u001b[39mbinary:\n\u001b[0;32m   1436\u001b[0m     X\u001b[39m.\u001b[39mdata\u001b[39m.\u001b[39mfill(\u001b[39m1\u001b[39m)\n",
            "File \u001b[1;32mc:\\Users\\steven htut\\AppData\\Local\\Programs\\Python\\Python310\\lib\\site-packages\\sklearn\\feature_extraction\\text.py:1276\u001b[0m, in \u001b[0;36mCountVectorizer._count_vocab\u001b[1;34m(self, raw_documents, fixed_vocab)\u001b[0m\n\u001b[0;32m   1274\u001b[0m \u001b[39mfor\u001b[39;00m doc \u001b[39min\u001b[39;00m raw_documents:\n\u001b[0;32m   1275\u001b[0m     feature_counter \u001b[39m=\u001b[39m {}\n\u001b[1;32m-> 1276\u001b[0m     \u001b[39mfor\u001b[39;00m feature \u001b[39min\u001b[39;00m analyze(doc):\n\u001b[0;32m   1277\u001b[0m         \u001b[39mtry\u001b[39;00m:\n\u001b[0;32m   1278\u001b[0m             feature_idx \u001b[39m=\u001b[39m vocabulary[feature]\n",
            "File \u001b[1;32mc:\\Users\\steven htut\\AppData\\Local\\Programs\\Python\\Python310\\lib\\site-packages\\sklearn\\feature_extraction\\text.py:110\u001b[0m, in \u001b[0;36m_analyze\u001b[1;34m(doc, analyzer, tokenizer, ngrams, preprocessor, decoder, stop_words)\u001b[0m\n\u001b[0;32m    108\u001b[0m \u001b[39melse\u001b[39;00m:\n\u001b[0;32m    109\u001b[0m     \u001b[39mif\u001b[39;00m preprocessor \u001b[39mis\u001b[39;00m \u001b[39mnot\u001b[39;00m \u001b[39mNone\u001b[39;00m:\n\u001b[1;32m--> 110\u001b[0m         doc \u001b[39m=\u001b[39m preprocessor(doc)\n\u001b[0;32m    111\u001b[0m     \u001b[39mif\u001b[39;00m tokenizer \u001b[39mis\u001b[39;00m \u001b[39mnot\u001b[39;00m \u001b[39mNone\u001b[39;00m:\n\u001b[0;32m    112\u001b[0m         doc \u001b[39m=\u001b[39m tokenizer(doc)\n",
            "File \u001b[1;32mc:\\Users\\steven htut\\AppData\\Local\\Programs\\Python\\Python310\\lib\\site-packages\\sklearn\\feature_extraction\\text.py:68\u001b[0m, in \u001b[0;36m_preprocess\u001b[1;34m(doc, accent_function, lower)\u001b[0m\n\u001b[0;32m     49\u001b[0m \u001b[39m\"\"\"Chain together an optional series of text preprocessing steps to\u001b[39;00m\n\u001b[0;32m     50\u001b[0m \u001b[39mapply to a document.\u001b[39;00m\n\u001b[0;32m     51\u001b[0m \n\u001b[1;32m   (...)\u001b[0m\n\u001b[0;32m     65\u001b[0m \u001b[39m    preprocessed string\u001b[39;00m\n\u001b[0;32m     66\u001b[0m \u001b[39m\"\"\"\u001b[39;00m\n\u001b[0;32m     67\u001b[0m \u001b[39mif\u001b[39;00m lower:\n\u001b[1;32m---> 68\u001b[0m     doc \u001b[39m=\u001b[39m doc\u001b[39m.\u001b[39;49mlower()\n\u001b[0;32m     69\u001b[0m \u001b[39mif\u001b[39;00m accent_function \u001b[39mis\u001b[39;00m \u001b[39mnot\u001b[39;00m \u001b[39mNone\u001b[39;00m:\n\u001b[0;32m     70\u001b[0m     doc \u001b[39m=\u001b[39m accent_function(doc)\n",
            "\u001b[1;31mAttributeError\u001b[0m: 'numpy.ndarray' object has no attribute 'lower'"
          ]
        }
      ],
      "source": [
        "\n",
        "\n",
        "tfidf = TfidfVectorizer().fit(processed_data)\n",
        "tfidf_train = tfidf.transform(X_train).toarray()\n",
        "print(type(tfidf_train))\n",
        "\n",
        "feature_names = tfidf.get_feature_names_out()\n",
        "print(len(feature_names))\n",
        "tfidf_test = tfidf.transform(X_test).toarray()\n",
        "NB = GaussianNB()\n",
        "NB.fit(tfidf_train, y_train)\n",
        "predicted_NB = NB.predict(tfidf_test)\n",
        "print(classification_report(y_test, predicted_NB))"
      ]
    },
    {
      "cell_type": "code",
      "execution_count": 76,
      "metadata": {},
      "outputs": [
        {
          "name": "stdout",
          "output_type": "stream",
          "text": [
            "astupidbet anissuefor andFumes(Teddy beforelosingher beforelosingit theloveconnection willinspireyou it'sliketo agreementslikehe it'slikehaving betlikeall itlikeMonopoly alostcause flight,killor slapstickworksuch arichman beingrichwhere allrichpeople oncetreasureto atenderside avagrantafter sissyrival(Jeffery somethingvaluablebefore whileworryingabout orworryingif\n",
            "onlygoodthing beenlike(say thisdarkprivate notbelievablefor malebondageand andtorturepictures isweakand agreatsense wasgreatand verypoorattempt\n",
            "physicallydangerousfor agoodactress sobrilliantlyportrayed sufferedhorrificabuse whosufferedhorrific \"LittleMissSunshine\". it'sscarytoo.. movieslike\"Little islikethis, It'sincrediblethat good,darkfilm theconfusedfeelings staringrightat horrificabuseand (yetwellreviewed) despitemediocrereviews farcryfrom AcademyAward(as astrangefeeling thesedumbcomedies serialkilleror Godblesshim, hisbestwork, herbestdramatic thebestactresses offraudthat\n",
            "bethrillingand thestiffupper howslowit itlacksany ofpowerfulmen's ispainfullyand andexcruciatinglyslow, almostshockingthat cast.Blameit poorplotand aboringmess, evenworsepacing. amurderinvestigation anddevoidof It'ssadthat anythrillsor thepoorplot astrongcast.\n",
            "Likeone somethinglikethe oflikea wasbadediting afalseclimax. awastebecause agreatmovie\n",
            "anoutsideron agoodone? Aregrettablydreadful expectedbetterof scenedronesby totitillatethe worn-outplotof worn-outplotof regrettablydreadfulmovie. anoutstandingcase, amurdercase completelyunnecessary--\n",
            "sostupidthat 2.WonderfulActing? oftensubjectedto brokefreefrom 3.Excellentdirection? notlikethe YOUlikethe theplotis theplotdid increasinglytroubledby wasmoodyand I'llcomplainabout toowelldone. anexceptionallylow willamazeyou, beprettypicky, beenledto 1.Greatplot? editing?Greatall messy,fast-pacedcamera-work agobrokefree quitefaithfulto reallyappreciatewhen post.Enjoythe thecourageto\n",
            "moviemonsterplayed inturmoilmovie. ofworkmovie movie.Plotconcerns savinggracefor sciencefictionmovie. DragstripHollowis Plotconcernsa\n",
            "excepted),cheesymild (Karloffnotablyexcepted), thisenjoyablyawful ugly,washed-outcinematography, officerheroand cheapiefrightflick elderlyeccentricpatriarch oddlyamusingratty thehatefulguests thedashingpolice anddignifiedperformance henceoddlyamusing grossfatslob rousingfieryconclusion petty,greedyand gettingbumpedoff tokenmoodyperiod hisillustriouscareer largelylousyacting hiscreepyrundown blastedrightin ThelegendaryBoris \"Tintorera\"infamyportrays ridiculousmurderset andbackbitingno-count enjoyablyawfullemon bylethallife-sized will.Prettysoon getsblastedright awfullemona solelikablefemale cinematography,ridiculousmurder score,morbidgloom-doom (agrossfat gore,poordubbing\n",
            "fewamusingdouble moviecheatsus aspotlessnetherworld, wholikedto mostlyconcernedwith somemindlessfun. biggestsina obviouslyfondof somefreshair\"...Dad: autofanaticgetting\n"
          ]
        }
      ],
      "source": [
        "for x in range(5):\n",
        "    sentence = df_negative_reviews.loc[x+2000][\"Text\"]\n",
        "    sentence_ = df_positive_reviews.loc[x][\"Text\"]\n",
        "\n",
        "    features = sliding_window_sentences(sentence,words,2)\n",
        "    features_ = sliding_window_sentences(sentence_,words,2)\n",
        "    print(' '.join(features))\n",
        "    print(' '.join(features_))\n"
      ]
    },
    {
      "cell_type": "code",
      "execution_count": 61,
      "metadata": {},
      "outputs": [
        {
          "name": "stdout",
          "output_type": "stream",
          "text": [
            "corpus is4000\n"
          ]
        }
      ],
      "source": [
        "from TFIDF import TFIDF\n",
        "\n",
        "my_tfdif = TFIDF()\n",
        "my_tfdif.fit(processed_data)\n",
        "processed_data = my_tfdif.test_values()"
      ]
    },
    {
      "cell_type": "code",
      "execution_count": 57,
      "metadata": {},
      "outputs": [],
      "source": [
        "X_train, X_test, y_train, y_test = train_test_split(processed_data, subset_labels,\n",
        "                                                    test_size=0.2,\n",
        "                                                    random_state=0,\n",
        "                                                    stratify=subset_labels)\n",
        "\n"
      ]
    },
    {
      "cell_type": "code",
      "execution_count": 58,
      "metadata": {},
      "outputs": [
        {
          "name": "stdout",
          "output_type": "stream",
          "text": [
            "800\n",
            "800\n",
            "              precision    recall  f1-score   support\n",
            "\n",
            "           0       0.72      0.74      0.73       100\n",
            "           1       0.73      0.71      0.72       100\n",
            "\n",
            "    accuracy                           0.73       200\n",
            "   macro avg       0.73      0.72      0.72       200\n",
            "weighted avg       0.73      0.72      0.72       200\n",
            "\n"
          ]
        }
      ],
      "source": [
        "NB = GaussianNB()\n",
        "NB.fit(X_train, y_train)\n",
        "predicted_NB = NB.predict(X_test)\n",
        "print(len(X_train))\n",
        "print(len(y_train))\n",
        "print(classification_report(y_test, predicted_NB))"
      ]
    }
  ],
  "metadata": {
    "accelerator": "GPU",
    "colab": {
      "gpuType": "T4",
      "provenance": [],
      "toc_visible": true
    },
    "kernelspec": {
      "display_name": "Python 3",
      "name": "python3"
    },
    "language_info": {
      "codemirror_mode": {
        "name": "ipython",
        "version": 3
      },
      "file_extension": ".py",
      "mimetype": "text/x-python",
      "name": "python",
      "nbconvert_exporter": "python",
      "pygments_lexer": "ipython3",
      "version": "3.10.5"
    }
  },
  "nbformat": 4,
  "nbformat_minor": 0
}
